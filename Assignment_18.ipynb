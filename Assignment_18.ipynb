{
 "cells": [
  {
   "cell_type": "markdown",
   "id": "cb5393c4-438d-4219-b0b9-0483271f074f",
   "metadata": {},
   "source": [
    "# Q1. Describe the differences between text and binary files in a single paragraph.\n",
    "\n",
    "A text file is a file that contains text in the form of characters, usually encoded in a specific format such as ASCII or Unicode. Text files can be easily opened and read by any text editor or word processor. On the other hand, binary files contain data in the form of bytes, which can represent any kind of information such as images, audio, or executable code. Binary files cannot be easily opened and read by humans, and usually require specialized software to interpret the data.\n",
    "\n",
    "Code example:\n",
    "\n",
    "To open a text file in Python, we can use the built-in open() function with the mode argument set to 'r' (read):"
   ]
  },
  {
   "cell_type": "code",
   "execution_count": 3,
   "id": "06c1302c-9af5-416a-8681-2f20425d04e7",
   "metadata": {},
   "outputs": [],
   "source": [
    "with open('file.txt', 'w') as f:\n",
    "    f.write('This is a text file.')\n"
   ]
  },
  {
   "cell_type": "code",
   "execution_count": 4,
   "id": "4b28d151-3ab2-4ce3-9171-d5242eef4f45",
   "metadata": {},
   "outputs": [
    {
     "name": "stdout",
     "output_type": "stream",
     "text": [
      "This is a text file.\n"
     ]
    }
   ],
   "source": [
    "with open('file.txt', 'r') as file:\n",
    "    contents = file.read()\n",
    "    print(contents)\n"
   ]
  },
  {
   "cell_type": "markdown",
   "id": "f778f984-17b3-4661-a504-0bbb8a129a9f",
   "metadata": {},
   "source": [
    "To open a binary file, we can use the 'rb' (read binary) mode:"
   ]
  },
  {
   "cell_type": "code",
   "execution_count": 10,
   "id": "fe39e453-9598-4992-ba50-cf37d30aaddb",
   "metadata": {},
   "outputs": [],
   "source": [
    "import struct\n",
    "\n",
    "with open('file.bin', 'wb') as f:\n",
    "    n = 12345\n",
    "    f.write(struct.pack('i', n))\n"
   ]
  },
  {
   "cell_type": "code",
   "execution_count": 14,
   "id": "40919b5f-3f25-4c6b-94ab-5ea7a2249321",
   "metadata": {},
   "outputs": [
    {
     "name": "stdout",
     "output_type": "stream",
     "text": [
      "Coded -> b'90\\x00\\x00'\n",
      "(12345,)\n"
     ]
    }
   ],
   "source": [
    "with open('file.bin', 'rb') as file:\n",
    "    data = file.read()\n",
    "    print('Coded ->', data)\n",
    "    print(struct.unpack('i', data))\n"
   ]
  },
  {
   "cell_type": "markdown",
   "id": "d79c9b4b-02f4-4f8d-b1dd-ff6b42ed8901",
   "metadata": {},
   "source": [
    "# Q2. What are some scenarios where using text files will be the better option? When would you like to use binary files instead of text files?\n",
    "\n",
    "Text files are better suited for storing data that can be represented as plain text, such as configuration files, log files, and data that needs to be human-readable or editable. Binary files, on the other hand, are used to store complex data types such as images, audio files, or executable code, where the structure of the data is not easily represented as text.\n",
    "\n",
    "Code example:"
   ]
  },
  {
   "cell_type": "code",
   "execution_count": 15,
   "id": "82f69f82-803d-4cfe-91c7-8ca767da67f1",
   "metadata": {},
   "outputs": [
    {
     "name": "stdout",
     "output_type": "stream",
     "text": [
      "This is a text file.\n",
      "\n",
      "b'\\x10 0@'\n"
     ]
    }
   ],
   "source": [
    "# Write a text file\n",
    "with open('file.txt', 'w') as file:\n",
    "    file.write('This is a text file.\\n')\n",
    "\n",
    "# Read a text file\n",
    "with open('file.txt', 'r') as file:\n",
    "    contents = file.read()\n",
    "    print(contents)\n",
    "\n",
    "# Write a binary file\n",
    "with open('file.bin', 'wb') as file:\n",
    "    data = bytes([0x10, 0x20, 0x30, 0x40])\n",
    "    file.write(data)\n",
    "\n",
    "# Read a binary file\n",
    "with open('file.bin', 'rb') as file:\n",
    "    data = file.read()\n",
    "    print(data)\n"
   ]
  },
  {
   "cell_type": "markdown",
   "id": "8a559398-6d40-496e-8dad-1c6d22d4962b",
   "metadata": {},
   "source": [
    "# Q3. What are some of the issues with using binary operations to read and write a Python integer directly to disc?\n",
    "\n",
    "One issue with using binary operations to read and write integers directly to disk is that the endianness of the data may differ between different architectures or operating systems. This can lead to incorrect data being read or written if the program is run on a different system than the one it was written on. Another issue is that binary files are not human-readable, so debugging or editing the data can be difficult.\n",
    "\n",
    "Code example:"
   ]
  },
  {
   "cell_type": "code",
   "execution_count": 16,
   "id": "204a3e1b-bb2d-4f86-8818-f1632d4eb238",
   "metadata": {},
   "outputs": [
    {
     "name": "stdout",
     "output_type": "stream",
     "text": [
      "12345\n"
     ]
    }
   ],
   "source": [
    "# Write an integer to a binary file\n",
    "with open('file.bin', 'wb') as file:\n",
    "    data = 12345\n",
    "    file.write(data.to_bytes(4, byteorder='big'))\n",
    "\n",
    "# Read an integer from a binary file\n",
    "with open('file.bin', 'rb') as file:\n",
    "    data = int.from_bytes(file.read(4), byteorder='big')\n",
    "    print(data)\n"
   ]
  },
  {
   "cell_type": "markdown",
   "id": "c3b351fd-914f-43a4-ba46-7b87eab9f2ec",
   "metadata": {},
   "source": [
    "# Q4. Describe a benefit of using the with keyword instead of explicitly opening a file.\n",
    "\n",
    "Using the with keyword to open a file has the benefit of automatically closing the file when the block of code is exited. This ensures that the file is properly closed and any resources associated with it are freed, even if an exception is raised during the execution of the block.\n",
    "\n",
    "Code example:"
   ]
  },
  {
   "cell_type": "code",
   "execution_count": 18,
   "id": "ef275ad5-0753-4023-bbb9-ff2b8c008964",
   "metadata": {},
   "outputs": [
    {
     "name": "stdout",
     "output_type": "stream",
     "text": [
      "This is a text file.\n",
      "\n"
     ]
    }
   ],
   "source": [
    "# Using with statement to open a file\n",
    "with open('file.txt', 'r') as f:\n",
    "    data = f.read()\n",
    "    print(data)\n"
   ]
  },
  {
   "cell_type": "markdown",
   "id": "67576def-e249-4993-9ab7-d673210f3f41",
   "metadata": {},
   "source": [
    "# Q5. Does Python have the trailing newline while reading a line of text? Does Python append a newline when you write a line of text?\n",
    "\n",
    "Answer: Yes, by default, Python includes the trailing newline character \\n when reading a line of text using the readline() method. Similarly, when writing a line of text using the write() method, Python appends a newline character \\n at the end of the line.\n",
    "\n",
    "Example:"
   ]
  },
  {
   "cell_type": "code",
   "execution_count": 19,
   "id": "d5cba9c9-bf0b-48ad-a2f6-c2ddae069e15",
   "metadata": {},
   "outputs": [
    {
     "name": "stdout",
     "output_type": "stream",
     "text": [
      "hello\n",
      "\n"
     ]
    }
   ],
   "source": [
    "# Writing to a file\n",
    "with open('example.txt', 'w') as f:\n",
    "    f.write('hello\\nworld\\n')\n",
    "\n",
    "# Reading from a file\n",
    "with open('example.txt', 'r') as f:\n",
    "    data = f.readline()\n",
    "    print(data)  \n"
   ]
  },
  {
   "cell_type": "markdown",
   "id": "374cf41a-1137-4676-9346-169b87f2a427",
   "metadata": {},
   "source": [
    "# Q6. What file operations enable for random-access operation?\n",
    "\n",
    "Answer: In order to perform random access operations on a file, you need to use the seek() and tell() methods. The tell() method returns the current position of the file pointer, while the seek() method sets the position of the file pointer to a given offset.\n",
    "\n",
    "Example:"
   ]
  },
  {
   "cell_type": "code",
   "execution_count": 20,
   "id": "88785fbf-b3de-43f7-8019-85afae004189",
   "metadata": {},
   "outputs": [
    {
     "name": "stdout",
     "output_type": "stream",
     "text": [
      "b'o'\n",
      "5\n"
     ]
    }
   ],
   "source": [
    "# Opening a file in binary mode\n",
    "with open('example.txt', 'rb') as f:\n",
    "    # Move the file pointer to the 5th byte\n",
    "    f.seek(4)\n",
    "    # Read 1 byte from the file\n",
    "    data = f.read(1)\n",
    "    print(data)  \n",
    "    # Get the current position of the file pointer\n",
    "    pos = f.tell()\n",
    "    print(pos)  \n"
   ]
  },
  {
   "cell_type": "markdown",
   "id": "1fb97834-92f8-4755-a9cb-ff96e39fb482",
   "metadata": {},
   "source": [
    "# Q7. When do you think you'll use the struct package the most?\n",
    "\n",
    "Answer: The struct package is used for working with structured binary data. This includes things like file formats, network protocols, and more. You would use the struct package when you need to read or write binary data in a specific format, such as a byte order, a fixed length, or a specific encoding.\n",
    "\n",
    "Example:"
   ]
  },
  {
   "cell_type": "code",
   "execution_count": 21,
   "id": "19537153-cbd6-4f9a-996d-e9dc77eb6b15",
   "metadata": {},
   "outputs": [
    {
     "name": "stdout",
     "output_type": "stream",
     "text": [
      "b'\\x00\\x00\\x00{'\n",
      "123\n"
     ]
    }
   ],
   "source": [
    "import struct\n",
    "\n",
    "# Packing data into a binary string\n",
    "data = struct.pack('>i', 123)\n",
    "print(data)  \n",
    "\n",
    "# Unpacking binary data into variables\n",
    "data = b'\\x00\\x00\\x00{'\n",
    "value = struct.unpack('>i', data)[0]\n",
    "print(value)  \n"
   ]
  },
  {
   "cell_type": "markdown",
   "id": "6f8a5aa6-7dfe-4311-a902-8d9ae8cb0db1",
   "metadata": {},
   "source": [
    "# Q8. When is pickling the best option?\n",
    "\n",
    "Answer: Pickling is the best option when you need to store complex data structures, such as lists, dictionaries, or objects, to a file. Pickling converts the data into a binary format that can be easily saved to a file and loaded back into memory later.\n",
    "\n",
    "Example:"
   ]
  },
  {
   "cell_type": "code",
   "execution_count": 22,
   "id": "89aaf97d-26cf-4d4a-8b5f-29ea0d160815",
   "metadata": {},
   "outputs": [
    {
     "name": "stdout",
     "output_type": "stream",
     "text": [
      "{'a': [1, 2, 3], 'b': {'x': 1, 'y': 2}, 'c': (3, 4, 5)}\n"
     ]
    }
   ],
   "source": [
    "import pickle\n",
    "\n",
    "# define a complex object\n",
    "my_object = {'a': [1, 2, 3], 'b': {'x': 1, 'y': 2}, 'c': (3, 4, 5)}\n",
    "\n",
    "# serialize the object using pickle\n",
    "serialized = pickle.dumps(my_object)\n",
    "\n",
    "# deserialize the object\n",
    "deserialized = pickle.loads(serialized)\n",
    "\n",
    "print(deserialized) \n"
   ]
  },
  {
   "cell_type": "markdown",
   "id": "e82835af-2537-4aa0-a33c-f133c83be11b",
   "metadata": {},
   "source": [
    "# Q9. When will it be best to use the shelve package?\n",
    "\n",
    "The shelve package is best used when you need a simple way to persistently store and retrieve Python objects. It's essentially a dictionary that can be stored on disk and accessed like a regular Python dictionary, with the added benefit of being able to handle more complex object types.\n",
    "\n",
    "Code example:"
   ]
  },
  {
   "cell_type": "code",
   "execution_count": 23,
   "id": "5e75bc97-9b8d-4e33-839f-029fa546f71f",
   "metadata": {},
   "outputs": [
    {
     "name": "stdout",
     "output_type": "stream",
     "text": [
      "value1\n",
      "[1, 2, 3]\n",
      "{'a': 1, 'b': 2}\n"
     ]
    }
   ],
   "source": [
    "import shelve\n",
    "\n",
    "# create a new shelve database\n",
    "with shelve.open('mydata.db') as db:\n",
    "    # add some key-value pairs\n",
    "    db['key1'] = 'value1'\n",
    "    db['key2'] = [1, 2, 3]\n",
    "    db['key3'] = {'a': 1, 'b': 2}\n",
    "\n",
    "# retrieve the data from the shelve database\n",
    "with shelve.open('mydata.db') as db:\n",
    "    print(db['key1'])\n",
    "    print(db['key2']) \n",
    "    print(db['key3']) \n"
   ]
  },
  {
   "cell_type": "markdown",
   "id": "88674285-9feb-43c4-b482-017a1103eb71",
   "metadata": {},
   "source": [
    "# Q10. What is a special restriction when using the shelve package, as opposed to using other data dictionaries?\n",
    "\n",
    "The shelve package has a special restriction in that the keys of the dictionary must be strings. This is because shelve uses the keys as file names to store the corresponding values on disk. If you try to use a key that is not a string, you will get a TypeError. This can be limiting if you need to use non-string keys to store your data. Additionally, the shelve package is not thread-safe, so it's important to ensure that it's only accessed by one thread at a time."
   ]
  },
  {
   "cell_type": "code",
   "execution_count": 28,
   "id": "2eee107d-0878-4d7c-9626-6edc075a1476",
   "metadata": {},
   "outputs": [
    {
     "ename": "error",
     "evalue": "[Errno 11] Resource temporarily unavailable: 'my_shelf.db'",
     "output_type": "error",
     "traceback": [
      "\u001b[0;31m---------------------------------------------------------------------------\u001b[0m",
      "\u001b[0;31merror\u001b[0m                                     Traceback (most recent call last)",
      "Cell \u001b[0;32mIn[28], line 15\u001b[0m\n\u001b[1;32m      8\u001b[0m shelf[\u001b[38;5;124m'\u001b[39m\u001b[38;5;124mkey2\u001b[39m\u001b[38;5;124m'\u001b[39m] \u001b[38;5;241m=\u001b[39m {\u001b[38;5;124m'\u001b[39m\u001b[38;5;124mname\u001b[39m\u001b[38;5;124m'\u001b[39m: \u001b[38;5;124m'\u001b[39m\u001b[38;5;124mMary\u001b[39m\u001b[38;5;124m'\u001b[39m, \u001b[38;5;124m'\u001b[39m\u001b[38;5;124mage\u001b[39m\u001b[38;5;124m'\u001b[39m: \u001b[38;5;241m25\u001b[39m}\n\u001b[1;32m     10\u001b[0m \u001b[38;5;66;03m# Note: Trying to add a new key without opening the shelf with writeback=True\u001b[39;00m\n\u001b[1;32m     11\u001b[0m \u001b[38;5;66;03m# will result in an error, because shelve does not automatically update its\u001b[39;00m\n\u001b[1;32m     12\u001b[0m \u001b[38;5;66;03m# contents when values are modified.\u001b[39;00m\n\u001b[1;32m     13\u001b[0m \n\u001b[1;32m     14\u001b[0m \u001b[38;5;66;03m# Open the shelve file again with writeback=True\u001b[39;00m\n\u001b[0;32m---> 15\u001b[0m \u001b[38;5;28;01mwith\u001b[39;00m \u001b[43mshelve\u001b[49m\u001b[38;5;241;43m.\u001b[39;49m\u001b[43mopen\u001b[49m\u001b[43m(\u001b[49m\u001b[38;5;124;43m'\u001b[39;49m\u001b[38;5;124;43mmy_shelf.db\u001b[39;49m\u001b[38;5;124;43m'\u001b[39;49m\u001b[43m,\u001b[49m\u001b[43m \u001b[49m\u001b[43mwriteback\u001b[49m\u001b[38;5;241;43m=\u001b[39;49m\u001b[38;5;28;43;01mTrue\u001b[39;49;00m\u001b[43m)\u001b[49m \u001b[38;5;28;01mas\u001b[39;00m shelf:\n\u001b[1;32m     16\u001b[0m     \n\u001b[1;32m     17\u001b[0m     \u001b[38;5;66;03m# Modify an existing value\u001b[39;00m\n\u001b[1;32m     18\u001b[0m     shelf[\u001b[38;5;124m'\u001b[39m\u001b[38;5;124mkey2\u001b[39m\u001b[38;5;124m'\u001b[39m][\u001b[38;5;124m'\u001b[39m\u001b[38;5;124mage\u001b[39m\u001b[38;5;124m'\u001b[39m] \u001b[38;5;241m=\u001b[39m \u001b[38;5;241m30\u001b[39m\n\u001b[1;32m     20\u001b[0m     \u001b[38;5;66;03m# The modification is now saved to the shelf\u001b[39;00m\n",
      "File \u001b[0;32m/usr/lib/python3.10/shelve.py:243\u001b[0m, in \u001b[0;36mopen\u001b[0;34m(filename, flag, protocol, writeback)\u001b[0m\n\u001b[1;32m    230\u001b[0m \u001b[38;5;28;01mdef\u001b[39;00m \u001b[38;5;21mopen\u001b[39m(filename, flag\u001b[38;5;241m=\u001b[39m\u001b[38;5;124m'\u001b[39m\u001b[38;5;124mc\u001b[39m\u001b[38;5;124m'\u001b[39m, protocol\u001b[38;5;241m=\u001b[39m\u001b[38;5;28;01mNone\u001b[39;00m, writeback\u001b[38;5;241m=\u001b[39m\u001b[38;5;28;01mFalse\u001b[39;00m):\n\u001b[1;32m    231\u001b[0m     \u001b[38;5;124;03m\"\"\"Open a persistent dictionary for reading and writing.\u001b[39;00m\n\u001b[1;32m    232\u001b[0m \n\u001b[1;32m    233\u001b[0m \u001b[38;5;124;03m    The filename parameter is the base filename for the underlying\u001b[39;00m\n\u001b[0;32m   (...)\u001b[0m\n\u001b[1;32m    240\u001b[0m \u001b[38;5;124;03m    See the module's __doc__ string for an overview of the interface.\u001b[39;00m\n\u001b[1;32m    241\u001b[0m \u001b[38;5;124;03m    \"\"\"\u001b[39;00m\n\u001b[0;32m--> 243\u001b[0m     \u001b[38;5;28;01mreturn\u001b[39;00m \u001b[43mDbfilenameShelf\u001b[49m\u001b[43m(\u001b[49m\u001b[43mfilename\u001b[49m\u001b[43m,\u001b[49m\u001b[43m \u001b[49m\u001b[43mflag\u001b[49m\u001b[43m,\u001b[49m\u001b[43m \u001b[49m\u001b[43mprotocol\u001b[49m\u001b[43m,\u001b[49m\u001b[43m \u001b[49m\u001b[43mwriteback\u001b[49m\u001b[43m)\u001b[49m\n",
      "File \u001b[0;32m/usr/lib/python3.10/shelve.py:227\u001b[0m, in \u001b[0;36mDbfilenameShelf.__init__\u001b[0;34m(self, filename, flag, protocol, writeback)\u001b[0m\n\u001b[1;32m    225\u001b[0m \u001b[38;5;28;01mdef\u001b[39;00m \u001b[38;5;21m__init__\u001b[39m(\u001b[38;5;28mself\u001b[39m, filename, flag\u001b[38;5;241m=\u001b[39m\u001b[38;5;124m'\u001b[39m\u001b[38;5;124mc\u001b[39m\u001b[38;5;124m'\u001b[39m, protocol\u001b[38;5;241m=\u001b[39m\u001b[38;5;28;01mNone\u001b[39;00m, writeback\u001b[38;5;241m=\u001b[39m\u001b[38;5;28;01mFalse\u001b[39;00m):\n\u001b[1;32m    226\u001b[0m     \u001b[38;5;28;01mimport\u001b[39;00m \u001b[38;5;21;01mdbm\u001b[39;00m\n\u001b[0;32m--> 227\u001b[0m     Shelf\u001b[38;5;241m.\u001b[39m\u001b[38;5;21m__init__\u001b[39m(\u001b[38;5;28mself\u001b[39m, \u001b[43mdbm\u001b[49m\u001b[38;5;241;43m.\u001b[39;49m\u001b[43mopen\u001b[49m\u001b[43m(\u001b[49m\u001b[43mfilename\u001b[49m\u001b[43m,\u001b[49m\u001b[43m \u001b[49m\u001b[43mflag\u001b[49m\u001b[43m)\u001b[49m, protocol, writeback)\n",
      "File \u001b[0;32m/usr/lib/python3.10/dbm/__init__.py:95\u001b[0m, in \u001b[0;36mopen\u001b[0;34m(file, flag, mode)\u001b[0m\n\u001b[1;32m     93\u001b[0m \u001b[38;5;28;01melse\u001b[39;00m:\n\u001b[1;32m     94\u001b[0m     mod \u001b[38;5;241m=\u001b[39m _modules[result]\n\u001b[0;32m---> 95\u001b[0m \u001b[38;5;28;01mreturn\u001b[39;00m \u001b[43mmod\u001b[49m\u001b[38;5;241;43m.\u001b[39;49m\u001b[43mopen\u001b[49m\u001b[43m(\u001b[49m\u001b[43mfile\u001b[49m\u001b[43m,\u001b[49m\u001b[43m \u001b[49m\u001b[43mflag\u001b[49m\u001b[43m,\u001b[49m\u001b[43m \u001b[49m\u001b[43mmode\u001b[49m\u001b[43m)\u001b[49m\n",
      "\u001b[0;31merror\u001b[0m: [Errno 11] Resource temporarily unavailable: 'my_shelf.db'"
     ]
    }
   ],
   "source": [
    "import shelve\n",
    "\n",
    "# Open the shelve file\n",
    "with shelve.open('my_shelf.db') as shelf:\n",
    "    \n",
    "    # Add key-value pairs to the shelf\n",
    "    shelf['key1'] = {'name': 'John', 'age': 30}\n",
    "    shelf['key2'] = {'name': 'Mary', 'age': 25}\n",
    "    \n",
    "    # Note: Trying to add a new key without opening the shelf with writeback=True\n",
    "    # will result in an error, because shelve does not automatically update its\n",
    "    # contents when values are modified.\n",
    "    \n",
    "    # Open the shelve file again with writeback=True\n",
    "    with shelve.open('my_shelf.db', writeback=True) as shelf:\n",
    "        \n",
    "        # Modify an existing value\n",
    "        shelf['key2']['age'] = 30\n",
    "        \n",
    "        # The modification is now saved to the shelf\n"
   ]
  },
  {
   "cell_type": "markdown",
   "id": "7ba85f0c-2122-409a-9bad-723659dcb91c",
   "metadata": {},
   "source": [
    "In this example, we first open a shelve file named my_shelf and add two key-value pairs to it. We then open the file again with the writeback=True argument, which allows us to modify the values of the keys without explicitly overwriting them. We modify the age value of key2 and the modification is automatically saved to the shelf."
   ]
  }
 ],
 "metadata": {
  "kernelspec": {
   "display_name": "Python 3 (ipykernel)",
   "language": "python",
   "name": "python3"
  },
  "language_info": {
   "codemirror_mode": {
    "name": "ipython",
    "version": 3
   },
   "file_extension": ".py",
   "mimetype": "text/x-python",
   "name": "python",
   "nbconvert_exporter": "python",
   "pygments_lexer": "ipython3",
   "version": "3.10.6"
  }
 },
 "nbformat": 4,
 "nbformat_minor": 5
}
