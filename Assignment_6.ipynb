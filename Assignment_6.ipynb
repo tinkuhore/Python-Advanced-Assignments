{
 "cells": [
  {
   "cell_type": "markdown",
   "id": "264d40f2-2fe3-45a3-9b4c-31ace864f27a",
   "metadata": {},
   "source": [
    "# Q1. Describe three applications for exception processing.\n",
    "\n",
    "Exception processing is a way of handling errors that occur during the execution of a program. Here are three applications for exception processing:\n",
    "\n",
    "Error reporting: Exception processing can be used to report errors that occur during the execution of a program. By catching exceptions and logging them, developers can get an idea of what is going wrong with the program and where to fix the code.\n",
    "\n",
    "Input validation: Exception processing can be used to validate user input. By catching exceptions that occur when invalid input is entered, developers can prompt the user to re-enter the input or take other corrective action.\n",
    "\n",
    "Resource management: Exception processing can be used to manage resources such as files, databases, and network connections. By catching exceptions that occur when accessing or releasing resources, developers can ensure that the resources are properly managed and that the program doesn't crash or leak resources.Q1. Describe three applications for exception processing.\n",
    "\n"
   ]
  },
  {
   "cell_type": "markdown",
   "id": "77d96169-f247-4b3f-8e06-91b70e31d330",
   "metadata": {},
   "source": [
    "# Q2. What happens if you don't do something extra to treat an exception?\n",
    "\n",
    "If an exception is raised and not caught, the program will terminate and an error message will be displayed. This can be undesirable, as it means that the program has failed to complete its task and may have left resources in an undefined state. To handle exceptions, developers can use try-except blocks to catch and handle exceptions in a controlled manner."
   ]
  },
  {
   "cell_type": "markdown",
   "id": "8ef06671-9e94-4f3b-8219-68c0d0c70e5f",
   "metadata": {},
   "source": [
    "# Q3. What are your options for recovering from an exception in your script?\n",
    "\n",
    "When an exception is raised, the program can recover in several ways:\n",
    "\n",
    "Retry the operation that caused the exception: In some cases, the program can simply retry the operation that caused the exception. For example, if a network connection is lost, the program can retry the connection until it is successful.\n",
    "\n",
    "Handle the exception and continue execution: In some cases, the program can handle the exception and continue execution. For example, if a file is not found, the program can create a new file and continue processing.\n",
    "\n",
    "Exit gracefully: In some cases, the program cannot recover from the exception and must exit gracefully. In this case, the program should release any resources it is using and log the error before terminating."
   ]
  },
  {
   "cell_type": "markdown",
   "id": "1a20d788-981a-455f-9357-fe92694b82e9",
   "metadata": {},
   "source": [
    "# Q4. Describe two methods for triggering exceptions in your script.\n",
    "\n",
    "In Python, there are several ways to trigger exceptions:\n",
    "\n",
    "Raise an exception manually: Developers can manually raise an exception by using the raise keyword followed by an exception type. For example:"
   ]
  },
  {
   "cell_type": "code",
   "execution_count": 2,
   "id": "de27176f-dd96-4f9b-8d40-155f8e40b894",
   "metadata": {},
   "outputs": [
    {
     "ename": "ValueError",
     "evalue": "x cannot be negative",
     "output_type": "error",
     "traceback": [
      "\u001b[0;31m---------------------------------------------------------------------------\u001b[0m",
      "\u001b[0;31mValueError\u001b[0m                                Traceback (most recent call last)",
      "Cell \u001b[0;32mIn[2], line 3\u001b[0m\n\u001b[1;32m      1\u001b[0m x\u001b[38;5;241m=\u001b[39m\u001b[38;5;241m-\u001b[39m\u001b[38;5;241m5\u001b[39m\n\u001b[1;32m      2\u001b[0m \u001b[38;5;28;01mif\u001b[39;00m x \u001b[38;5;241m<\u001b[39m \u001b[38;5;241m0\u001b[39m:\n\u001b[0;32m----> 3\u001b[0m     \u001b[38;5;28;01mraise\u001b[39;00m \u001b[38;5;167;01mValueError\u001b[39;00m(\u001b[38;5;124m\"\u001b[39m\u001b[38;5;124mx cannot be negative\u001b[39m\u001b[38;5;124m\"\u001b[39m)\n",
      "\u001b[0;31mValueError\u001b[0m: x cannot be negative"
     ]
    }
   ],
   "source": [
    "x=-5\n",
    "if x < 0:\n",
    "    raise ValueError(\"x cannot be negative\")\n"
   ]
  },
  {
   "cell_type": "markdown",
   "id": "1c40170d-ae0f-46e0-9957-8cdd49ebe7b0",
   "metadata": {},
   "source": [
    "Use built-in functions that raise exceptions: Python has several built-in functions that raise exceptions. For example, the open() function raises a FileNotFoundError if the file does not exist."
   ]
  },
  {
   "cell_type": "code",
   "execution_count": 3,
   "id": "55c1dcb2-25f4-4bfb-9967-7a6f770bf1a6",
   "metadata": {},
   "outputs": [
    {
     "name": "stdout",
     "output_type": "stream",
     "text": [
      "File not found\n"
     ]
    }
   ],
   "source": [
    "try:\n",
    "    f = open(\"myfile.txt\")\n",
    "except FileNotFoundError:\n",
    "    print(\"File not found\")\n"
   ]
  },
  {
   "cell_type": "markdown",
   "id": "1d063389-852c-4314-af55-14a864d50420",
   "metadata": {},
   "source": [
    "# Q5. Identify two methods for specifying actions to be executed at termination time, regardless of whether or not an exception exists.\n",
    "\n",
    "In Python, there are two ways to specify actions to be executed at termination time:\n",
    "\n",
    "Use a finally block: A finally block is used to specify code that should be executed regardless of whether or not an exception was raised. For example:"
   ]
  },
  {
   "cell_type": "code",
   "execution_count": 4,
   "id": "5f0075bf-9ba6-4efe-b46d-b1c49a075a5f",
   "metadata": {},
   "outputs": [
    {
     "ename": "IndentationError",
     "evalue": "expected an indented block after 'try' statement on line 1 (2158645623.py, line 3)",
     "output_type": "error",
     "traceback": [
      "\u001b[0;36m  Cell \u001b[0;32mIn[4], line 3\u001b[0;36m\u001b[0m\n\u001b[0;31m    finally:\u001b[0m\n\u001b[0m    ^\u001b[0m\n\u001b[0;31mIndentationError\u001b[0m\u001b[0;31m:\u001b[0m expected an indented block after 'try' statement on line 1\n"
     ]
    }
   ],
   "source": [
    "try:\n",
    "    # some code that may raise an exception\n",
    "finally:\n",
    "    # code that should be executed regardless of whether or not an exception was raised\n"
   ]
  },
  {
   "cell_type": "markdown",
   "id": "bb003496-cd0f-46ff-88c5-3dcdd0147d68",
   "metadata": {},
   "source": [
    "Use the atexit module: The atexit module provides a way to register functions to be called at program termination. For example:"
   ]
  },
  {
   "cell_type": "code",
   "execution_count": 5,
   "id": "6a1c1991-f6c3-4897-b039-badda02919e7",
   "metadata": {},
   "outputs": [
    {
     "data": {
      "text/plain": [
       "<function __main__.goodbye()>"
      ]
     },
     "execution_count": 5,
     "metadata": {},
     "output_type": "execute_result"
    }
   ],
   "source": [
    "import atexit\n",
    "\n",
    "def goodbye():\n",
    "    print(\"Goodbye, world!\")\n",
    "\n",
    "atexit.register(goodbye)\n"
   ]
  },
  {
   "cell_type": "markdown",
   "id": "980da835-0210-4a17-a85e-4eb7c7db6eb2",
   "metadata": {},
   "source": [
    "In this example, the goodbye function will be called when the script is about to exit, regardless of whether or not an exception was raised."
   ]
  }
 ],
 "metadata": {
  "kernelspec": {
   "display_name": "Python 3 (ipykernel)",
   "language": "python",
   "name": "python3"
  },
  "language_info": {
   "codemirror_mode": {
    "name": "ipython",
    "version": 3
   },
   "file_extension": ".py",
   "mimetype": "text/x-python",
   "name": "python",
   "nbconvert_exporter": "python",
   "pygments_lexer": "ipython3",
   "version": "3.10.6"
  }
 },
 "nbformat": 4,
 "nbformat_minor": 5
}
