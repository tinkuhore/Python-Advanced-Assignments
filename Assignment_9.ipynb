{
 "cells": [
  {
   "cell_type": "markdown",
   "id": "e2e395ea-9bfc-421a-9dcd-f8f675788e93",
   "metadata": {},
   "source": [
    "# Q1. In Python 3.X, what are the names and functions of string object types?\n",
    "\n",
    "In Python 3.X, the two main string object types are str and bytes. The str type represents Unicode strings, while bytes represents sequences of raw bytes.\n",
    "\n",
    "str: This is the built-in string type in Python. It is used to represent text as a sequence of Unicode code points. For example:"
   ]
  },
  {
   "cell_type": "code",
   "execution_count": 13,
   "id": "c415ef0c-1236-42f5-9e46-1fdcf304c045",
   "metadata": {},
   "outputs": [
    {
     "name": "stdout",
     "output_type": "stream",
     "text": [
      "<class 'str'>\n"
     ]
    }
   ],
   "source": [
    "message = \"Hello, World!\"\n",
    "print(type(message))  # Output: <class 'str'>\n"
   ]
  },
  {
   "cell_type": "markdown",
   "id": "0938e704-32fa-4a88-865b-1cf3acdf9cf2",
   "metadata": {},
   "source": [
    "bytes: This is used to represent binary data, such as the contents of a file. For example:"
   ]
  },
  {
   "cell_type": "code",
   "execution_count": 14,
   "id": "e628a716-6aea-4f9d-bd24-7698d2f64534",
   "metadata": {},
   "outputs": [
    {
     "name": "stdout",
     "output_type": "stream",
     "text": [
      "<class 'bytes'>\n",
      "b'Hello World!'\n"
     ]
    }
   ],
   "source": [
    "data = b'\\x48\\x65\\x6c\\x6c\\x6f\\x20\\x57\\x6f\\x72\\x6c\\x64\\x21'\n",
    "print(type(data))  # Output: <class 'bytes'>\n",
    "print(data)"
   ]
  },
  {
   "cell_type": "markdown",
   "id": "d2c1a3d8-0685-42a3-a80d-918d22e3d52b",
   "metadata": {},
   "source": [
    "# Q2. How do the string forms in Python 3.X vary in terms of operations?\n",
    "\n",
    "The string forms in Python 3.X vary in terms of operations in that str objects have a rich set of string manipulation methods that are specific to Unicode strings, while bytes objects have methods that are specific to binary data. For example, str objects have methods like split(), join(), and replace(), while bytes objects have methods like decode(), encode(), and find()."
   ]
  },
  {
   "cell_type": "code",
   "execution_count": 15,
   "id": "dbe9b9ca-2978-4824-b5fe-b974a1f87989",
   "metadata": {},
   "outputs": [
    {
     "name": "stdout",
     "output_type": "stream",
     "text": [
      "Hello, world!\n",
      "\n",
      " -------------------------------------------------- \n",
      "\n",
      "PythonPythonPython\n",
      "\n",
      " -------------------------------------------------- \n",
      "\n",
      "Pyt\n",
      "\n",
      " -------------------------------------------------- \n",
      "\n",
      "My name is Alice and I'm 25 years old.\n",
      "\n",
      " -------------------------------------------------- \n",
      "\n",
      "python\n",
      "PYTHON\n"
     ]
    }
   ],
   "source": [
    "#1.Concatenation using the + operator:\n",
    "s1 = \"Hello\"\n",
    "s2 = \"world\"\n",
    "s3 = s1 + \", \" + s2 + \"!\"\n",
    "print(s3)  # output: \"Hello, world!\"\n",
    "\n",
    "print(\"\\n\", '-'*50, \"\\n\")\n",
    "\n",
    "#2.String repetition using the * operator:\n",
    "s = \"Python\"\n",
    "s_repeated = s * 3\n",
    "print(s_repeated)  # output: \"PythonPythonPython\"\n",
    "\n",
    "\n",
    "print(\"\\n\", '-'*50, \"\\n\")\n",
    "#3.Slicing using the [] operator:\n",
    "s = \"Python\"\n",
    "s_first_three = s[0:3]\n",
    "print(s_first_three)  # output: \"Pyt\"\n",
    "\n",
    "\n",
    "print(\"\\n\", '-'*50, \"\\n\")\n",
    "#4.String formatting using the format() method:\n",
    "name = \"Alice\"\n",
    "age = 25\n",
    "message = \"My name is {} and I'm {} years old.\".format(name, age)\n",
    "print(message)  # output: \"My name is Alice and I'm 25 years old.\"\n",
    "\n",
    "\n",
    "print(\"\\n\", '-'*50, \"\\n\")\n",
    "#5.Case conversion using the lower() and upper() methods:\n",
    "s = \"Python\"\n",
    "s_lower = s.lower()\n",
    "s_upper = s.upper()\n",
    "print(s_lower)  # output: \"python\"\n",
    "print(s_upper)  # output: \"PYTHON\"\n"
   ]
  },
  {
   "cell_type": "markdown",
   "id": "67dd67a8-39e0-4b10-85f2-6a09e42ffc81",
   "metadata": {},
   "source": [
    "# Q3. In 3.X, how do you put non-ASCII Unicode characters in a string?\n",
    "\n",
    "In Python 3.X, you can put non-ASCII Unicode characters in a string by using the Unicode escape syntax. For example, the character \"α\" can be represented as \"\\u03b1\"."
   ]
  },
  {
   "cell_type": "markdown",
   "id": "0c63b15e-c0b6-4181-85b4-b1e420d66ace",
   "metadata": {},
   "source": [
    "# Q4. In Python 3.X, what are the key differences between text-mode and binary-mode files?\n",
    "\n",
    "In Python 3.X, the key differences between text-mode and binary-mode files are that text-mode files handle end-of-line characters in a platform-specific way, while binary-mode files do not. Text-mode files automatically translate end-of-line characters to and from a platform-specific representation, while binary-mode files do not perform any translation."
   ]
  },
  {
   "cell_type": "markdown",
   "id": "2b6b42fe-a7f4-4eed-8ea8-dde2d0d24ec6",
   "metadata": {},
   "source": [
    "# Q5. How can you interpret a Unicode text file containing text encoded in a different encoding than your platform's default?\n",
    "\n",
    " To interpret a Unicode text file containing text encoded in a different encoding than your platform's default, you can use the codecs module to read the file with a specific encoding. For example, if the file is encoded in UTF-8 and your platform's default encoding is ASCII, you can read the file as follows:"
   ]
  },
  {
   "cell_type": "code",
   "execution_count": 16,
   "id": "10f0dcf7-4d2a-4070-aeea-7e96f4e3137e",
   "metadata": {},
   "outputs": [],
   "source": [
    "import codecs\n",
    "\n",
    "with codecs.open('myfile.txt', 'r', encoding='utf-8') as f:\n",
    "    text = f.read()\n"
   ]
  },
  {
   "cell_type": "markdown",
   "id": "673f0692-b8f1-49df-86a1-63650763a2a0",
   "metadata": {},
   "source": [
    "# Q6. What is the best way to make a Unicode text file in a particular encoding format?\n",
    "\n",
    "The best way to make a Unicode text file in a particular encoding format is to explicitly specify the encoding when opening the file with the built-in open() function. For example, to create a file in UTF-8 encoding, you can open the file as follows:"
   ]
  },
  {
   "cell_type": "code",
   "execution_count": 17,
   "id": "ef072d45-2c15-4311-b36c-e44f066307e7",
   "metadata": {},
   "outputs": [],
   "source": [
    "with open('myfile.txt', 'w', encoding='utf-8') as f:\n",
    "    f.write('Hello, world!')\n"
   ]
  },
  {
   "cell_type": "markdown",
   "id": "b4aff3ae-55c9-4af2-9cdc-f14284924bd1",
   "metadata": {},
   "source": [
    "# Q7. What qualifies ASCII text as a form of Unicode text?\n",
    "\n",
    "ASCII text qualifies as a form of Unicode text because ASCII is a subset of Unicode. ASCII characters are represented by the same code points in Unicode as in ASCII."
   ]
  },
  {
   "cell_type": "markdown",
   "id": "0cb7a9f3-5138-4839-841b-dec8011b90a2",
   "metadata": {},
   "source": [
    "# Q8. How much of an effect does the change in string types in Python 3.X have on your code?\n",
    "\n",
    "The change in string types in Python 3.X can have a significant effect on your code if you are working with non-ASCII text or binary data. We need to be careful when mixing str and bytes objects, and be aware of the differences in their methods and behavior. Additionally, the way strings are represented internally has changed, so some code that worked with Python 2.X strings may need to be modified to work with Python 3.X strings."
   ]
  },
  {
   "cell_type": "code",
   "execution_count": null,
   "id": "c852860c-7f2c-460f-932f-e6b739920e2a",
   "metadata": {},
   "outputs": [],
   "source": []
  },
  {
   "cell_type": "code",
   "execution_count": null,
   "id": "06832ca3-0d20-4bed-86fd-6b35d232c894",
   "metadata": {},
   "outputs": [],
   "source": []
  },
  {
   "cell_type": "code",
   "execution_count": null,
   "id": "bb913cf2-7eda-4345-949b-a378d116af07",
   "metadata": {},
   "outputs": [],
   "source": []
  },
  {
   "cell_type": "code",
   "execution_count": null,
   "id": "c65be47a-9f1a-4b72-a2f9-b59b0c6a543b",
   "metadata": {},
   "outputs": [],
   "source": []
  }
 ],
 "metadata": {
  "kernelspec": {
   "display_name": "Python 3 (ipykernel)",
   "language": "python",
   "name": "python3"
  },
  "language_info": {
   "codemirror_mode": {
    "name": "ipython",
    "version": 3
   },
   "file_extension": ".py",
   "mimetype": "text/x-python",
   "name": "python",
   "nbconvert_exporter": "python",
   "pygments_lexer": "ipython3",
   "version": "3.10.6"
  }
 },
 "nbformat": 4,
 "nbformat_minor": 5
}
