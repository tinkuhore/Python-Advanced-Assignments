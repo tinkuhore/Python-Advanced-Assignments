{
 "cells": [
  {
   "cell_type": "markdown",
   "id": "a033667b-0521-4c54-a30f-7adfe6336a15",
   "metadata": {},
   "source": [
    "# Q1. What is the purpose of the try statement?\n",
    "\n",
    "A: The try statement is used for error handling in Python. It allows us to write code that might raise an exception and handle the exception if it occurs. The purpose of the try statement is to attempt to execute a block of code and catch any exceptions that are raised within that block."
   ]
  },
  {
   "cell_type": "markdown",
   "id": "e64e3605-d203-429f-8858-9dfda1377837",
   "metadata": {},
   "source": [
    "# Q2. What are the two most popular try statement variations?\n",
    "\n",
    "A: The two most popular try statement variations are:\n",
    "\n",
    "try-except: This variation allows us to catch and handle specific exceptions that might be raised within the try block. Here's an example:"
   ]
  },
  {
   "cell_type": "code",
   "execution_count": 1,
   "id": "d5bcd247-919e-45a5-a4df-8dd356f84efb",
   "metadata": {},
   "outputs": [
    {
     "ename": "IndentationError",
     "evalue": "expected an indented block after 'try' statement on line 1 (746491822.py, line 3)",
     "output_type": "error",
     "traceback": [
      "\u001b[0;36m  Cell \u001b[0;32mIn[1], line 3\u001b[0;36m\u001b[0m\n\u001b[0;31m    except ValueError:\u001b[0m\n\u001b[0m    ^\u001b[0m\n\u001b[0;31mIndentationError\u001b[0m\u001b[0;31m:\u001b[0m expected an indented block after 'try' statement on line 1\n"
     ]
    }
   ],
   "source": [
    "try:\n",
    "    # Some code that might raise an exception\n",
    "except ValueError:\n",
    "    # Exception handling code for ValueError\n",
    "except:\n",
    "    # Exception handling code for all other exceptions\n"
   ]
  },
  {
   "cell_type": "markdown",
   "id": "0e8a5ad9-c022-44dd-bfb8-06fea5770993",
   "metadata": {},
   "source": [
    "In this example, the try block contains code that might raise a ValueError. If a ValueError is raised, the code in the first except block is executed. If any other exception is raised, the code in the second except block is executed.\n",
    "\n",
    "try-finally: This variation allows us to specify a block of code that will always be executed, regardless of whether or not an exception was raised within the try block. Here's an example:"
   ]
  },
  {
   "cell_type": "code",
   "execution_count": null,
   "id": "9f895ba5-e8bb-41f9-915f-f993c232d5a7",
   "metadata": {},
   "outputs": [],
   "source": [
    "try:\n",
    "    # Some code that might raise an exception\n",
    "finally:\n",
    "    # Code that is always executed, even if an exception was raised\n"
   ]
  },
  {
   "cell_type": "markdown",
   "id": "8e6c0ba1-1896-4322-a61d-d3e93aee42ad",
   "metadata": {},
   "source": [
    "In this example, the finally block contains code that will be executed no matter what happens in the try block. This can be useful for cleaning up resources that were used in the try block, such as closing a file or a database connection."
   ]
  },
  {
   "cell_type": "markdown",
   "id": "cd442d2d-2e0f-4ead-9eec-a7a89ae73f0c",
   "metadata": {},
   "source": [
    "# Q3. What is the purpose of the raise statement?\n",
    "\n",
    "A: The raise statement is used to raise an exception in Python. It allows us to manually raise an exception with a specified message and/or error code. The purpose of the raise statement is to signal that an error has occurred and provide information about the error to the user.\n",
    "\n",
    "\n",
    "\n",
    "\n"
   ]
  },
  {
   "cell_type": "markdown",
   "id": "a6e439be-8954-4ec8-a195-1a00c6178b3a",
   "metadata": {},
   "source": [
    "# Q4. What does the assert statement do, and what other statement is it like?\n",
    "\n",
    "A: The assert statement is used to check that a certain condition is true, and if it is not, raise an AssertionError exception with a specified message. It is similar to the if statement, but is typically used for debugging and testing purposes. Here's an example:\n",
    "\n",
    "\n",
    "\n"
   ]
  },
  {
   "cell_type": "code",
   "execution_count": null,
   "id": "143e8040-bd15-49be-b3df-e4eea60aebbb",
   "metadata": {},
   "outputs": [],
   "source": [
    "\n",
    "x = 5\n",
    "assert x == 10, \"x should be 10\"\n"
   ]
  },
  {
   "cell_type": "markdown",
   "id": "84efc1cd-8a5d-4488-98d4-11ea89673819",
   "metadata": {},
   "source": [
    "In this example, the assert statement checks that the value of x is equal to 10. Since x is actually 5, the assert statement raises an AssertionError exception with the message \"x should be 10\"."
   ]
  },
  {
   "cell_type": "markdown",
   "id": "138cbc4d-2bda-4f8b-b5b9-4d1413224f4c",
   "metadata": {},
   "source": [
    "# Q5. What is the purpose of the with/as argument, and what other statement is it like?\n",
    "\n",
    "A: The with/as statement is used for resource management in Python. It allows us to open a file or establish a network connection, use it, and then automatically close it when we are done. It is similar to a try-finally block, but is more concise and readable. Here's an example:\n",
    "\n"
   ]
  },
  {
   "cell_type": "code",
   "execution_count": null,
   "id": "d5d6a45b-6b3f-40ac-8235-45368c35ef12",
   "metadata": {},
   "outputs": [],
   "source": [
    "with open(\"example.txt\", \"r\") as file:\n",
    "    contents = file.read()\n",
    "\n",
    "# File is automatically closed at this point\n",
    "\n"
   ]
  },
  {
   "cell_type": "markdown",
   "id": "820fec18-4387-4e9a-8ec8-5ee37e0bcd2c",
   "metadata": {},
   "source": [
    "In this example, the with statement is used to open a file called \"example.txt\" and assign it to the variable file. The as keyword is used to specify a variable name for the file object. The code inside the with block reads the contents of the file, and then\n"
   ]
  }
 ],
 "metadata": {
  "kernelspec": {
   "display_name": "Python 3 (ipykernel)",
   "language": "python",
   "name": "python3"
  },
  "language_info": {
   "codemirror_mode": {
    "name": "ipython",
    "version": 3
   },
   "file_extension": ".py",
   "mimetype": "text/x-python",
   "name": "python",
   "nbconvert_exporter": "python",
   "pygments_lexer": "ipython3",
   "version": "3.10.6"
  }
 },
 "nbformat": 4,
 "nbformat_minor": 5
}
