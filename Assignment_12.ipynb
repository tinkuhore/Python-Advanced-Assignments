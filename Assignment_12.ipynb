{
 "cells": [
  {
   "cell_type": "markdown",
   "id": "1d5642e5-2e94-4c10-b35a-7e047cba963c",
   "metadata": {},
   "source": [
    "# Q1. Does assigning a value to a string's indexed character violate Python's string immutability?\n",
    "\n",
    "No, assigning a value to a string's indexed character does not violate Python's string immutability. In Python, strings are immutable objects, which means that once created, they cannot be modified. However, assigning a value to a string's indexed character actually creates a new string object with the modified value."
   ]
  },
  {
   "cell_type": "code",
   "execution_count": 14,
   "id": "0f443877-1d02-4594-83d5-da36f7d86a57",
   "metadata": {},
   "outputs": [
    {
     "name": "stdout",
     "output_type": "stream",
     "text": [
      "hello world\n",
      "hello Python\n"
     ]
    }
   ],
   "source": [
    "# Example\n",
    "\n",
    "str1 = \"hello world\"\n",
    "str2 = str1[:6] + 'Python' + str1[11:]\n",
    "print(str1)  # Output: \"hello world\"\n",
    "print(str2)  # Output: \"hello Python\"\n"
   ]
  },
  {
   "cell_type": "markdown",
   "id": "bc7d24f3-f597-4942-90ed-4205b87d19e2",
   "metadata": {},
   "source": [
    "# Q2. Does using the += operator to concatenate strings violate Python's string immutability? Why or why not?\n",
    "\n",
    "Using the += operator to concatenate strings does not violate Python's string immutability. Similar to the previous answer, it creates a new string object by concatenating the original string with the new value.\n",
    "\n",
    "Example:"
   ]
  },
  {
   "cell_type": "code",
   "execution_count": 15,
   "id": "d481014b-510d-45a2-9a89-a77d09ad4d52",
   "metadata": {},
   "outputs": [
    {
     "name": "stdout",
     "output_type": "stream",
     "text": [
      "hello world\n"
     ]
    }
   ],
   "source": [
    "str1 = \"hello\"\n",
    "str2 = \" world\"\n",
    "str1 += str2\n",
    "print(str1)  # Output: \"hello world\"\n"
   ]
  },
  {
   "cell_type": "markdown",
   "id": "29297d0e-e995-4e4f-9381-bb1fc4fdbc2f",
   "metadata": {},
   "source": [
    "# Q3. In Python, how many different ways are there to index a character?\n",
    "\n",
    "Ans: In Python, there is only one way to index a character in a string, and that is by using square brackets [].\n",
    "\n",
    "Example:\n",
    "\n"
   ]
  },
  {
   "cell_type": "code",
   "execution_count": 16,
   "id": "9574ec76-9fab-4e63-8f9f-345fe73b00fe",
   "metadata": {},
   "outputs": [
    {
     "name": "stdout",
     "output_type": "stream",
     "text": [
      "e\n"
     ]
    }
   ],
   "source": [
    "str1 = \"hello\"\n",
    "print(str1[1])  # Output: \"e\"\n"
   ]
  },
  {
   "cell_type": "markdown",
   "id": "ab487ca9-6902-4164-a7f4-bd546f6b40e2",
   "metadata": {},
   "source": [
    "# Q4. What is the relationship between indexing and slicing?\n",
    "\n",
    "Ans: Indexing and slicing are related concepts in Python's string manipulation. Indexing is used to extract a single character from a string, while slicing is used to extract a substring from a string.\n",
    "\n",
    "Example:\n",
    "\n"
   ]
  },
  {
   "cell_type": "code",
   "execution_count": 17,
   "id": "5e11fb2d-b129-42da-8def-b96754cb4819",
   "metadata": {},
   "outputs": [
    {
     "name": "stdout",
     "output_type": "stream",
     "text": [
      "e\n",
      "ell\n"
     ]
    }
   ],
   "source": [
    "str1 = \"hello\"\n",
    "print(str1[1])      # Output: \"e\"\n",
    "print(str1[1:4])    # Output: \"ell\"\n"
   ]
  },
  {
   "cell_type": "markdown",
   "id": "2b3ec8bb-5eb0-4a62-ab19-0873c8aeff4a",
   "metadata": {},
   "source": [
    "# Q5. What is an indexed character's exact data type? What is the data form of a slicing-generated substring?\n",
    "\n",
    "Ans: The exact data type of an indexed character in Python is a string of length 1. The data form of a slicing-generated substring is also a string.\n",
    "\n",
    "Example:"
   ]
  },
  {
   "cell_type": "code",
   "execution_count": 18,
   "id": "7fac631b-42e4-450c-9575-5a2b13f6ff22",
   "metadata": {},
   "outputs": [
    {
     "name": "stdout",
     "output_type": "stream",
     "text": [
      "<class 'str'>\n",
      "<class 'str'>\n"
     ]
    }
   ],
   "source": [
    "str1 = \"hello\"\n",
    "char = str1[1]\n",
    "print(type(char))   # Output: <class 'str'>\n",
    "\n",
    "substr = str1[1:4]\n",
    "print(type(substr)) # Output: <class 'str'>\n"
   ]
  },
  {
   "cell_type": "markdown",
   "id": "1fbd6ee6-5188-4c25-95e2-f52599a4de56",
   "metadata": {},
   "source": [
    "# Q6. What is the relationship between string and character \"types\" in Python?\n",
    "\n",
    "Ans:  In Python, there is no separate \"character\" type; characters are represented as single-character strings. Therefore, a string can be seen as a sequence of characters.\n",
    "\n",
    "Example:"
   ]
  },
  {
   "cell_type": "code",
   "execution_count": 19,
   "id": "47cca6d2-8716-4ef7-bafd-71ebdb7bf1f7",
   "metadata": {},
   "outputs": [
    {
     "name": "stdout",
     "output_type": "stream",
     "text": [
      "<class 'str'>\n"
     ]
    }
   ],
   "source": [
    "str1 = \"hello\"\n",
    "char = str1[1]\n",
    "print(type(char))   # Output: <class 'str'>\n"
   ]
  },
  {
   "cell_type": "markdown",
   "id": "c3a2940c-9784-4db8-8f16-1100bce8b47d",
   "metadata": {},
   "source": [
    "# Q7. Identify at least two operators and one method that allow you to combine one or more smaller strings to create a larger string.\n",
    "\n",
    "Ans: Two operators that allow you to combine one or more smaller strings to create a larger string are the + operator and the * operator. The join() method can also be used to concatenate a list of strings into a single string.\n",
    "\n",
    "Example:"
   ]
  },
  {
   "cell_type": "code",
   "execution_count": 20,
   "id": "b26874f7-5d4e-4953-8c95-6721fd95a042",
   "metadata": {},
   "outputs": [
    {
     "name": "stdout",
     "output_type": "stream",
     "text": [
      "hello world\n",
      "hihihi\n",
      "hello world\n"
     ]
    }
   ],
   "source": [
    "str1 = \"hello\"\n",
    "str2 = \"world\"\n",
    "concat = str1 + \" \" + str2\n",
    "print(concat)  # Output: \"hello world\"\n",
    "\n",
    "str3 = \"hi\"\n",
    "repeat = str3 * 3\n",
    "print(repeat)  # Output: \"hihihi\"\n",
    "\n",
    "list1 = [\"hello\", \"world\"]\n",
    "join_str = \" \".join(list1)\n",
    "print(join_str)  # Output: \"hello world\"\n"
   ]
  },
  {
   "cell_type": "markdown",
   "id": "70385c2e-3ca3-4207-a431-547d3d7c706c",
   "metadata": {},
   "source": [
    "# Q8. What is the benefit of first checking the target string with in or not in before using the index method to find a substring?\n",
    "\n",
    "Ans: The benefit of first checking the target string with in or not in before using the index() method to find a substring is that it avoids raising a ValueError exception when the substring is not found. Using in or not in allows you to check if a substring exists in the string without throwing an error, and then use index() to find the position of the substring if it exists.\n",
    "\n"
   ]
  },
  {
   "cell_type": "code",
   "execution_count": 21,
   "id": "dd3e395c-b617-479c-a979-96c6ada5b37b",
   "metadata": {},
   "outputs": [
    {
     "ename": "ValueError",
     "evalue": "substring not found",
     "output_type": "error",
     "traceback": [
      "\u001b[0;31m---------------------------------------------------------------------------\u001b[0m",
      "\u001b[0;31mValueError\u001b[0m                                Traceback (most recent call last)",
      "Cell \u001b[0;32mIn[21], line 3\u001b[0m\n\u001b[1;32m      1\u001b[0m \u001b[38;5;66;03m# If the substring is not present we will get ValueError\u001b[39;00m\n\u001b[1;32m      2\u001b[0m str1 \u001b[38;5;241m=\u001b[39m \u001b[38;5;124m\"\u001b[39m\u001b[38;5;124mhello world\u001b[39m\u001b[38;5;124m\"\u001b[39m\n\u001b[0;32m----> 3\u001b[0m \u001b[38;5;28mprint\u001b[39m(\u001b[43mstr1\u001b[49m\u001b[38;5;241;43m.\u001b[39;49m\u001b[43mindex\u001b[49m\u001b[43m(\u001b[49m\u001b[38;5;124;43m\"\u001b[39;49m\u001b[38;5;124;43mhi\u001b[39;49m\u001b[38;5;124;43m\"\u001b[39;49m\u001b[43m)\u001b[49m)\n",
      "\u001b[0;31mValueError\u001b[0m: substring not found"
     ]
    }
   ],
   "source": [
    "# If the substring is not present we will get ValueError\n",
    "str1 = \"hello world\"\n",
    "print(str1.index(\"hi\"))"
   ]
  },
  {
   "cell_type": "code",
   "execution_count": null,
   "id": "74eebffd-0414-4920-badc-8558cbebc95a",
   "metadata": {},
   "outputs": [],
   "source": [
    "\n",
    "if \"world\" in str1:\n",
    "    index = str1.index(\"world\")\n",
    "    print(index)  # Output: \n",
    "\n"
   ]
  },
  {
   "cell_type": "code",
   "execution_count": null,
   "id": "8de680c6-5518-442c-9706-27127a578cf1",
   "metadata": {},
   "outputs": [],
   "source": [
    "# The substring is not present but we can avoid the ValueError exception\n",
    "if \"hi\" in str1:\n",
    "    print(str1.index(\"hi\"))\n",
    "else:\n",
    "    print(\"Substring not found\")"
   ]
  },
  {
   "cell_type": "markdown",
   "id": "4a303e19-9444-44ac-a264-400155188a68",
   "metadata": {},
   "source": [
    "# Q9. Which operators and built-in string methods produce simple Boolean (true/false) results?\n",
    "\n",
    "Ans: Here are some operators and built-in string methods that produce simple Boolean (true/false) results:\n",
    "\n",
    "- in and not in: These operators test whether a substring is present or absent in a string and return a Boolean value accordingly.\n",
    "\n",
    "- startswith() and endswith(): These methods test whether a string starts or ends with a specific substring and return a Boolean value accordingly.\n",
    "\n",
    "- isalnum(), isalpha(), isdigit(), islower(), isupper(), isspace(), istitle(): These methods test whether a string has specific properties (such as consisting only of alphanumeric characters, being all lowercase, etc.) and return a Boolean value accordingly."
   ]
  },
  {
   "cell_type": "code",
   "execution_count": null,
   "id": "f416d9e6-5513-4f21-b0f3-506f2c092d62",
   "metadata": {},
   "outputs": [],
   "source": [
    "s = \"hello world\"\n",
    "\n",
    "# in and not in operators\n",
    "print('l' in s)  # True\n",
    "print('x' in s)  # False\n",
    "\n",
    "# startswith and endswith methods\n",
    "print(s.startswith('hello'))  # True\n",
    "print(s.endswith('world'))  # True\n",
    "\n",
    "# isnumeric and isalnum methods\n",
    "print('123'.isnumeric())  # True\n",
    "print('hello123'.isalnum())  # True\n",
    "\n",
    "# isalpha and islower methods\n",
    "print('hello'.isalpha())  # True\n",
    "print('hello'.islower())  # True\n",
    "\n"
   ]
  },
  {
   "cell_type": "code",
   "execution_count": null,
   "id": "9d9bdf84-a3c2-4a40-8754-564fea08d260",
   "metadata": {},
   "outputs": [],
   "source": []
  }
 ],
 "metadata": {
  "kernelspec": {
   "display_name": "Python 3 (ipykernel)",
   "language": "python",
   "name": "python3"
  },
  "language_info": {
   "codemirror_mode": {
    "name": "ipython",
    "version": 3
   },
   "file_extension": ".py",
   "mimetype": "text/x-python",
   "name": "python",
   "nbconvert_exporter": "python",
   "pygments_lexer": "ipython3",
   "version": "3.10.6"
  }
 },
 "nbformat": 4,
 "nbformat_minor": 5
}
