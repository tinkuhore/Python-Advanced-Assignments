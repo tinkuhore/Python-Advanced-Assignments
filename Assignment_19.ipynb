{
 "cells": [
  {
   "cell_type": "markdown",
   "id": "b3b41913-bf72-435c-ac0d-1846fec2710a",
   "metadata": {},
   "source": [
    "# Q1. Define the relationship between a class and its instances. Is it a one-to-one or a one-to-many partnership, for example?\n",
    "\n",
    "A1. A class is a blueprint for creating objects, while an instance is a single, unique unit of a class that contains its own data. The relationship between a class and its instances is a one-to-many partnership. A class can have many instances, each with its own values and behaviors."
   ]
  },
  {
   "cell_type": "markdown",
   "id": "df49160e-16f0-4be5-a8ab-f2b7dde54a10",
   "metadata": {},
   "source": [
    "# Q2. What kind of data is held only in an instance?\n",
    "\n",
    "A2. Instance data is data that is unique to each instance of a class. It is held only in an instance and not shared among other instances or the class itself. Instance data is defined by instance variables or attributes.\n",
    "\n",
    "Example:\n",
    "In this example, name and age are instance variables that hold data unique to each instance of the Person class."
   ]
  },
  {
   "cell_type": "code",
   "execution_count": 6,
   "id": "71ab4383-600d-4041-98c6-4d755bdb6eee",
   "metadata": {},
   "outputs": [
    {
     "name": "stdout",
     "output_type": "stream",
     "text": [
      "John\n",
      "30\n"
     ]
    }
   ],
   "source": [
    "class Person:\n",
    "    def __init__(self, name, age):\n",
    "        self.name = name\n",
    "        self.age = age\n",
    "\n",
    "person1 = Person(\"John\", 25)\n",
    "person2 = Person(\"Jane\", 30)\n",
    "\n",
    "print(person1.name) \n",
    "print(person2.age) \n"
   ]
  },
  {
   "cell_type": "markdown",
   "id": "f81ab9e1-783f-4570-a19c-f8fcee31591b",
   "metadata": {},
   "source": [
    "# Q3. What kind of knowledge is stored in a class?\n",
    "\n",
    "A3. A class stores knowledge about the properties and behaviors that its instances will have. This includes instance variables, methods, and other class-level attributes. The knowledge stored in a class is used to create and manipulate instances of the class.\n",
    "\n",
    "Example:\n",
    "    In this example, the Car class stores knowledge about its attributes (wheels, make, and model) and its behavior (start() method)."
   ]
  },
  {
   "cell_type": "code",
   "execution_count": 7,
   "id": "04507661-3df6-4310-a6b9-522f617d2335",
   "metadata": {},
   "outputs": [
    {
     "name": "stdout",
     "output_type": "stream",
     "text": [
      "4\n",
      "Honda\n",
      "Starting the engine...\n"
     ]
    }
   ],
   "source": [
    "class Car:\n",
    "    wheels = 4 # class variable\n",
    "\n",
    "    def __init__(self, make, model):\n",
    "        self.make = make # instance variable\n",
    "        self.model = model # instance variable\n",
    "\n",
    "    def start(self):\n",
    "        print(\"Starting the engine...\")\n",
    "\n",
    "car1 = Car(\"Toyota\", \"Camry\")\n",
    "car2 = Car(\"Honda\", \"Accord\")\n",
    "\n",
    "print(car1.wheels) # output: 4\n",
    "print(car2.make) # output: Honda\n",
    "\n",
    "car1.start() # output: Starting the engine...\n"
   ]
  },
  {
   "cell_type": "markdown",
   "id": "5484a7d2-f2ca-4bcb-b102-cb2770bff175",
   "metadata": {},
   "source": [
    "# Q4. What exactly is a method, and how is it different from a regular function?\n",
    "\n",
    "A4. A method is a function that is defined inside a class and is associated with an instance of that class. Methods are used to define the behaviors of an instance and are called using the instance itself. A regular function, on the other hand, is not associated with any class or instance and is called directly.\n",
    "\n",
    "Example:\n",
    "    In this example, area() is a method of the Rectangle class and add() is a regular function."
   ]
  },
  {
   "cell_type": "code",
   "execution_count": 8,
   "id": "7f09cb6d-79a4-4863-b07c-a1ace6ecbcbe",
   "metadata": {},
   "outputs": [
    {
     "name": "stdout",
     "output_type": "stream",
     "text": [
      "50\n",
      "5\n"
     ]
    }
   ],
   "source": [
    "class Rectangle:\n",
    "    def __init__(self, width, height):\n",
    "        self.width = width\n",
    "        self.height = height\n",
    "\n",
    "    def area(self):\n",
    "        return self.width * self.height\n",
    "\n",
    "def add(x, y):\n",
    "    return x + y\n",
    "\n",
    "rect = Rectangle(5, 10)\n",
    "\n",
    "print(rect.area())  \n",
    "print(add(2, 3))  \n"
   ]
  },
  {
   "cell_type": "markdown",
   "id": "eb8ea473-5388-4e66-bd6a-2b9ff04e8211",
   "metadata": {},
   "source": [
    "# Q5. Is inheritance supported in Python, and if so, what is the syntax?\n",
    "\n",
    "A5. Yes, inheritance is supported in Python. The syntax for inheritance is as follows:"
   ]
  },
  {
   "cell_type": "code",
   "execution_count": 9,
   "id": "a4435d00-ece1-4ca3-8a10-a2ee038784d8",
   "metadata": {},
   "outputs": [],
   "source": [
    "class Parent:\n",
    "    pass\n",
    "\n",
    "class Child(Parent):\n",
    "    pass\n"
   ]
  },
  {
   "cell_type": "markdown",
   "id": "4c68a980-fdca-455b-b302-f95eeccbca48",
   "metadata": {},
   "source": [
    "# Q6. How much encapsulation (making instance or class variables private) does Python support?\n",
    "\n",
    "Python supports a limited form of encapsulation. Private variables can be created in Python by prefixing the variable name with two underscores (e.g. \"__private_variable\"). However, this is only a convention, and the variable can still be accessed from outside the class by name mangling. This means that the variable name is changed by adding an underscore and the class name before the original name (e.g. \"_ClassName__private_variable\")."
   ]
  },
  {
   "cell_type": "markdown",
   "id": "cf505f69-e81e-4a3f-b43d-6f0ee4f8fe21",
   "metadata": {},
   "source": [
    "# Q7. How do you distinguish between a class variable and an instance variable?\n",
    "\n",
    "Class variables are shared by all instances of a class and are defined at the class level, outside of any method. Instance variables are specific to each instance of a class and are defined inside the constructor method (init).\n",
    "\n",
    "Here is an example:\n",
    "    In this example, \"class_variable\" is a class variable, while \"instance_variable\" is an instance variable."
   ]
  },
  {
   "cell_type": "code",
   "execution_count": 10,
   "id": "b3a04e16-45a3-4100-bff0-7c92caed6360",
   "metadata": {},
   "outputs": [],
   "source": [
    "class MyClass:\n",
    "    class_variable = 0\n",
    "\n",
    "    def __init__(self, instance_variable):\n",
    "        self.instance_variable = instance_variable\n"
   ]
  },
  {
   "cell_type": "markdown",
   "id": "e5cbf629-15bb-4cfe-a450-f0a219a56640",
   "metadata": {},
   "source": [
    "# Q8. When, if ever, can self be included in a class's method definitions?\n",
    "\n",
    "The \"self\" parameter is used in a class's method definitions to refer to the instance of the class that the method is being called on. It should be included in all instance method definitions, as it allows the method to access the instance's attributes and methods.\n",
    "\n",
    "Here is an example:\n",
    "In this example, \"self\" is used in both the constructor method (init) and the instance method (my_method).\n",
    "\n"
   ]
  },
  {
   "cell_type": "code",
   "execution_count": 11,
   "id": "eb55404a-ba8f-4aac-bda7-947f47d92e06",
   "metadata": {},
   "outputs": [],
   "source": [
    "class MyClass:\n",
    "    def __init__(self, x):\n",
    "        self.x = x\n",
    "\n",
    "    def my_method(self, y):\n",
    "        return self.x + y\n"
   ]
  },
  {
   "cell_type": "markdown",
   "id": "c383fd13-8f46-4cda-b086-a301fefe5c3d",
   "metadata": {},
   "source": [
    "# Q9. What is the difference between the add and the radd methods?\n",
    "\n",
    "The \"add\" method is used to define the behavior of the \"+\" operator when applied to an instance of a class. The \"radd\" method is used to define the behavior of the \"+\" operator when the other operand is not an instance of the class, but can be converted to one.\n",
    "\n",
    "Here is an example:\n",
    "    In this example, the \"add\" method defines the behavior of the \"+\" operator when applied to two instances of MyClass. The \"radd\" method defines the behavior of the \"+\" operator when the other operand is an integer."
   ]
  },
  {
   "cell_type": "code",
   "execution_count": 12,
   "id": "a0e9acec-a1b9-412b-8ca0-81ced7364924",
   "metadata": {},
   "outputs": [],
   "source": [
    "class MyClass:\n",
    "    def __init__(self, x):\n",
    "        self.x = x\n",
    "\n",
    "    def __add__(self, other):\n",
    "        return MyClass(self.x + other.x)\n",
    "\n",
    "    def __radd__(self, other):\n",
    "        return MyClass(self.x + other)\n"
   ]
  },
  {
   "cell_type": "markdown",
   "id": "c8d555f5-1255-4b01-b930-9088438e7168",
   "metadata": {},
   "source": [
    "# Q10. When is it necessary to use a reflection method? When do you not need it, even though you support the operation in question?\n",
    "\n",
    "A reflection method is a method that allows a program to examine or modify its own structure and behavior at runtime. Reflection is useful when the structure of a program is not known at compile time, or when the program needs to modify its behavior dynamically based on user input or other factors.\n",
    "\n",
    "Reflection is not always necessary, and can sometimes be avoided by using static typing or other techniques. However, in some cases, such as with dynamic languages like Python, reflection is the only way to achieve certain behaviors.\n",
    "\n"
   ]
  },
  {
   "cell_type": "markdown",
   "id": "aae2d909-d476-455d-94c2-983fd993758c",
   "metadata": {},
   "source": [
    "# Q11. What is the iadd method called?\n",
    "\n",
    "A11. The iadd method is called when the += operator is used on an object. It is used to modify the object in place by adding another object to it. The syntax for defining the iadd method is:"
   ]
  },
  {
   "cell_type": "code",
   "execution_count": 13,
   "id": "3b81292e-53df-4f19-b878-266d5ab824b0",
   "metadata": {},
   "outputs": [],
   "source": [
    "def __iadd__(self, other):\n",
    "    # code to add other to self\n",
    "    return self\n"
   ]
  },
  {
   "cell_type": "code",
   "execution_count": 14,
   "id": "f5f153ca-efdd-4f9e-824c-6adc3283f6a1",
   "metadata": {},
   "outputs": [
    {
     "name": "stdout",
     "output_type": "stream",
     "text": [
      "[1, 2, 3, 4, 5, 6]\n"
     ]
    }
   ],
   "source": [
    "class MyList:\n",
    "    def __init__(self, data):\n",
    "        self.data = data\n",
    "\n",
    "    def __iadd__(self, other):\n",
    "        if isinstance(other, MyList):\n",
    "            self.data += other.data\n",
    "        elif isinstance(other, list):\n",
    "            self.data += other\n",
    "        else:\n",
    "            self.data.append(other)\n",
    "        return self\n",
    "\n",
    "a = MyList([1, 2, 3])\n",
    "b = MyList([4, 5, 6])\n",
    "a += b\n",
    "print(a.data)  \n"
   ]
  },
  {
   "cell_type": "code",
   "execution_count": null,
   "id": "9e1616d1-9bc3-4e66-9d0b-26fe9bc0cfa8",
   "metadata": {},
   "outputs": [],
   "source": []
  }
 ],
 "metadata": {
  "kernelspec": {
   "display_name": "Python 3 (ipykernel)",
   "language": "python",
   "name": "python3"
  },
  "language_info": {
   "codemirror_mode": {
    "name": "ipython",
    "version": 3
   },
   "file_extension": ".py",
   "mimetype": "text/x-python",
   "name": "python",
   "nbconvert_exporter": "python",
   "pygments_lexer": "ipython3",
   "version": "3.10.6"
  }
 },
 "nbformat": 4,
 "nbformat_minor": 5
}
