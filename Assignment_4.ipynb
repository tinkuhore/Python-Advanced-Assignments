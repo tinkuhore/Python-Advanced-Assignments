{
 "cells": [
  {
   "cell_type": "markdown",
   "id": "dbc9849f-7d95-4662-ac7f-d75373fd4457",
   "metadata": {},
   "source": [
    "# Q1. Which two operator overloading methods can you use in our classes to support iteration?\n",
    "\n",
    "To support iteration in our classes, we can use the special methods __iter__ and __next__.\n",
    "\n",
    "__iter__(self) method returns an iterator object for the class. It is called when the object is used in a for loop and returns an iterator that can be used to iterate over the object.\n",
    "\n",
    "__next__(self) method returns the next value of the iterator. It is called for each iteration of the for loop and raises the StopIteration exception when there are no more values to return.\n",
    "\n",
    "Here's an example of a class that supports iteration using the above methods:"
   ]
  },
  {
   "cell_type": "code",
   "execution_count": 1,
   "id": "ccfe0f21-6488-4d34-9be1-ac42c2bae9bb",
   "metadata": {},
   "outputs": [
    {
     "name": "stdout",
     "output_type": "stream",
     "text": [
      "1\n",
      "2\n",
      "3\n"
     ]
    }
   ],
   "source": [
    "class MyList:\n",
    "    def __init__(self, lst):\n",
    "        self.data = lst\n",
    "        self.index = 0\n",
    "\n",
    "    def __iter__(self):\n",
    "        return self\n",
    "\n",
    "    def __next__(self):\n",
    "        if self.index >= len(self.data):\n",
    "            raise StopIteration\n",
    "        else:\n",
    "            value = self.data[self.index]\n",
    "            self.index += 1\n",
    "            return value\n",
    "\n",
    "my_list = MyList([1, 2, 3])\n",
    "for num in my_list:\n",
    "    print(num)\n"
   ]
  },
  {
   "cell_type": "markdown",
   "id": "f76ee6b1-f87d-4690-93b8-1abd46fbecc5",
   "metadata": {},
   "source": [
    "# Q2. In what contexts do the two operator overloading methods manage printing?\n",
    "\n",
    "The two operator overloading methods that manage printing are __str__ and __repr__.\n",
    "\n",
    "__str__(self) method returns the string representation of the object and is called when str() function is used on the object. It is used to provide a user-friendly string representation of the object.\n",
    "\n",
    "__repr__(self) method returns the string representation of the object and is called when repr() function is used on the object. It is used to provide a developer-friendly string representation of the object for debugging purposes.\n",
    "\n",
    "Here's an example of a class that implements these methods:"
   ]
  },
  {
   "cell_type": "code",
   "execution_count": 2,
   "id": "4a7511a8-3046-447f-9b59-465554605210",
   "metadata": {},
   "outputs": [
    {
     "name": "stdout",
     "output_type": "stream",
     "text": [
      "John (30)\n",
      "Person('John', 30)\n"
     ]
    }
   ],
   "source": [
    "class Person:\n",
    "    def __init__(self, name, age):\n",
    "        self.name = name\n",
    "        self.age = age\n",
    "\n",
    "    def __str__(self):\n",
    "        return f\"{self.name} ({self.age})\"\n",
    "\n",
    "    def __repr__(self):\n",
    "        return f\"Person('{self.name}', {self.age})\"\n",
    "\n",
    "p = Person(\"John\", 30)\n",
    "print(p)       # calls __str__ method\n",
    "print(repr(p)) # calls __repr__ method\n"
   ]
  },
  {
   "cell_type": "markdown",
   "id": "bc1652a2-100c-498b-8086-5eec4f800a44",
   "metadata": {},
   "source": [
    "# Q3. In a class, how do you intercept slice operations?\n",
    "\n",
    "To intercept slice operations in a class, we can use the special method __getitem__. This method is called when the object is indexed with square brackets and allows us to intercept slice operations by returning a slice object.\n",
    "\n",
    "Here's an example of a class that intercepts slice operations using __getitem__ method:"
   ]
  },
  {
   "cell_type": "code",
   "execution_count": 4,
   "id": "17bf6b0c-acb6-41ff-94fc-99097be6a65d",
   "metadata": {},
   "outputs": [
    {
     "name": "stdout",
     "output_type": "stream",
     "text": [
      "[1, 2, 3]\n",
      "4\n"
     ]
    }
   ],
   "source": [
    "class MyList:\n",
    "    def __init__(self, lst):\n",
    "        self.data = lst\n",
    "\n",
    "    def __getitem__(self, index):\n",
    "        if isinstance(index, slice):\n",
    "            start = index.start or 0\n",
    "            stop = index.stop or len(self.data)\n",
    "            step = index.step or 1\n",
    "            return self.data[start:stop:step]\n",
    "        else:\n",
    "            return self.data[index]\n",
    "\n",
    "my_list = MyList([1, 2, 3, 4, 5])\n",
    "print(my_list[:3])  # intercepts slice operation\n",
    "print(my_list[3])"
   ]
  },
  {
   "cell_type": "markdown",
   "id": "7f3f5087-81b6-4638-9add-938dd151eba4",
   "metadata": {},
   "source": [
    "# Q4. In a class, how do you capture in-place addition?\n",
    "\n",
    "To capture in-place addition in a class, we can use the special method __iadd__. This method is called when the object is used with the += operator and allows us to modify the object in-place.\n",
    "\n",
    "Here's an example of a class that captures in-place addition using __iadd__ method:"
   ]
  },
  {
   "cell_type": "code",
   "execution_count": 5,
   "id": "f0528a44-4efa-4ca1-89dc-9b819d3fe657",
   "metadata": {},
   "outputs": [
    {
     "name": "stdout",
     "output_type": "stream",
     "text": [
      "[1, 2, 3, 4, 5, 6]\n"
     ]
    }
   ],
   "source": [
    "class MyList:\n",
    "    def __init__(self, lst):\n",
    "        self.data = lst\n",
    "\n",
    "    def __iadd__(self, other):\n",
    "        self.data.extend(other)\n",
    "        return self\n",
    "\n",
    "my_list = MyList([1, 2, 3])\n",
    "my_list += [4, 5, 6]   # captures in-place addition\n",
    "print(my_list.data)    # prints [1, 2, 3, 4, 5, 6]\n"
   ]
  },
  {
   "cell_type": "markdown",
   "id": "02be2b64-725e-4682-b13f-270ff77a1381",
   "metadata": {},
   "source": [
    "# Q5. When is it appropriate to use operator overloading?\n",
    "\n",
    "Operator overloading should be used when we want to define how the built-in operators behave on our custom classes. It allows us to define the behavior of these operators to make our classes more intuitive and easier to work with.\n",
    "\n",
    "Some scenarios where operator overloading is appropriate include:\n",
    "\n",
    "- When we want to define arithmetic operations on our custom classes. For example, defining addition between two objects of our custom class.\n",
    "\n",
    "- When we want to define comparison operations on our custom classes. For example, defining the behavior of the > operator for objects of our custom class.\n",
    "\n",
    "- When we want to define operations for container objects such as lists or sets. For example, defining the behavior of the in operator for our custom list class.\n",
    "\n",
    "However, we should be cautious when using operator overloading and make sure that the behavior we define is consistent with the built-in behavior of the operators. We should also make sure to document the behavior of the operators in our code to avoid confusion for other developers who may be working with our code.\n",
    "\n",
    "here's an example of using operator overloading to define addition and subtraction for a custom class:here's an example of using operator overloading to define addition and subtraction for a custom class:"
   ]
  },
  {
   "cell_type": "code",
   "execution_count": 6,
   "id": "7af13903-0e6f-4dc5-bfc2-b9efb279eeee",
   "metadata": {},
   "outputs": [
    {
     "name": "stdout",
     "output_type": "stream",
     "text": [
      "(3, 5)\n",
      "(1, 1)\n"
     ]
    }
   ],
   "source": [
    "class Vector:\n",
    "    def __init__(self, x, y):\n",
    "        self.x = x\n",
    "        self.y = y\n",
    "\n",
    "    def __add__(self, other):\n",
    "        return Vector(self.x + other.x, self.y + other.y)\n",
    "\n",
    "    def __sub__(self, other):\n",
    "        return Vector(self.x - other.x, self.y - other.y)\n",
    "\n",
    "    def __str__(self):\n",
    "        return f\"({self.x}, {self.y})\"\n",
    "\n",
    "v1 = Vector(2, 3)\n",
    "v2 = Vector(1, 2)\n",
    "\n",
    "v3 = v1 + v2\n",
    "print(v3)    # prints \"(3, 5)\"\n",
    "\n",
    "v4 = v1 - v2\n",
    "print(v4)    # prints \"(1, 1)\"\n"
   ]
  },
  {
   "cell_type": "code",
   "execution_count": null,
   "id": "b9e6edc9-2049-4d30-b80a-fea487ee53b1",
   "metadata": {},
   "outputs": [],
   "source": []
  }
 ],
 "metadata": {
  "kernelspec": {
   "display_name": "Python 3 (ipykernel)",
   "language": "python",
   "name": "python3"
  },
  "language_info": {
   "codemirror_mode": {
    "name": "ipython",
    "version": 3
   },
   "file_extension": ".py",
   "mimetype": "text/x-python",
   "name": "python",
   "nbconvert_exporter": "python",
   "pygments_lexer": "ipython3",
   "version": "3.10.6"
  }
 },
 "nbformat": 4,
 "nbformat_minor": 5
}
