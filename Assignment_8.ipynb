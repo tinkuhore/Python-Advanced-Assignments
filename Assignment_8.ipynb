{
 "cells": [
  {
   "cell_type": "code",
   "execution_count": 16,
   "id": "632b93b1-0caa-4ded-ab70-4b1d68f52052",
   "metadata": {},
   "outputs": [
    {
     "ename": "SyntaxError",
     "evalue": "invalid syntax (1534969724.py, line 5)",
     "output_type": "error",
     "traceback": [
      "\u001b[0;36m  Cell \u001b[0;32mIn[16], line 5\u001b[0;36m\u001b[0m\n\u001b[0;31m    Q4. Describe two methods for specifying the text of an exception object&#39;s error message.\u001b[0m\n\u001b[0m                 ^\u001b[0m\n\u001b[0;31mSyntaxError\u001b[0m\u001b[0;31m:\u001b[0m invalid syntax\n"
     ]
    }
   ],
   "source": [
    "\n",
    "\n",
    "Q2. How are class-based exceptions that have been raised matched to handlers?\n",
    "\n",
    "\n",
    "\n",
    "Q4. Describe two methods for specifying the text of an exception object&#39;s error message.\n",
    "\n",
    "Q5. Why do you no longer use string-based exceptions?"
   ]
  },
  {
   "cell_type": "markdown",
   "id": "932c2b32-d332-442f-9b48-cbebb6c5c0c5",
   "metadata": {},
   "source": [
    "# Q1. What are the two latest user-defined exception constraints in Python 3.X?\n",
    "\n",
    "There are two new user-defined exception constraints introduced in Python 3.X:\n",
    "\n",
    "The exception must be derived from the built-in Exception class or one of its subclasses.\n",
    "\n",
    "The exception should have an __init__() method to set the exception message.\n",
    "\n",
    "Here's an example of a custom exception that follows these constraints:"
   ]
  },
  {
   "cell_type": "code",
   "execution_count": 19,
   "id": "52b6260f-33b5-4d3e-8f76-fe7fba0da261",
   "metadata": {},
   "outputs": [],
   "source": [
    "# This CustomException class is derived from the Exception class \n",
    "# and has an __init__() method that sets the exception message.\n",
    "\n",
    "\n",
    "class CustomException(Exception):\n",
    "    def __init__(self, message):\n",
    "        super().__init__(message)\n"
   ]
  },
  {
   "cell_type": "markdown",
   "id": "c0d5c5ed-a62c-439a-ae81-902543fc66bd",
   "metadata": {},
   "source": [
    "# Q2. How are class-based exceptions that have been raised matched to handlers?\n",
    "\n",
    "When a class-based exception is raised in Python, the interpreter looks for the closest matching exception handler by searching the call stack from top to bottom. The search starts at the point where the exception is raised and continues until a handler is found or the program terminates.\n",
    "\n",
    "The matching process considers both the type of the exception and the hierarchy of its base classes. If a handler is found that matches the exception type or any of its base classes, the handler is executed. If no matching handler is found, the exception is considered unhandled and the program terminates with a traceback message.\n",
    "\n",
    "Here's an example that demonstrates how class-based exceptions are matched to handlers:\n"
   ]
  },
  {
   "cell_type": "code",
   "execution_count": 17,
   "id": "1e5d373f-df17-43e6-b72b-6b28696859e5",
   "metadata": {},
   "outputs": [
    {
     "name": "stdout",
     "output_type": "stream",
     "text": [
      "CustomException caught\n"
     ]
    }
   ],
   "source": [
    "class CustomException(Exception):\n",
    "    pass\n",
    "\n",
    "try:\n",
    "    raise CustomException(\"Something went wrong\")\n",
    "except CustomException:\n",
    "    print(\"CustomException caught\")\n",
    "except Exception:\n",
    "    print(\"Other exception caught\")\n"
   ]
  },
  {
   "cell_type": "markdown",
   "id": "8ec2b643-5ecc-45d6-b44e-2caf7551e237",
   "metadata": {},
   "source": [
    "In this example, we define a custom exception class CustomException and raise an instance of it with a message. We then have two exception handlers: one for CustomException and one for Exception. The CustomException handler is executed because it matches the raised exception, and the message \"CustomException caught\" is printed."
   ]
  },
  {
   "cell_type": "markdown",
   "id": "6d2369e9-276d-4259-91b9-e824450401d5",
   "metadata": {},
   "source": [
    "# Q3. Describe two methods for attaching context information to exception artefacts.\n",
    "\n",
    "In Python, there are a few methods for attaching context information to exception artifacts. Here are two commonly used methods:\n",
    "\n",
    "Using the raise statement with from: The raise statement in Python allows us to raise an exception and provide a second exception that caused the first one. This is done using the from keyword, and it allows us to attach the context information of the first exception to the second one. Here's an example"
   ]
  },
  {
   "cell_type": "code",
   "execution_count": 18,
   "id": "d04df8fd-517d-4e29-9c53-ae83e0a92642",
   "metadata": {},
   "outputs": [
    {
     "ename": "CustomException",
     "evalue": "Something went wrong",
     "output_type": "error",
     "traceback": [
      "\u001b[0;31m---------------------------------------------------------------------------\u001b[0m",
      "\u001b[0;31mZeroDivisionError\u001b[0m                         Traceback (most recent call last)",
      "Cell \u001b[0;32mIn[18], line 8\u001b[0m\n\u001b[1;32m      6\u001b[0m \u001b[38;5;28;01mtry\u001b[39;00m:\n\u001b[1;32m      7\u001b[0m     \u001b[38;5;66;03m# some code that raises an exception\u001b[39;00m\n\u001b[0;32m----> 8\u001b[0m     \u001b[38;5;28mprint\u001b[39m(\u001b[38;5;241;43m3\u001b[39;49m\u001b[38;5;241;43m/\u001b[39;49m\u001b[38;5;241;43m0\u001b[39;49m)\n\u001b[1;32m      9\u001b[0m \u001b[38;5;28;01mexcept\u001b[39;00m \u001b[38;5;167;01mZeroDivisionError\u001b[39;00m \u001b[38;5;28;01mas\u001b[39;00m e:\n",
      "\u001b[0;31mZeroDivisionError\u001b[0m: division by zero",
      "\nThe above exception was the direct cause of the following exception:\n",
      "\u001b[0;31mCustomException\u001b[0m                           Traceback (most recent call last)",
      "Cell \u001b[0;32mIn[18], line 10\u001b[0m\n\u001b[1;32m      8\u001b[0m     \u001b[38;5;28mprint\u001b[39m(\u001b[38;5;241m3\u001b[39m\u001b[38;5;241m/\u001b[39m\u001b[38;5;241m0\u001b[39m)\n\u001b[1;32m      9\u001b[0m \u001b[38;5;28;01mexcept\u001b[39;00m \u001b[38;5;167;01mZeroDivisionError\u001b[39;00m \u001b[38;5;28;01mas\u001b[39;00m e:\n\u001b[0;32m---> 10\u001b[0m     \u001b[38;5;28;01mraise\u001b[39;00m CustomException(\u001b[38;5;124m\"\u001b[39m\u001b[38;5;124mSomething went wrong\u001b[39m\u001b[38;5;124m\"\u001b[39m) \u001b[38;5;28;01mfrom\u001b[39;00m \u001b[38;5;21;01me\u001b[39;00m\n",
      "\u001b[0;31mCustomException\u001b[0m: Something went wrong"
     ]
    }
   ],
   "source": [
    "#In this example, we catch a ValueError exception and \n",
    "#raise a CustomException exception with the from keyword, \n",
    "#which attaches the context information of the ValueError \n",
    "#exception to the CustomException exception.\n",
    "\n",
    "try:\n",
    "    # some code that raises an exception\n",
    "    print(3/0)\n",
    "except ZeroDivisionError as e:\n",
    "    raise CustomException(\"Something went wrong\") from e\n"
   ]
  },
  {
   "cell_type": "markdown",
   "id": "37f03adc-0c39-43e0-8d67-aca3494026c6",
   "metadata": {},
   "source": [
    "Using the with_traceback() method: The with_traceback() method is available on all exception objects in Python and allows us to attach a traceback to the exception object. This traceback can be generated from any code that was executed prior to the exception being raised. Here's an example:"
   ]
  },
  {
   "cell_type": "markdown",
   "id": "c9e26530-48ec-45bc-bd72-4c8ea5d1a781",
   "metadata": {},
   "source": [
    "In this example, we catch an Exception exception and generate a traceback using the __traceback__ attribute. We then generate some context information and create a new traceback with it. Finally, we attach the new traceback to the original exception using the with_traceback() method and re-raise the exception. This allows us to provide additional context information to the exception traceback."
   ]
  },
  {
   "cell_type": "code",
   "execution_count": 20,
   "id": "980b3ce6-1c8c-4863-bf5a-34618fd405b3",
   "metadata": {},
   "outputs": [
    {
     "ename": "IndentationError",
     "evalue": "expected an indented block after 'try' statement on line 1 (2714353103.py, line 3)",
     "output_type": "error",
     "traceback": [
      "\u001b[0;36m  Cell \u001b[0;32mIn[20], line 3\u001b[0;36m\u001b[0m\n\u001b[0;31m    except Exception as e:\u001b[0m\n\u001b[0m    ^\u001b[0m\n\u001b[0;31mIndentationError\u001b[0m\u001b[0;31m:\u001b[0m expected an indented block after 'try' statement on line 1\n"
     ]
    }
   ],
   "source": [
    "try:\n",
    "    # some code that raises an exception\n",
    "except Exception as e:\n",
    "    tb = e.__traceback__\n",
    "    # some code that generates context information\n",
    "    new_tb = generate_traceback()\n",
    "    raise e.with_traceback(new_tb)\n"
   ]
  },
  {
   "cell_type": "markdown",
   "id": "74dea241-c649-4e73-bdae-a799b9af829c",
   "metadata": {},
   "source": [
    "# Q4. Describe two methods for specifying the text of an exception object's error message.\n",
    "\n",
    "1. In Python, there are different ways to specify the text of an exception object's error message. Here are two methods:\n",
    "\n",
    "Using the raise statement with a message argument: The simplest way to specify the error message of an exception is to pass a string message as an argument to the raise statement. This will create an exception object with the specified error message. Here's an example:\n",
    "\n"
   ]
  },
  {
   "cell_type": "code",
   "execution_count": 21,
   "id": "5db36f95-ab5f-4053-83c5-839cdc1e16a1",
   "metadata": {},
   "outputs": [
    {
     "ename": "NameError",
     "evalue": "This is a custom error message",
     "output_type": "error",
     "traceback": [
      "\u001b[0;31m---------------------------------------------------------------------------\u001b[0m",
      "\u001b[0;31mNameError\u001b[0m                                 Traceback (most recent call last)",
      "Cell \u001b[0;32mIn[21], line 3\u001b[0m\n\u001b[1;32m      2\u001b[0m     a \u001b[38;5;241m=\u001b[39m \u001b[38;5;241m2\u001b[39m\n\u001b[0;32m----> 3\u001b[0m     \u001b[38;5;28mprint\u001b[39m(\u001b[43ms\u001b[49m\u001b[38;5;241m*\u001b[39m\u001b[38;5;241m*\u001b[39m\u001b[38;5;241m2\u001b[39m)\n\u001b[1;32m      4\u001b[0m \u001b[38;5;28;01mexcept\u001b[39;00m \u001b[38;5;167;01mNameError\u001b[39;00m:\n",
      "\u001b[0;31mNameError\u001b[0m: name 's' is not defined",
      "\nDuring handling of the above exception, another exception occurred:\n",
      "\u001b[0;31mNameError\u001b[0m                                 Traceback (most recent call last)",
      "Cell \u001b[0;32mIn[21], line 5\u001b[0m\n\u001b[1;32m      3\u001b[0m     \u001b[38;5;28mprint\u001b[39m(s\u001b[38;5;241m*\u001b[39m\u001b[38;5;241m*\u001b[39m\u001b[38;5;241m2\u001b[39m)\n\u001b[1;32m      4\u001b[0m \u001b[38;5;28;01mexcept\u001b[39;00m \u001b[38;5;167;01mNameError\u001b[39;00m:\n\u001b[0;32m----> 5\u001b[0m     \u001b[38;5;28;01mraise\u001b[39;00m \u001b[38;5;167;01mNameError\u001b[39;00m(\u001b[38;5;124m\"\u001b[39m\u001b[38;5;124mThis is a custom error message\u001b[39m\u001b[38;5;124m\"\u001b[39m)\n",
      "\u001b[0;31mNameError\u001b[0m: This is a custom error message"
     ]
    }
   ],
   "source": [
    "try:\n",
    "    a = 2\n",
    "    print(s**2)\n",
    "except NameError:\n",
    "    raise NameError(\"This is a custom error message\")\n"
   ]
  },
  {
   "cell_type": "markdown",
   "id": "7eab8d62-4718-4406-b77a-dd2774ff9a6c",
   "metadata": {},
   "source": [
    "In this example, we raise a ValueError exception and specify the error message as a string argument to the raise statement.\n",
    "\n"
   ]
  },
  {
   "cell_type": "markdown",
   "id": "90287bc0-1d4d-461b-9801-ddb38f301ce7",
   "metadata": {},
   "source": [
    "2. Defining a custom exception class with a message attribute: Another way to specify the error message of an exception is to define a custom exception class with a message attribute. This allows us to create exceptions with custom error messages that are specific to our use case. Here's an example:"
   ]
  },
  {
   "cell_type": "code",
   "execution_count": 22,
   "id": "47761a1e-2966-4236-b690-46d191a14b7b",
   "metadata": {},
   "outputs": [
    {
     "ename": "IndentationError",
     "evalue": "expected an indented block after 'try' statement on line 5 (3856027115.py, line 8)",
     "output_type": "error",
     "traceback": [
      "\u001b[0;36m  Cell \u001b[0;32mIn[22], line 8\u001b[0;36m\u001b[0m\n\u001b[0;31m    except ValueError:\u001b[0m\n\u001b[0m    ^\u001b[0m\n\u001b[0;31mIndentationError\u001b[0m\u001b[0;31m:\u001b[0m expected an indented block after 'try' statement on line 5\n"
     ]
    }
   ],
   "source": [
    "class CustomException(Exception):\n",
    "    def __init__(self, message):\n",
    "        self.message = message\n",
    "\n",
    "try:\n",
    "    \n",
    "    # some code that raises an exception\n",
    "except ValueError:\n",
    "    raise CustomException(\"This is a custom error message\")\n"
   ]
  },
  {
   "cell_type": "markdown",
   "id": "f90462d7-ab87-4973-8448-d938e571e95c",
   "metadata": {},
   "source": [
    "In this example, we define a custom exception class CustomException that inherits from the built-in Exception class. We define an __init__ method that takes a message argument and assigns it to a message attribute on the object. Then, we raise an instance of this custom exception with the specified error message. This allows us to create exceptions with custom error messages that can be easily understood in the context of our program."
   ]
  },
  {
   "cell_type": "markdown",
   "id": "f3625592-1d49-48b4-8b08-8db7ee1b851f",
   "metadata": {},
   "source": [
    "# Q5. Why do you no longer use string-based exceptions?\n",
    "\n",
    "In Python, it is no longer recommended to use string-based exceptions because they are not as flexible and extensible as class-based exceptions. String-based exceptions were used in older versions of Python, but they have been deprecated since Python 2.6 and removed in Python 3.\n",
    "\n",
    "One of the main disadvantages of string-based exceptions is that they do not allow for additional information to be attached to the exception. With class-based exceptions, you can define attributes on the exception object that provide context information about the exception. This makes it easier to handle the exception and provide more useful error messages to users.\n",
    "\n",
    "In addition, class-based exceptions allow for inheritance and customization. You can define your own exception classes that inherit from built-in exception classes, and add additional attributes and methods that are specific to your application. This makes it easier to organize and maintain your code, and allows for more fine-grained control over how exceptions are handled.\n",
    "\n",
    "Overall, class-based exceptions are more powerful and flexible than string-based exceptions, and provide a better way to handle errors and exceptions in Python."
   ]
  },
  {
   "cell_type": "markdown",
   "id": "aef2de57-8134-4b0c-8eb1-5e3df63f2361",
   "metadata": {},
   "source": [
    "## String-based Exception Example (Python 2.7 and earlier):"
   ]
  },
  {
   "cell_type": "code",
   "execution_count": 23,
   "id": "4083f420-88f5-48bb-a247-8fa644b0e6c5",
   "metadata": {},
   "outputs": [
    {
     "ename": "TypeError",
     "evalue": "catching classes that do not inherit from BaseException is not allowed",
     "output_type": "error",
     "traceback": [
      "\u001b[0;31m---------------------------------------------------------------------------\u001b[0m",
      "\u001b[0;31mTypeError\u001b[0m                                 Traceback (most recent call last)",
      "Cell \u001b[0;32mIn[23], line 3\u001b[0m\n\u001b[1;32m      1\u001b[0m \u001b[38;5;28;01mtry\u001b[39;00m:\n\u001b[1;32m      2\u001b[0m     \u001b[38;5;66;03m# some code that might raise an exception\u001b[39;00m\n\u001b[0;32m----> 3\u001b[0m     \u001b[38;5;28;01mraise\u001b[39;00m \u001b[38;5;124m\"\u001b[39m\u001b[38;5;124mMyCustomException\u001b[39m\u001b[38;5;124m\"\u001b[39m\n\u001b[1;32m      4\u001b[0m \u001b[38;5;28;01mexcept\u001b[39;00m \u001b[38;5;124m\"\u001b[39m\u001b[38;5;124mMyCustomException\u001b[39m\u001b[38;5;124m\"\u001b[39m:\n\u001b[1;32m      5\u001b[0m     \u001b[38;5;66;03m# handle the exception\u001b[39;00m\n",
      "\u001b[0;31mTypeError\u001b[0m: exceptions must derive from BaseException",
      "\nDuring handling of the above exception, another exception occurred:\n",
      "\u001b[0;31mTypeError\u001b[0m                                 Traceback (most recent call last)",
      "Cell \u001b[0;32mIn[23], line 4\u001b[0m\n\u001b[1;32m      1\u001b[0m \u001b[38;5;28;01mtry\u001b[39;00m:\n\u001b[1;32m      2\u001b[0m     \u001b[38;5;66;03m# some code that might raise an exception\u001b[39;00m\n\u001b[1;32m      3\u001b[0m     \u001b[38;5;28;01mraise\u001b[39;00m \u001b[38;5;124m\"\u001b[39m\u001b[38;5;124mMyCustomException\u001b[39m\u001b[38;5;124m\"\u001b[39m\n\u001b[0;32m----> 4\u001b[0m \u001b[38;5;28;01mexcept\u001b[39;00m \u001b[38;5;124m\"\u001b[39m\u001b[38;5;124mMyCustomException\u001b[39m\u001b[38;5;124m\"\u001b[39m:\n\u001b[1;32m      5\u001b[0m     \u001b[38;5;66;03m# handle the exception\u001b[39;00m\n\u001b[1;32m      6\u001b[0m     \u001b[38;5;28mprint\u001b[39m(\u001b[38;5;124m\"\u001b[39m\u001b[38;5;124mAn error occurred\u001b[39m\u001b[38;5;124m\"\u001b[39m)\n",
      "\u001b[0;31mTypeError\u001b[0m: catching classes that do not inherit from BaseException is not allowed"
     ]
    }
   ],
   "source": [
    "try:\n",
    "    # some code that might raise an exception\n",
    "    raise \"MyCustomException\"\n",
    "except \"MyCustomException\":\n",
    "    # handle the exception\n",
    "    print(\"An error occurred\")\n"
   ]
  },
  {
   "cell_type": "markdown",
   "id": "8452d25f-6475-4fad-9d13-3bfd97460804",
   "metadata": {},
   "source": [
    "In this example, we're raising a string-based exception and catching it with a string-based exception handler. The problem with this approach is that we can't attach any additional information to the exception, and we can't define any custom behavior for handling the exception."
   ]
  },
  {
   "cell_type": "markdown",
   "id": "8307bcae-5e3a-49fc-a08b-71579929cb15",
   "metadata": {},
   "source": [
    "## Class-based Exception Example (Python 3 and later):\n"
   ]
  },
  {
   "cell_type": "code",
   "execution_count": 24,
   "id": "02a58029-c50a-4c9f-b59f-92dc60b6cae6",
   "metadata": {},
   "outputs": [
    {
     "name": "stdout",
     "output_type": "stream",
     "text": [
      "An error occurred: Something went wrong\n"
     ]
    }
   ],
   "source": [
    "class MyCustomException(Exception):\n",
    "    pass\n",
    "\n",
    "try:\n",
    "    # some code that might raise an exception\n",
    "    raise MyCustomException(\"Something went wrong\")\n",
    "except MyCustomException as e:\n",
    "    # handle the exception\n",
    "    print(f\"An error occurred: {e}\")\n"
   ]
  },
  {
   "cell_type": "markdown",
   "id": "7e1e100d-a6c8-480f-9c9b-4c6a31567848",
   "metadata": {},
   "source": [
    "In this example, we're defining a custom exception class that inherits from the built-in Exception class. We can define additional attributes and methods on the MyCustomException class, and use it to raise and catch exceptions in our code. We're also attaching some additional information to the exception by passing a message string to the constructor.\n",
    "\n",
    "This approach allows us to handle exceptions more intelligently and provide more useful error messages to users. We can define multiple exception classes for different types of errors, and we can define custom behavior for handling each type of exception.\n",
    "\n",
    "Overall, class-based exceptions are a more powerful and flexible way to handle exceptions in Python.\n",
    "\n",
    "\n",
    "\n",
    "\n",
    "\n",
    "\n"
   ]
  }
 ],
 "metadata": {
  "kernelspec": {
   "display_name": "Python 3 (ipykernel)",
   "language": "python",
   "name": "python3"
  },
  "language_info": {
   "codemirror_mode": {
    "name": "ipython",
    "version": 3
   },
   "file_extension": ".py",
   "mimetype": "text/x-python",
   "name": "python",
   "nbconvert_exporter": "python",
   "pygments_lexer": "ipython3",
   "version": "3.10.6"
  }
 },
 "nbformat": 4,
 "nbformat_minor": 5
}
