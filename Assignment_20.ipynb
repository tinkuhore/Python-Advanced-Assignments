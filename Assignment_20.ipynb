{
 "cells": [
  {
   "cell_type": "markdown",
   "id": "436ed8a4-68af-4d22-9c8c-967cd010ef25",
   "metadata": {},
   "source": [
    "# 1. Compare and contrast the float and Decimal classes' benefits and drawbacks.\n",
    "Floats are the built-in type in Python that represent decimal numbers. Floats are fast and use less memory but they are prone to rounding errors due to their limited precision. On the other hand, the Decimal class provides arbitrary-precision floating-point arithmetic. It can represent decimal numbers precisely, but it is slower and uses more memory compared to floats.\n",
    "\n",
    "Here's an example:"
   ]
  },
  {
   "cell_type": "code",
   "execution_count": 14,
   "id": "ddbe5507-917c-4494-a566-0eff5babfea3",
   "metadata": {},
   "outputs": [
    {
     "name": "stdout",
     "output_type": "stream",
     "text": [
      "0.30000000000000004\n",
      "0.3\n"
     ]
    }
   ],
   "source": [
    "x = 0.1 + 0.2\n",
    "print(x)  \n",
    "\n",
    "from decimal import Decimal\n",
    "y = Decimal('0.1') + Decimal('0.2')\n",
    "print(y) \n"
   ]
  },
  {
   "cell_type": "markdown",
   "id": "192bd4a0-9481-4d9f-8afc-ca7095e795ea",
   "metadata": {},
   "source": [
    "# 2. Decimal('1.200') and Decimal('1.2') are two objects to consider. In what sense are these the same object? Are these just two ways of representing the exact same value, or do they correspond to different internal states?\n",
    "These two objects are not the same object, but they represent the same value. They correspond to different internal states because Decimal objects store numbers as integers and an exponent, while the string representation includes the decimal point and any trailing zeros."
   ]
  },
  {
   "cell_type": "code",
   "execution_count": 15,
   "id": "9b24cd66-0217-45ce-a94d-47c1a92164e2",
   "metadata": {},
   "outputs": [
    {
     "name": "stdout",
     "output_type": "stream",
     "text": [
      "True\n",
      "False\n"
     ]
    }
   ],
   "source": [
    "x = Decimal('1.200')\n",
    "y = Decimal('1.2')\n",
    "print(x == y)  \n",
    "print(x is y)  \n"
   ]
  },
  {
   "cell_type": "markdown",
   "id": "061c156f-efb6-48c2-976f-993175539933",
   "metadata": {},
   "source": [
    "# 3. What happens if the equality of Decimal('1.200') and Decimal('1.2') is checked?\n",
    "If the equality of Decimal('1.200') and Decimal('1.2') is checked, it will return True because they represent the same value."
   ]
  },
  {
   "cell_type": "code",
   "execution_count": 16,
   "id": "b27e5a0e-cbbb-47f3-9b60-3fda2e0a7dde",
   "metadata": {},
   "outputs": [
    {
     "name": "stdout",
     "output_type": "stream",
     "text": [
      "True\n"
     ]
    }
   ],
   "source": [
    "x = Decimal('1.200')\n",
    "y = Decimal('1.2')\n",
    "print(x == y)  \n"
   ]
  },
  {
   "cell_type": "markdown",
   "id": "177ae366-ca54-4595-87e0-1def39a5f986",
   "metadata": {},
   "source": [
    "# 4. Why is it preferable to start a Decimal object with a string rather than a floating-point value?\n",
    "It is preferable to start a Decimal object with a string rather than a floating-point value because floating-point numbers are not precise and can lead to unexpected results due to rounding errors."
   ]
  },
  {
   "cell_type": "code",
   "execution_count": 17,
   "id": "9787d2bf-8a7c-42e8-b71d-7132f5ee298d",
   "metadata": {},
   "outputs": [
    {
     "name": "stdout",
     "output_type": "stream",
     "text": [
      "0.1000000000000000055511151231257827021181583404541015625\n",
      "0.1\n"
     ]
    }
   ],
   "source": [
    "x = Decimal(0.1)\n",
    "y = Decimal('0.1')\n",
    "print(x)  \n",
    "print(y)  \n"
   ]
  },
  {
   "cell_type": "markdown",
   "id": "0c1c5093-cb11-4e0e-9460-0518e0137e53",
   "metadata": {},
   "source": [
    "# 5. In an arithmetic phrase, how simple is it to combine Decimal objects with integers?\n",
    "It is straightforward to combine Decimal objects with integers in an arithmetic phrase because the Decimal class is designed to handle mixed arithmetic."
   ]
  },
  {
   "cell_type": "code",
   "execution_count": 18,
   "id": "70282afb-b4f7-47b4-87b7-64d8ffd285b8",
   "metadata": {},
   "outputs": [
    {
     "name": "stdout",
     "output_type": "stream",
     "text": [
      "12.5\n"
     ]
    }
   ],
   "source": [
    "from decimal import Decimal\n",
    "\n",
    "x = Decimal('2.5')\n",
    "y = 5\n",
    "z = x * y\n",
    "print(z) \n"
   ]
  },
  {
   "cell_type": "markdown",
   "id": "a164b4f1-e89c-4c08-ab28-be769cc7cfe5",
   "metadata": {},
   "source": [
    "# 6. Can Decimal objects and floating-point values be combined easily?\n",
    "Decimal objects and float values cannot be combined directly, and attempting to do so will result in a TypeError. To perform operations between Decimal objects and float values, you need to explicitly convert the float values to Decimal objects.\n",
    "\n",
    "For example"
   ]
  },
  {
   "cell_type": "code",
   "execution_count": 19,
   "id": "710f523b-1caf-40be-8dd7-830b6ea07445",
   "metadata": {},
   "outputs": [
    {
     "ename": "TypeError",
     "evalue": "unsupported operand type(s) for +: 'decimal.Decimal' and 'float'",
     "output_type": "error",
     "traceback": [
      "\u001b[0;31m---------------------------------------------------------------------------\u001b[0m",
      "\u001b[0;31mTypeError\u001b[0m                                 Traceback (most recent call last)",
      "Cell \u001b[0;32mIn[19], line 6\u001b[0m\n\u001b[1;32m      3\u001b[0m a \u001b[38;5;241m=\u001b[39m Decimal(\u001b[38;5;124m'\u001b[39m\u001b[38;5;124m10.5\u001b[39m\u001b[38;5;124m'\u001b[39m)\n\u001b[1;32m      4\u001b[0m b \u001b[38;5;241m=\u001b[39m \u001b[38;5;241m2.5\u001b[39m\n\u001b[0;32m----> 6\u001b[0m c \u001b[38;5;241m=\u001b[39m \u001b[43ma\u001b[49m\u001b[43m \u001b[49m\u001b[38;5;241;43m+\u001b[39;49m\u001b[43m \u001b[49m\u001b[43mb\u001b[49m\n\u001b[1;32m      7\u001b[0m \u001b[38;5;28mprint\u001b[39m(c)  \n\u001b[1;32m      9\u001b[0m d \u001b[38;5;241m=\u001b[39m a \u001b[38;5;241m*\u001b[39m b\n",
      "\u001b[0;31mTypeError\u001b[0m: unsupported operand type(s) for +: 'decimal.Decimal' and 'float'"
     ]
    }
   ],
   "source": [
    "from decimal import Decimal\n",
    "\n",
    "a = Decimal('10.5')\n",
    "b = 2.5\n",
    "\n",
    "c = a + b\n",
    "print(c)  \n",
    "\n",
    "d = a * b\n",
    "print(d)  \n",
    "\n"
   ]
  },
  {
   "cell_type": "code",
   "execution_count": null,
   "id": "0670e238-ed0d-4ebe-a53c-b5a0aa5c98b7",
   "metadata": {},
   "outputs": [],
   "source": [
    "We can deal this issue in the following way."
   ]
  },
  {
   "cell_type": "code",
   "execution_count": null,
   "id": "f06d70d8-206d-4627-8b05-b4ac40ed6696",
   "metadata": {},
   "outputs": [],
   "source": [
    "from decimal import Decimal\n",
    "\n",
    "x = Decimal('10.5')\n",
    "y = 2.5\n",
    "z = x + Decimal(str(y))\n",
    "print(z)  \n",
    "\n"
   ]
  },
  {
   "cell_type": "markdown",
   "id": "466f6ed1-27c0-45f4-be08-7bf9f4130a13",
   "metadata": {},
   "source": [
    "# Q7. Using the Fraction class but not the Decimal class, give an example of a quantity that can be expressed with absolute precision.\n",
    "\n",
    "A7. The Fraction class provides an exact representation of rational numbers. For example, the fraction 1/3 can be represented exactly as follows:"
   ]
  },
  {
   "cell_type": "code",
   "execution_count": null,
   "id": "8e749fa9-d34b-4bac-885b-1f4d96536f9b",
   "metadata": {},
   "outputs": [],
   "source": [
    "from fractions import Fraction\n",
    "f = Fraction(1, 3)\n",
    "print(f) "
   ]
  },
  {
   "cell_type": "markdown",
   "id": "19855946-885c-4151-9b00-b81237f4eaea",
   "metadata": {},
   "source": [
    "# Q8. Describe a quantity that can be accurately expressed by the Decimal or Fraction classes but not by a floating-point value.\n",
    "\n",
    "A8. Decimal and Fraction classes provide an exact representation of decimal numbers and rational numbers respectively, while floating-point numbers have limited precision due to the nature of binary representation. For example, the decimal number 0.1 can be accurately represented by the Decimal class as follows:"
   ]
  },
  {
   "cell_type": "code",
   "execution_count": null,
   "id": "f375876d-7425-4e16-86f0-dd4c5ffa66ee",
   "metadata": {},
   "outputs": [],
   "source": [
    "from decimal import Decimal\n",
    "d = Decimal('0.1')\n",
    "print(d) "
   ]
  },
  {
   "cell_type": "code",
   "execution_count": null,
   "id": "07de79e7-d405-4412-a35d-b1c122b98450",
   "metadata": {},
   "outputs": [],
   "source": []
  },
  {
   "cell_type": "code",
   "execution_count": null,
   "id": "263ed88a-5e45-42cf-94af-0d8d2289d682",
   "metadata": {},
   "outputs": [],
   "source": []
  },
  {
   "cell_type": "code",
   "execution_count": null,
   "id": "de01beb3-6095-4cfe-b938-c61fe0b42f1a",
   "metadata": {},
   "outputs": [],
   "source": []
  },
  {
   "cell_type": "code",
   "execution_count": null,
   "id": "c3a296d4-ba43-4d50-bd01-6a01ae15911f",
   "metadata": {},
   "outputs": [],
   "source": []
  },
  {
   "cell_type": "code",
   "execution_count": null,
   "id": "9e7c646b-9693-4d8c-a5b6-e862e0d70354",
   "metadata": {},
   "outputs": [],
   "source": []
  }
 ],
 "metadata": {
  "kernelspec": {
   "display_name": "Python 3 (ipykernel)",
   "language": "python",
   "name": "python3"
  },
  "language_info": {
   "codemirror_mode": {
    "name": "ipython",
    "version": 3
   },
   "file_extension": ".py",
   "mimetype": "text/x-python",
   "name": "python",
   "nbconvert_exporter": "python",
   "pygments_lexer": "ipython3",
   "version": "3.10.6"
  }
 },
 "nbformat": 4,
 "nbformat_minor": 5
}
