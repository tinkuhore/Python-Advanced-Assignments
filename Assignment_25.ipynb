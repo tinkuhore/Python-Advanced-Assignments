{
 "cells": [
  {
   "cell_type": "markdown",
   "id": "8f6bfd34-b91f-4a16-ac4c-09bec381bed9",
   "metadata": {},
   "source": [
    "# Q1. What is the distinction between a numpy array and a pandas data frame? Is there a way to convert between the two if there is?\n",
    "\n",
    "Ans: A numpy array is a homogenous multidimensional container of fixed-size elements whereas a Pandas data frame is a two-dimensional size-mutable and heterogeneous tabular data structure with labeled axes. Numpy arrays have a fixed number of rows and columns, while pandas data frames have varying numbers of rows and columns. Numpy arrays are designed for numerical computations and scientific computations, while Pandas data frames are designed for data manipulation and analysis.\n",
    "\n",
    "There are ways to convert between the two. A Pandas data frame can be converted to a numpy array using the to_numpy() method, while a numpy array can be converted to a Pandas data frame using the DataFrame() constructor.\n",
    "\n",
    "Example code for converting a Pandas data frame to a numpy array:"
   ]
  },
  {
   "cell_type": "code",
   "execution_count": 7,
   "id": "1c5e0de5-8ac3-4883-8617-74f93654d63c",
   "metadata": {},
   "outputs": [
    {
     "data": {
      "text/html": [
       "<div>\n",
       "<style scoped>\n",
       "    .dataframe tbody tr th:only-of-type {\n",
       "        vertical-align: middle;\n",
       "    }\n",
       "\n",
       "    .dataframe tbody tr th {\n",
       "        vertical-align: top;\n",
       "    }\n",
       "\n",
       "    .dataframe thead th {\n",
       "        text-align: right;\n",
       "    }\n",
       "</style>\n",
       "<table border=\"1\" class=\"dataframe\">\n",
       "  <thead>\n",
       "    <tr style=\"text-align: right;\">\n",
       "      <th></th>\n",
       "      <th>A</th>\n",
       "      <th>B</th>\n",
       "      <th>C</th>\n",
       "    </tr>\n",
       "  </thead>\n",
       "  <tbody>\n",
       "    <tr>\n",
       "      <th>0</th>\n",
       "      <td>1</td>\n",
       "      <td>4</td>\n",
       "      <td>7</td>\n",
       "    </tr>\n",
       "    <tr>\n",
       "      <th>1</th>\n",
       "      <td>2</td>\n",
       "      <td>5</td>\n",
       "      <td>8</td>\n",
       "    </tr>\n",
       "    <tr>\n",
       "      <th>2</th>\n",
       "      <td>3</td>\n",
       "      <td>6</td>\n",
       "      <td>9</td>\n",
       "    </tr>\n",
       "  </tbody>\n",
       "</table>\n",
       "</div>"
      ],
      "text/plain": [
       "   A  B  C\n",
       "0  1  4  7\n",
       "1  2  5  8\n",
       "2  3  6  9"
      ]
     },
     "execution_count": 7,
     "metadata": {},
     "output_type": "execute_result"
    }
   ],
   "source": [
    "import pandas as pd\n",
    "import numpy as np\n",
    "\n",
    "# Create a Pandas data frame\n",
    "df = pd.DataFrame({'A': [1, 2, 3], 'B': [4, 5, 6], 'C': [7, 8, 9]})\n",
    "df.head()"
   ]
  },
  {
   "cell_type": "code",
   "execution_count": 8,
   "id": "e97fd6dd-ddd0-421c-9ffe-8e81ea3d9e89",
   "metadata": {},
   "outputs": [
    {
     "name": "stdout",
     "output_type": "stream",
     "text": [
      "[[1 4 7]\n",
      " [2 5 8]\n",
      " [3 6 9]]\n"
     ]
    }
   ],
   "source": [
    "# Convert the Pandas data frame to a numpy array\n",
    "arr = df.to_numpy()\n",
    "print(arr)"
   ]
  },
  {
   "cell_type": "code",
   "execution_count": 9,
   "id": "66a1acc9-e67d-4c30-b96a-07120a19f6f4",
   "metadata": {},
   "outputs": [
    {
     "data": {
      "text/html": [
       "<div>\n",
       "<style scoped>\n",
       "    .dataframe tbody tr th:only-of-type {\n",
       "        vertical-align: middle;\n",
       "    }\n",
       "\n",
       "    .dataframe tbody tr th {\n",
       "        vertical-align: top;\n",
       "    }\n",
       "\n",
       "    .dataframe thead th {\n",
       "        text-align: right;\n",
       "    }\n",
       "</style>\n",
       "<table border=\"1\" class=\"dataframe\">\n",
       "  <thead>\n",
       "    <tr style=\"text-align: right;\">\n",
       "      <th></th>\n",
       "      <th>A</th>\n",
       "      <th>B</th>\n",
       "      <th>C</th>\n",
       "    </tr>\n",
       "  </thead>\n",
       "  <tbody>\n",
       "    <tr>\n",
       "      <th>0</th>\n",
       "      <td>1</td>\n",
       "      <td>4</td>\n",
       "      <td>7</td>\n",
       "    </tr>\n",
       "    <tr>\n",
       "      <th>1</th>\n",
       "      <td>2</td>\n",
       "      <td>5</td>\n",
       "      <td>8</td>\n",
       "    </tr>\n",
       "    <tr>\n",
       "      <th>2</th>\n",
       "      <td>3</td>\n",
       "      <td>6</td>\n",
       "      <td>9</td>\n",
       "    </tr>\n",
       "  </tbody>\n",
       "</table>\n",
       "</div>"
      ],
      "text/plain": [
       "   A  B  C\n",
       "0  1  4  7\n",
       "1  2  5  8\n",
       "2  3  6  9"
      ]
     },
     "execution_count": 9,
     "metadata": {},
     "output_type": "execute_result"
    }
   ],
   "source": [
    "import pandas as pd\n",
    "import numpy as np\n",
    "\n",
    "# Create a numpy array\n",
    "arr = np.array([[1, 4, 7], [2, 5, 8], [3, 6, 9]])\n",
    "\n",
    "# Convert the numpy array to a Pandas data frame\n",
    "df = pd.DataFrame(arr, columns=['A', 'B', 'C'])\n",
    "df\n"
   ]
  },
  {
   "cell_type": "markdown",
   "id": "677508ae-0d82-4bec-8c6c-05e0904e04fe",
   "metadata": {},
   "source": [
    "# Q2. What can go wrong when a user enters in a stock-ticker symbol, and how do you handle it?\n",
    "\n",
    "There are a few things that can go wrong when a user enters a stock-ticker symbol, such as:\n",
    "\n",
    "- The ticker symbol is misspelled\n",
    "- The ticker symbol does not exist\n",
    "- The ticker symbol is for a different exchange\n",
    "- To handle these potential issues, it is a good practice to use a data source or API that provides the ticker symbols and their associated data. The API can be used to verify the ticker symbol's spelling and existence, as well as provide additional information about the stock.\n",
    "\n",
    "Additionally, it is a good practice to include error handling in the program to handle cases where the API or data source is unavailable or returns an unexpected result."
   ]
  },
  {
   "cell_type": "markdown",
   "id": "3ecb3f9f-024f-48bf-9d5c-521569715e4c",
   "metadata": {},
   "source": [
    "# Q3. Identify some of the plotting techniques that are used to produce a stock-market chart.\n",
    "\n",
    "Some of the plotting techniques used to produce a stock-market chart include:\n",
    "\n",
    "Line charts to show stock prices over time\n",
    "Candlestick charts to show the stock's open, high, low, and close prices\n",
    "Bar charts to show trading volume\n",
    "Moving average lines to show trends in stock prices\n",
    "Technical indicators such as Bollinger Bands, Relative Strength Index (RSI), and Moving Average Convergence Divergence (MACD)"
   ]
  },
  {
   "cell_type": "markdown",
   "id": "258a8b5c-96cd-4a33-bc9b-2909b9d5d3cb",
   "metadata": {},
   "source": [
    "# Q4. Why is it essential to print a legend on a stock market chart?\n",
    "\n",
    "A legend on a stock market chart is essential because it provides context for the data displayed on the chart. A legend typically includes labels for the different lines or bars on the chart, as well as any relevant information such as dates or units of measurement. Without a legend, it may be difficult for the viewer to understand what the chart is showing, especially if multiple data series are being displayed.\n",
    "\n"
   ]
  },
  {
   "cell_type": "markdown",
   "id": "2908118e-d290-436b-b1a2-080b21828d26",
   "metadata": {},
   "source": [
    "# Q5. What is the best way to limit the length of a pandas data frame to less than a year?\n",
    "\n",
    "To limit the length of a Pandas data frame to less than a year, you can filter the data based on a specific time range using the loc function. For example, if you have a data frame df with a date column called Date, you can limit it to a year by doing the following:"
   ]
  },
  {
   "cell_type": "code",
   "execution_count": 10,
   "id": "c620554f-b1dd-48f4-a388-6f32bc458fb4",
   "metadata": {},
   "outputs": [
    {
     "ename": "KeyError",
     "evalue": "'Date'",
     "output_type": "error",
     "traceback": [
      "\u001b[0;31m---------------------------------------------------------------------------\u001b[0m",
      "\u001b[0;31mKeyError\u001b[0m                                  Traceback (most recent call last)",
      "File \u001b[0;32m~/.local/lib/python3.10/site-packages/pandas/core/indexes/base.py:3803\u001b[0m, in \u001b[0;36mIndex.get_loc\u001b[0;34m(self, key, method, tolerance)\u001b[0m\n\u001b[1;32m   3802\u001b[0m \u001b[38;5;28;01mtry\u001b[39;00m:\n\u001b[0;32m-> 3803\u001b[0m     \u001b[38;5;28;01mreturn\u001b[39;00m \u001b[38;5;28;43mself\u001b[39;49m\u001b[38;5;241;43m.\u001b[39;49m\u001b[43m_engine\u001b[49m\u001b[38;5;241;43m.\u001b[39;49m\u001b[43mget_loc\u001b[49m\u001b[43m(\u001b[49m\u001b[43mcasted_key\u001b[49m\u001b[43m)\u001b[49m\n\u001b[1;32m   3804\u001b[0m \u001b[38;5;28;01mexcept\u001b[39;00m \u001b[38;5;167;01mKeyError\u001b[39;00m \u001b[38;5;28;01mas\u001b[39;00m err:\n",
      "File \u001b[0;32m~/.local/lib/python3.10/site-packages/pandas/_libs/index.pyx:138\u001b[0m, in \u001b[0;36mpandas._libs.index.IndexEngine.get_loc\u001b[0;34m()\u001b[0m\n",
      "File \u001b[0;32m~/.local/lib/python3.10/site-packages/pandas/_libs/index.pyx:165\u001b[0m, in \u001b[0;36mpandas._libs.index.IndexEngine.get_loc\u001b[0;34m()\u001b[0m\n",
      "File \u001b[0;32mpandas/_libs/hashtable_class_helper.pxi:5745\u001b[0m, in \u001b[0;36mpandas._libs.hashtable.PyObjectHashTable.get_item\u001b[0;34m()\u001b[0m\n",
      "File \u001b[0;32mpandas/_libs/hashtable_class_helper.pxi:5753\u001b[0m, in \u001b[0;36mpandas._libs.hashtable.PyObjectHashTable.get_item\u001b[0;34m()\u001b[0m\n",
      "\u001b[0;31mKeyError\u001b[0m: 'Date'",
      "\nThe above exception was the direct cause of the following exception:\n",
      "\u001b[0;31mKeyError\u001b[0m                                  Traceback (most recent call last)",
      "Cell \u001b[0;32mIn[10], line 6\u001b[0m\n\u001b[1;32m      4\u001b[0m \u001b[38;5;66;03m# assume df is a Pandas data frame with a date column named Date\u001b[39;00m\n\u001b[1;32m      5\u001b[0m start_date \u001b[38;5;241m=\u001b[39m datetime\u001b[38;5;241m.\u001b[39mnow() \u001b[38;5;241m-\u001b[39m timedelta(days\u001b[38;5;241m=\u001b[39m\u001b[38;5;241m365\u001b[39m)\n\u001b[0;32m----> 6\u001b[0m df \u001b[38;5;241m=\u001b[39m df\u001b[38;5;241m.\u001b[39mloc[\u001b[43mdf\u001b[49m\u001b[43m[\u001b[49m\u001b[38;5;124;43m'\u001b[39;49m\u001b[38;5;124;43mDate\u001b[39;49m\u001b[38;5;124;43m'\u001b[39;49m\u001b[43m]\u001b[49m \u001b[38;5;241m>\u001b[39m\u001b[38;5;241m=\u001b[39m start_date]\n",
      "File \u001b[0;32m~/.local/lib/python3.10/site-packages/pandas/core/frame.py:3805\u001b[0m, in \u001b[0;36mDataFrame.__getitem__\u001b[0;34m(self, key)\u001b[0m\n\u001b[1;32m   3803\u001b[0m \u001b[38;5;28;01mif\u001b[39;00m \u001b[38;5;28mself\u001b[39m\u001b[38;5;241m.\u001b[39mcolumns\u001b[38;5;241m.\u001b[39mnlevels \u001b[38;5;241m>\u001b[39m \u001b[38;5;241m1\u001b[39m:\n\u001b[1;32m   3804\u001b[0m     \u001b[38;5;28;01mreturn\u001b[39;00m \u001b[38;5;28mself\u001b[39m\u001b[38;5;241m.\u001b[39m_getitem_multilevel(key)\n\u001b[0;32m-> 3805\u001b[0m indexer \u001b[38;5;241m=\u001b[39m \u001b[38;5;28;43mself\u001b[39;49m\u001b[38;5;241;43m.\u001b[39;49m\u001b[43mcolumns\u001b[49m\u001b[38;5;241;43m.\u001b[39;49m\u001b[43mget_loc\u001b[49m\u001b[43m(\u001b[49m\u001b[43mkey\u001b[49m\u001b[43m)\u001b[49m\n\u001b[1;32m   3806\u001b[0m \u001b[38;5;28;01mif\u001b[39;00m is_integer(indexer):\n\u001b[1;32m   3807\u001b[0m     indexer \u001b[38;5;241m=\u001b[39m [indexer]\n",
      "File \u001b[0;32m~/.local/lib/python3.10/site-packages/pandas/core/indexes/base.py:3805\u001b[0m, in \u001b[0;36mIndex.get_loc\u001b[0;34m(self, key, method, tolerance)\u001b[0m\n\u001b[1;32m   3803\u001b[0m     \u001b[38;5;28;01mreturn\u001b[39;00m \u001b[38;5;28mself\u001b[39m\u001b[38;5;241m.\u001b[39m_engine\u001b[38;5;241m.\u001b[39mget_loc(casted_key)\n\u001b[1;32m   3804\u001b[0m \u001b[38;5;28;01mexcept\u001b[39;00m \u001b[38;5;167;01mKeyError\u001b[39;00m \u001b[38;5;28;01mas\u001b[39;00m err:\n\u001b[0;32m-> 3805\u001b[0m     \u001b[38;5;28;01mraise\u001b[39;00m \u001b[38;5;167;01mKeyError\u001b[39;00m(key) \u001b[38;5;28;01mfrom\u001b[39;00m \u001b[38;5;21;01merr\u001b[39;00m\n\u001b[1;32m   3806\u001b[0m \u001b[38;5;28;01mexcept\u001b[39;00m \u001b[38;5;167;01mTypeError\u001b[39;00m:\n\u001b[1;32m   3807\u001b[0m     \u001b[38;5;66;03m# If we have a listlike key, _check_indexing_error will raise\u001b[39;00m\n\u001b[1;32m   3808\u001b[0m     \u001b[38;5;66;03m#  InvalidIndexError. Otherwise we fall through and re-raise\u001b[39;00m\n\u001b[1;32m   3809\u001b[0m     \u001b[38;5;66;03m#  the TypeError.\u001b[39;00m\n\u001b[1;32m   3810\u001b[0m     \u001b[38;5;28mself\u001b[39m\u001b[38;5;241m.\u001b[39m_check_indexing_error(key)\n",
      "\u001b[0;31mKeyError\u001b[0m: 'Date'"
     ]
    }
   ],
   "source": [
    "import pandas as pd\n",
    "from datetime import datetime, timedelta\n",
    "\n",
    "# assume df is a Pandas data frame with a date column named Date\n",
    "start_date = datetime.now() - timedelta(days=365)\n",
    "df = df.loc[df['Date'] >= start_date]\n"
   ]
  },
  {
   "cell_type": "markdown",
   "id": "2370f465-9c04-4334-a08d-a162eac9afaf",
   "metadata": {},
   "source": [
    "This code creates a new variable start_date that is the current date minus 365 days (one year). Then, the data frame is filtered to only include rows where the Date column is greater than or equal to start_date.\n",
    "\n"
   ]
  },
  {
   "cell_type": "markdown",
   "id": "99e96d95-280a-46c3-af18-7b55c4c630a0",
   "metadata": {},
   "source": [
    "# Q6. What is the definition of a 180-day moving average?\n",
    "\n",
    "A 180-day moving average is a technical analysis indicator that calculates the average price of a security over the past 180 trading days. This indicator is used to identify trends in the price of a security and to smooth out short-term fluctuations in the price.\n",
    "\n",
    "To calculate the 180-day moving average in Python using Pandas, you can use the rolling function to create a rolling window of 180 days and then take the mean of each window. For example:"
   ]
  },
  {
   "cell_type": "code",
   "execution_count": null,
   "id": "f96a1816-2c3b-4781-9819-daaf0a8ffc7e",
   "metadata": {},
   "outputs": [],
   "source": [
    "import pandas as pd\n",
    "\n",
    "# assume df is a Pandas data frame with a column named 'Close' representing the price of a security\n",
    "df['180-day MA'] = df['Close'].rolling(window=180).mean()\n"
   ]
  },
  {
   "cell_type": "markdown",
   "id": "90e4767d-fbb8-4ad4-963a-c6545b7ab53a",
   "metadata": {},
   "source": [
    "# Q7. Did the chapter's final example use \"indirect\" importing? If so, how exactly do you do it?\n",
    "\n",
    "Yes, the chapter's final example used \"indirect\" importing. Indirect importing is a way of importing a module or package indirectly, by importing it from a string or variable. This can be useful in situations where the name of the module or package is not known until runtime.\n",
    "\n",
    "In the final example, the matplotlib package was indirectly imported using the following code:"
   ]
  },
  {
   "cell_type": "code",
   "execution_count": null,
   "id": "9b6ff7d4-5e8f-457d-b454-3f2923050c8e",
   "metadata": {},
   "outputs": [],
   "source": [
    "import importlib\n",
    "\n",
    "# Load a module by name at runtime\n",
    "module_name = 'matplotlib.pyplot'\n",
    "module = importlib.import_module(module_name)\n"
   ]
  },
  {
   "cell_type": "markdown",
   "id": "d9745d9a-9bce-4319-aa6a-ff00881bab55",
   "metadata": {},
   "source": [
    "This code first imports the importlib module, which provides the import_module function for importing a module by name at runtime. Then, the matplotlib.pyplot module is imported indirectly by passing the name of the module as a string to import_module. This allows the code to dynamically import the pyplot module without knowing the name of the package at the time of writing."
   ]
  }
 ],
 "metadata": {
  "kernelspec": {
   "display_name": "Python 3 (ipykernel)",
   "language": "python",
   "name": "python3"
  },
  "language_info": {
   "codemirror_mode": {
    "name": "ipython",
    "version": 3
   },
   "file_extension": ".py",
   "mimetype": "text/x-python",
   "name": "python",
   "nbconvert_exporter": "python",
   "pygments_lexer": "ipython3",
   "version": "3.10.6"
  }
 },
 "nbformat": 4,
 "nbformat_minor": 5
}
