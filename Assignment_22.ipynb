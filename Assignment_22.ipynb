{
 "cells": [
  {
   "cell_type": "markdown",
   "id": "e10a70c7-c846-4cd8-b40c-4c9ef5df4b02",
   "metadata": {},
   "source": [
    "# Q1. What are the benefits of the built-in array package, if any?\n",
    "\n",
    "Ans: The built-in array package in Python provides a way to work with arrays, which are similar to lists, but are more efficient when working with large amounts of numeric data. Some benefits of using the array package are:\n",
    "\n",
    "- Memory efficiency: Arrays are more memory efficient than lists, because they are stored as contiguous blocks of memory, and each element takes up the same amount of space. This means that accessing elements in an array is faster than accessing elements in a list.\n",
    "\n",
    "- Performance: Because arrays are stored as contiguous blocks of memory, operations on arrays can be performed more quickly than operations on lists.\n",
    "\n",
    "- Type checking: The array package provides a way to ensure that all elements in an array are of the same type, which can help to prevent errors in your code.\n",
    "\n",
    "- Integration with C code: The array package provides an easy way to interface with C code, since arrays are represented in memory in a way that is compatible with C.\n",
    "\n",
    "However, it is important to note that the array package is not always the best choice for every situation. In some cases, other data structures such as lists or NumPy arrays may be more appropriate."
   ]
  },
  {
   "cell_type": "markdown",
   "id": "25e042c3-c92b-42da-8aa8-a5dbcf12c149",
   "metadata": {},
   "source": [
    "# Q2. What are some of the array package's limitations?\n",
    "\n",
    "Ans: \n",
    "Here are some limitations of the built-in array package in Python:\n",
    "\n",
    "- Array size is fixed: Once an array is created, its size cannot be changed. We cannot add or remove elements from the array.\n",
    "\n",
    "- Limited functionality: The array package provides basic functionality for creating, manipulating and accessing arrays. It does not provide advanced features like sorting, searching or filtering, which are available in other libraries like NumPy.\n",
    "\n",
    "- Homogeneous data types: Arrays in Python are homogeneous, which means they can only hold elements of the same data type. This can be a limitation in some cases where we need to store elements of different types in the same array.\n",
    "\n",
    "- Lack of flexibility: Unlike lists, arrays have a fixed data type and cannot store elements of different data types. Additionally, arrays cannot be used to store objects or custom data types.\n",
    "\n",
    "- Memory management: Arrays are allocated in contiguous memory locations. This can be a limitation in cases where we need to allocate large arrays, as there may not be enough contiguous memory available."
   ]
  },
  {
   "cell_type": "markdown",
   "id": "87686916-61fb-40c5-9361-8a8e89500209",
   "metadata": {},
   "source": [
    "# Q3. Describe the main differences between the array and numpy packages.\n",
    "\n",
    "Ans: The array package and the numpy package are both used for numerical computing, but there are some key differences between them:\n",
    "\n",
    "- Data types: The array package supports only a limited number of data types, such as integers and floating-point numbers. On the other hand, numpy supports a wider range of data types, including complex numbers, booleans, and more.\n",
    "\n",
    "- Memory efficiency: The numpy package is more memory-efficient than the array package. This is because numpy arrays are stored as contiguous blocks of memory, whereas the array package stores each element separately.\n",
    "\n",
    "- Functionality: Numpy provides a much larger range of functionality than the array package. For example, numpy supports many linear algebra operations, Fourier transforms, and more.\n",
    "\n",
    "- Ease of use: Numpy is generally easier to use than the array package. It provides a more consistent interface and more intuitive syntax for performing operations on arrays.\n",
    "\n",
    "- Overall, while the array package can be useful for simple numerical computing tasks, the numpy package provides much more functionality and is more suited for complex computations and data analysis."
   ]
  },
  {
   "cell_type": "code",
   "execution_count": 17,
   "id": "4b9d674a-2f96-44e9-b229-1e6034344622",
   "metadata": {},
   "outputs": [
    {
     "ename": "SyntaxError",
     "evalue": "invalid syntax (2365000848.py, line 3)",
     "output_type": "error",
     "traceback": [
      "\u001b[0;36m  Cell \u001b[0;32mIn[17], line 3\u001b[0;36m\u001b[0m\n\u001b[0;31m    Ans: The empty, ones, and zeros functions are used to create ndarrays in NumPy.\u001b[0m\n\u001b[0m             ^\u001b[0m\n\u001b[0;31mSyntaxError\u001b[0m\u001b[0;31m:\u001b[0m invalid syntax\n"
     ]
    }
   ],
   "source": [
    "# Q4. Explain the distinctions between the empty, ones, and zeros functions.\n",
    "\n",
    "Ans: The empty, ones, and zeros functions are used to create ndarrays in NumPy.\n",
    "\n",
    "- empty function creates an uninitialized array of specified shape and data type. The array elements may contain any random value.\n",
    "- ones function creates an array of specified shape and data type, where all the elements of the array will be set to 1.\n",
    "- zeros function creates an array of specified shape and data type, where all the elements of the array will be set to 0.\n",
    "\n",
    "For example,"
   ]
  },
  {
   "cell_type": "code",
   "execution_count": null,
   "id": "f3dc8c98-14f7-42af-add5-298e6fa7b59a",
   "metadata": {},
   "outputs": [],
   "source": [
    "import numpy as np\n",
    "\n",
    "a = np.empty((2,3))     # creates a 2x3 array with uninitialized elements\n",
    "b = np.ones((2,3))      # creates a 2x3 array with all elements set to 1\n",
    "c = np.zeros((2,3))     # creates a 2x3 array with all elements set to 0\n",
    "\n",
    "print(a)\n",
    " \n",
    "print(b)\n",
    " \n",
    "print(c)\n",
    " "
   ]
  },
  {
   "cell_type": "markdown",
   "id": "c777d139-833b-4b6c-9c28-757c11197293",
   "metadata": {},
   "source": [
    "# Q5. In the fromfunction function, which is used to construct new arrays, what is the role of the callable argument?\n",
    "\n",
    "Ans: In the numpy.fromfunction function, the callable argument is a function that is called with the indices of the array as arguments. The function should return the value to be placed in the array at that position.\n",
    "\n",
    "For example, consider the following code:"
   ]
  },
  {
   "cell_type": "markdown",
   "id": "e2a5e354-1346-4ec5-8722-1ff9f377a340",
   "metadata": {},
   "source": [
    "In this code, my_func is a function that takes two arguments i and j, which represent the indices of the array. The function simply returns the sum of i and j. The fromfunction function is then called with my_func and the shape of the desired array (3, 4) as arguments. The resulting array arr will have a shape of (3, 4) and will contain the values returned by my_func for each pair of indices."
   ]
  },
  {
   "cell_type": "code",
   "execution_count": null,
   "id": "34694910-2d9c-4c02-824f-ec235bdef58e",
   "metadata": {},
   "outputs": [],
   "source": [
    "import numpy as np\n",
    "\n",
    "def my_func(i, j):\n",
    "    return i + j\n",
    "\n",
    "arr = np.fromfunction(my_func, (3, 4))\n",
    "print(arr)\n"
   ]
  },
  {
   "cell_type": "markdown",
   "id": "14b9512c-1439-431c-8124-747f84e2b5ca",
   "metadata": {},
   "source": [
    "# Q6. What happens when a numpy array is combined with a single-value operand (a scalar, such as an int or a floating-point value) through addition, as in the expression A + n?\n",
    "\n",
    "Ans: When a numpy array A is combined with a single-value operand n through addition, each element of the array A is added by n to produce a new array with the same shape as A. This operation is called scalar addition or broadcasting. For example, consider the following code:\n",
    "    "
   ]
  },
  {
   "cell_type": "code",
   "execution_count": null,
   "id": "9718e066-54d7-4988-a8aa-903a8528b7b8",
   "metadata": {},
   "outputs": [],
   "source": [
    "import numpy as np\n",
    "A = np.array([1, 2, 3])\n",
    "n = 2\n",
    "B = A + n\n",
    "print(B)\n"
   ]
  },
  {
   "cell_type": "markdown",
   "id": "11d993b9-d608-4ad9-bfaf-d59d147a2d64",
   "metadata": {},
   "source": [
    "The output of the code will be [3 4 5], which is the result of adding 2 to each element of the array A. Similarly, subtraction, multiplication, and division of a numpy array with a scalar operand are also possible using the same broadcasting mechanism."
   ]
  },
  {
   "cell_type": "markdown",
   "id": "4f918601-61f7-4e9b-bf43-eadc864ade5c",
   "metadata": {},
   "source": [
    "# Q7. Can array-to-scalar operations use combined operation-assign operators (such as += or *=)? What is the outcome?\n",
    "\n",
    "Ans: Yes, array-to-scalar operations can use combined operation-assign operators such as += or *=. The operation is applied element-wise, and the scalar value is combined with each element of the array using the specified operation. The result is then stored back in the original array.\n",
    "\n",
    "For example, consider the following code:"
   ]
  },
  {
   "cell_type": "code",
   "execution_count": null,
   "id": "a5f5c214-3f12-44e6-8c77-dad92726a05d",
   "metadata": {},
   "outputs": [],
   "source": [
    "import numpy as np\n",
    "\n",
    "A = np.array([1, 2, 3, 4])\n",
    "A += 2\n",
    "print(A)\n"
   ]
  },
  {
   "cell_type": "markdown",
   "id": "21f15011-2fdd-4a67-b6e6-0e64073396c4",
   "metadata": {},
   "source": [
    "# Q8. Does a numpy array contain fixed-length strings? What happens if you allocate a longer string to one of these arrays?\n",
    "\n",
    "Ans: Yes, a numpy array can contain fixed-length strings using the dtype parameter. For example, to create a numpy array of fixed-length strings of size 5, you can use the following code:"
   ]
  },
  {
   "cell_type": "code",
   "execution_count": 18,
   "id": "ee1ccb81-298c-4605-a5ca-8ebd75852bd5",
   "metadata": {},
   "outputs": [
    {
     "data": {
      "text/plain": [
       "array([b'', b'', b''], dtype='|S5')"
      ]
     },
     "execution_count": 18,
     "metadata": {},
     "output_type": "execute_result"
    }
   ],
   "source": [
    "import numpy as np\n",
    "\n",
    "arr = np.zeros((3,), dtype='S5')\n",
    "arr"
   ]
  },
  {
   "cell_type": "markdown",
   "id": "f81b196b-bc1d-45c9-b35a-feb283770442",
   "metadata": {},
   "source": [
    "This creates a numpy array arr of shape (3,) and data type S5, which means that each element in the array is a fixed-length string of size 5.\n",
    "\n",
    "If you try to allocate a longer string to one of the elements in this array, numpy will truncate the string to the fixed length:"
   ]
  },
  {
   "cell_type": "code",
   "execution_count": 19,
   "id": "2cc17a2c-f0dd-45db-95b4-4fe4da03a089",
   "metadata": {},
   "outputs": [
    {
     "name": "stdout",
     "output_type": "stream",
     "text": [
      "b'hello'\n"
     ]
    },
    {
     "data": {
      "text/plain": [
       "array([b'hello', b'', b''], dtype='|S5')"
      ]
     },
     "execution_count": 19,
     "metadata": {},
     "output_type": "execute_result"
    }
   ],
   "source": [
    "arr[0] = 'hello world'\n",
    "print(arr[0])  \n",
    "arr"
   ]
  },
  {
   "cell_type": "markdown",
   "id": "407430a7-a133-4949-8628-ca66aec63017",
   "metadata": {},
   "source": [
    "In this example, the string 'hello world' is truncated to 'hello' because the fixed length of the array is 5."
   ]
  },
  {
   "cell_type": "markdown",
   "id": "fdedca80-e500-45ba-b714-19b052e3a5af",
   "metadata": {},
   "source": [
    "\n",
    "# Q9. What happens when you combine two numpy arrays using an operation like addition (+) or multiplication (*)? What are the conditions for combining two numpy arrays?\n",
    "\n",
    "Ans: When you combine two numpy arrays using an operation like addition or multiplication, numpy performs element-wise operations between the corresponding elements of the two arrays. If the two arrays have different shapes, numpy will first broadcast the arrays to make their shapes compatible before performing the operation.\n",
    "\n",
    "For example, let's say we have two numpy arrays:\n"
   ]
  },
  {
   "cell_type": "code",
   "execution_count": 20,
   "id": "57a791fc-2a1b-4407-82c7-d7608755371d",
   "metadata": {},
   "outputs": [],
   "source": [
    "import numpy as np\n",
    "\n",
    "a = np.array([1, 2, 3])\n",
    "b = np.array([4, 5, 6])\n",
    "c = np.array([1, 5])"
   ]
  },
  {
   "cell_type": "code",
   "execution_count": 21,
   "id": "568388b1-cdb2-4b61-86f1-0bcc3e76d30f",
   "metadata": {},
   "outputs": [
    {
     "name": "stdout",
     "output_type": "stream",
     "text": [
      "[5 7 9]\n"
     ]
    }
   ],
   "source": [
    "print(a+b)"
   ]
  },
  {
   "cell_type": "code",
   "execution_count": 22,
   "id": "17137f5f-5d0b-4892-97e4-d0b2bb8284f8",
   "metadata": {},
   "outputs": [
    {
     "ename": "ValueError",
     "evalue": "operands could not be broadcast together with shapes (3,) (2,) ",
     "output_type": "error",
     "traceback": [
      "\u001b[0;31m---------------------------------------------------------------------------\u001b[0m",
      "\u001b[0;31mValueError\u001b[0m                                Traceback (most recent call last)",
      "Cell \u001b[0;32mIn[22], line 1\u001b[0m\n\u001b[0;32m----> 1\u001b[0m \u001b[38;5;28mprint\u001b[39m(\u001b[43mb\u001b[49m\u001b[38;5;241;43m+\u001b[39;49m\u001b[43mc\u001b[49m)\n",
      "\u001b[0;31mValueError\u001b[0m: operands could not be broadcast together with shapes (3,) (2,) "
     ]
    }
   ],
   "source": [
    "print(b+c)"
   ]
  },
  {
   "cell_type": "markdown",
   "id": "a0c98b29-ed43-4067-ad13-9c19e26318cc",
   "metadata": {},
   "source": [
    "For two arrays to be combined, they must have compatible shapes. In general, two dimensions are compatible if they are equal or one of them is 1. Numpy will automatically broadcast the arrays to make their shapes compatible. If the arrays cannot be broadcast to the same shape, numpy will raise a ValueError."
   ]
  },
  {
   "cell_type": "markdown",
   "id": "3b8ac64a-f0e7-426f-98bf-1befbbfe6a92",
   "metadata": {},
   "source": [
    "\n",
    "# Q10. What is the best way to use a Boolean array to mask another array?\n",
    "\n",
    "Ans: The best way to use a Boolean array to mask another array is by indexing the array with the Boolean array. This operation returns a new array that contains only the elements of the original array that correspond to the True values in the Boolean array.\n",
    "\n",
    "For example:"
   ]
  },
  {
   "cell_type": "code",
   "execution_count": 23,
   "id": "0bf7e070-2551-498e-88b5-751735d9959c",
   "metadata": {},
   "outputs": [
    {
     "name": "stdout",
     "output_type": "stream",
     "text": [
      "[1 3 5]\n"
     ]
    }
   ],
   "source": [
    "import numpy as np\n",
    "\n",
    "a = np.array([1, 2, 3, 4, 5])\n",
    "mask = np.array([True, False, True, False, True])\n",
    "\n",
    "masked_a = a[mask]\n",
    "print(masked_a)  \n"
   ]
  },
  {
   "cell_type": "markdown",
   "id": "81845631-4abb-4ce9-b0ae-53e8508b5ca2",
   "metadata": {},
   "source": [
    "In this example, we create a numpy array a and a Boolean array mask. We then index the array a with the Boolean array mask to get a new array masked_a that contains only the elements of a where the corresponding element in mask is True."
   ]
  },
  {
   "cell_type": "markdown",
   "id": "def24659-a8b4-42ac-a27d-beaba3943681",
   "metadata": {},
   "source": [
    "\n",
    "# Q11. What are three different ways to get the standard deviation of a wide collection of data using both standard Python and its packages? Sort the three of them by how quickly they execute.\n",
    "\n",
    "Ans: Here are three different ways to get the standard deviation of a wide collection of data using Python and its packages, sorted by how quickly they execute:"
   ]
  },
  {
   "cell_type": "markdown",
   "id": "7d339f2b-9c5a-4d7f-b0ca-8ded67bfcef5",
   "metadata": {},
   "source": [
    "1. NumPy: NumPy provides a numpy.std() function that can be used to calculate the standard deviation of a collection of data. This function is generally considered the fastest and most efficient way to calculate standard deviation in Python. For example:"
   ]
  },
  {
   "cell_type": "code",
   "execution_count": 24,
   "id": "2aec1241-20ef-48e9-b0a6-b86431cfed57",
   "metadata": {},
   "outputs": [
    {
     "name": "stdout",
     "output_type": "stream",
     "text": [
      "1.4142135623730951\n"
     ]
    }
   ],
   "source": [
    "import numpy as np\n",
    "\n",
    "data = np.array([1, 2, 3, 4, 5])\n",
    "std = np.std(data)\n",
    "print(std)\n"
   ]
  },
  {
   "cell_type": "markdown",
   "id": "0ba0a390-5b1e-4ce5-aeaa-32ce33f48f45",
   "metadata": {},
   "source": [
    "2. Statistics module: The statistics module in Python provides a stdev() function that can be used to calculate the standard deviation of a collection of data. This function is slightly slower than NumPy, but still relatively fast. For example:"
   ]
  },
  {
   "cell_type": "code",
   "execution_count": 25,
   "id": "df750df4-dc02-4c5e-94ea-84a361595cbe",
   "metadata": {},
   "outputs": [
    {
     "name": "stdout",
     "output_type": "stream",
     "text": [
      "1.5811388300841898\n"
     ]
    }
   ],
   "source": [
    "import statistics as stats\n",
    "\n",
    "data = [1, 2, 3, 4, 5]\n",
    "std = stats.stdev(data)\n",
    "print(std)\n"
   ]
  },
  {
   "cell_type": "markdown",
   "id": "c9ba44ba-edbe-4532-8a19-d2c889f9b1ce",
   "metadata": {},
   "source": [
    "3. Custom implementation: A custom implementation of the standard deviation calculation can also be used, although it will be slower than the NumPy and statistics module methods. Here is an example of a custom implementation:"
   ]
  },
  {
   "cell_type": "code",
   "execution_count": 26,
   "id": "5ba6f3d6-afcf-4953-80f6-f6b8077d874d",
   "metadata": {},
   "outputs": [
    {
     "name": "stdout",
     "output_type": "stream",
     "text": [
      "1.4142135623730951\n"
     ]
    }
   ],
   "source": [
    "import math\n",
    "\n",
    "data = [1, 2, 3, 4, 5]\n",
    "mean = sum(data) / len(data)\n",
    "std = math.sqrt(sum((x - mean)**2 for x in data) / len(data))\n",
    "print(std)\n"
   ]
  },
  {
   "cell_type": "markdown",
   "id": "1d5cd27d-ffd9-46c6-a87a-e7ab951b4ca3",
   "metadata": {},
   "source": [
    "Note that the custom implementation requires calculating the mean separately, whereas the NumPy and statistics module methods calculate the mean as part of the standard deviation calculation."
   ]
  },
  {
   "cell_type": "markdown",
   "id": "259fa875-6400-4795-9954-20f41ac8c5f4",
   "metadata": {},
   "source": [
    "\n",
    "# Q12. What is the dimensionality of a Boolean mask-generated array?\n",
    "\n",
    "Ans: The dimensionality of a Boolean mask-generated array is the same as the original array on which the mask was applied. For example, if we have a two-dimensional array arr, and we apply a Boolean mask to it, the resulting masked array will also be two-dimensional with the same number of rows and columns as the original array. The values in the masked array will be True where the corresponding element in the original array meets the mask condition, and False elsewhere."
   ]
  },
  {
   "cell_type": "code",
   "execution_count": 27,
   "id": "658e141d-6dad-49f6-9e7a-dacd3bd8e60f",
   "metadata": {},
   "outputs": [
    {
     "name": "stdout",
     "output_type": "stream",
     "text": [
      "[[False False  True False]\n",
      " [ True  True False  True]\n",
      " [False False False False]]\n"
     ]
    }
   ],
   "source": [
    "import numpy as np\n",
    "\n",
    "a = np.array([[1, 4, 7, 3],\n",
    "              [6, 8, 2, 9],\n",
    "              [5, 2, 3, 1]])\n",
    "\n",
    "mask = a > 5\n",
    "\n",
    "print(mask)\n"
   ]
  },
  {
   "cell_type": "code",
   "execution_count": null,
   "id": "20ca3ab5-81b8-406d-bec1-ddf3ec2a68a8",
   "metadata": {},
   "outputs": [],
   "source": []
  }
 ],
 "metadata": {
  "kernelspec": {
   "display_name": "Python 3 (ipykernel)",
   "language": "python",
   "name": "python3"
  },
  "language_info": {
   "codemirror_mode": {
    "name": "ipython",
    "version": 3
   },
   "file_extension": ".py",
   "mimetype": "text/x-python",
   "name": "python",
   "nbconvert_exporter": "python",
   "pygments_lexer": "ipython3",
   "version": "3.10.6"
  }
 },
 "nbformat": 4,
 "nbformat_minor": 5
}
