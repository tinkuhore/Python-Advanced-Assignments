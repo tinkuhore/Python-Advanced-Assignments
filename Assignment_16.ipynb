{
 "cells": [
  {
   "cell_type": "markdown",
   "id": "3eceac09-9fa3-46be-aae2-e11e30935bb3",
   "metadata": {},
   "source": [
    "# Q1. What is the benefit of regular expressions?\n",
    "\n",
    "A1. Regular expressions provide a powerful way to search for and manipulate patterns in text. They can be used for tasks such as data validation, text parsing and manipulation, and search and replace operations. By using regular expressions, we can write code that is more concise, flexible, and efficient."
   ]
  },
  {
   "cell_type": "code",
   "execution_count": 1,
   "id": "dd84791b-8158-4ef9-89c7-f90406055b83",
   "metadata": {},
   "outputs": [
    {
     "name": "stdout",
     "output_type": "stream",
     "text": [
      "fox\n"
     ]
    }
   ],
   "source": [
    "import re\n",
    "\n",
    "# search for a pattern in a string\n",
    "string = \"The quick brown fox jumps over the lazy dog\"\n",
    "pattern = \"fox\"\n",
    "result = re.search(pattern, string)\n",
    "print(result.group()) # \"fox\"\n"
   ]
  },
  {
   "cell_type": "markdown",
   "id": "f56e2cf5-42c9-4e82-bd73-5bfb176a204b",
   "metadata": {},
   "source": [
    "# Q2. Describe the difference between the effects of \"(ab)c+\" and \"a(bc)+.\" Which of these, if any, is the unqualified pattern \"abc+\"?\n",
    "\n",
    "A2. The regular expression \"(ab)c+\" matches one or more occurrences of the sequence \"abc\", where \"ab\" is captured as a group. The regular expression \"a(bc)+\" matches one or more occurrences of the sequence \"abc\", where \"bc\" is captured as a group. The unqualified pattern \"abc+\" matches one or more occurrences of the sequence \"abc\" without capturing any groups."
   ]
  },
  {
   "cell_type": "code",
   "execution_count": 2,
   "id": "02974acb-2229-4d64-ae49-4c1110ba74eb",
   "metadata": {},
   "outputs": [
    {
     "name": "stdout",
     "output_type": "stream",
     "text": [
      "['ab', 'ab']\n",
      "['bc']\n",
      "['abccc', 'abc']\n"
     ]
    }
   ],
   "source": [
    "import re\n",
    "\n",
    "# match \"(ab)c+\"\n",
    "pattern1 = \"(ab)c+\"\n",
    "string1 = \"abcccabc\"\n",
    "result1 = re.findall(pattern1, string1)\n",
    "print(result1) # [\"abc\"]\n",
    "\n",
    "# match \"a(bc)+\"\n",
    "pattern2 = \"a(bc)+\"\n",
    "string2 = \"abcbcbc\"\n",
    "result2 = re.findall(pattern2, string2)\n",
    "print(result2) # [\"bcbc\"]\n",
    "\n",
    "# match \"abc+\"\n",
    "pattern3 = \"abc+\"\n",
    "string3 = \"abcccabc\"\n",
    "result3 = re.findall(pattern3, string3)\n",
    "print(result3) # [\"abc\", \"abc\"]\n"
   ]
  },
  {
   "cell_type": "markdown",
   "id": "78abb98f-c77c-426c-80c1-1a2217dec190",
   "metadata": {},
   "source": [
    "# Q3. How much do you need to use the following sentence while using regular expressions?\n",
    "\n",
    "import re\n",
    "\n",
    "A3. The \"import re\" statement is required at the beginning of any Python script that uses regular expressions. It imports the \"re\" module, which provides functions and classes for working with regular expressions in Python.\n",
    "\n"
   ]
  },
  {
   "cell_type": "code",
   "execution_count": 3,
   "id": "01bd0888-3704-46ff-b03a-c3e0ae297a29",
   "metadata": {},
   "outputs": [
    {
     "name": "stdout",
     "output_type": "stream",
     "text": [
      "fox\n"
     ]
    }
   ],
   "source": [
    "import re\n",
    "\n",
    "string = \"The quick brown fox jumps over the lazy dog\"\n",
    "pattern = \"fox\"\n",
    "result = re.search(pattern, string)\n",
    "print(result.group()) # \"fox\"\n"
   ]
  },
  {
   "cell_type": "markdown",
   "id": "3503dcf8-c910-4fc6-ad5c-e02ff3d523aa",
   "metadata": {},
   "source": [
    "# Q4. Which characters have special significance in square brackets when expressing a range, and under what circumstances?\n",
    "\n",
    "A4. In square brackets, certain characters have special significance when used to express a range of characters. These characters include:\n",
    "\n",
    "- \"-\" (hyphen): used to specify a range of characters, e.g. \"[a-z]\" matches any lowercase letter.\n",
    "- \"^\" (caret): used to indicate a negated character set, i.e. any character not in the set, e.g. \"[^0-9]\" matches any non-digit character.\n",
    "- \"\" (backslash): used to escape special characters that would otherwise have special meaning in the regular expression, e.g. \"[\" matches a literal opening bracket."
   ]
  },
  {
   "cell_type": "code",
   "execution_count": 4,
   "id": "e0f4542d-72a4-4036-8e42-513effbbdc03",
   "metadata": {},
   "outputs": [
    {
     "name": "stdout",
     "output_type": "stream",
     "text": [
      "['he', 'quick', 'brown', 'fox', 'jumps', 'over', 'the', 'lazy', 'dog']\n",
      "[', ', ', buckle my shoe']\n"
     ]
    }
   ],
   "source": [
    "import re\n",
    "\n",
    "# match lowercase letters\n",
    "pattern1 = \"[a-z]+\"\n",
    "string1 = \"The quick brown fox jumps over the lazy dog\"\n",
    "result1 = re.findall(pattern1, string1)\n",
    "print(result1) # [\"he\", \"quick\", \"brown\", \"fox\", \"jumps\", \"over\", \"the\", \"lazy\", \"dog\"]\n",
    "\n",
    "# match non-digits\n",
    "pattern2 = \"[^0-9]+\"\n",
    "string2 = \"1, 2, buckle my shoe\"\n",
    "result2 = re.findall(pattern2, string2)\n",
    "print(result2) # [\", \", \", buckle my shoe\"]\n"
   ]
  },
  {
   "cell_type": "markdown",
   "id": "ce640d69-a2b4-4004-b0ad-a77572b556d2",
   "metadata": {},
   "source": [
    "# Q5. How does compiling a regular-expression object benefit you?\n",
    "\n",
    "A5. Compiling a regular-expression object using the \"re.compile()\" function can improve the performance of regular-expression operations, particularly if you need to use the same pattern multiple times in your code. It also allows you to specify options such as case-insensitivity and multi-line matching.\n",
    "\n"
   ]
  },
  {
   "cell_type": "code",
   "execution_count": 5,
   "id": "75203e34-cc7a-4976-9e2e-209e2d9d02d2",
   "metadata": {},
   "outputs": [
    {
     "name": "stdout",
     "output_type": "stream",
     "text": [
      "123\n",
      "123\n"
     ]
    }
   ],
   "source": [
    "import re\n",
    "\n",
    "# Without compiling the regular expression\n",
    "pattern = r'\\d+'\n",
    "match = re.search(pattern, 'Hello 123')\n",
    "print(match.group())\n",
    "\n",
    "# Compiling the regular expression\n",
    "compiled_pattern = re.compile(r'\\d+')\n",
    "match = compiled_pattern.search('Hello 123')\n",
    "print(match.group())\n"
   ]
  },
  {
   "cell_type": "markdown",
   "id": "0158d322-82c7-42f2-9e5f-e80cbee6cfd5",
   "metadata": {},
   "source": [
    "# Q6. What are some examples of how to use the match object returned by re.match and re.search?\n",
    "\n",
    "A6. The match object returned by re.match and re.search contains information about the matched pattern, including the matched text and any captured groups. Some examples of how to use this object include accessing the matched text using the \"group()\" method, accessing a specific captured group using the \"group(n)\" method, and iterating over all the captured groups using the \"groups()\" method."
   ]
  },
  {
   "cell_type": "code",
   "execution_count": 6,
   "id": "0a0a23fc-eff1-426f-baf7-650cfb503882",
   "metadata": {},
   "outputs": [
    {
     "name": "stdout",
     "output_type": "stream",
     "text": [
      "Matched text: hello\n",
      "Match start position: 0\n",
      "Match end position: 5\n",
      "Matched text: 123\n",
      "Match start position: 6\n",
      "Match end position: 9\n"
     ]
    }
   ],
   "source": [
    "import re\n",
    "\n",
    "# Using re.match\n",
    "pattern = r'hello'\n",
    "text = 'hello world'\n",
    "match = re.match(pattern, text)\n",
    "if match:\n",
    "    print(f\"Matched text: {match.group()}\")\n",
    "    print(f\"Match start position: {match.start()}\")\n",
    "    print(f\"Match end position: {match.end()}\")\n",
    "\n",
    "# Using re.search\n",
    "pattern = r'\\d+'\n",
    "text = 'hello 123 world'\n",
    "match = re.search(pattern, text)\n",
    "if match:\n",
    "    print(f\"Matched text: {match.group()}\")\n",
    "    print(f\"Match start position: {match.start()}\")\n",
    "    print(f\"Match end position: {match.end()}\")\n"
   ]
  },
  {
   "cell_type": "markdown",
   "id": "2cfa4831-457d-4814-a020-ee03dc069ec9",
   "metadata": {},
   "source": [
    "# Q7. What is the difference between using a vertical bar (|) as an alteration and using square brackets as a character set?\n",
    "\n",
    "A7. The vertical bar \"|\" is used to specify an alteration in a regular expression, where one of several alternatives may be matched. For example, the regular expression \"dog|cat\" matches either \"dog\" or \"cat\". Square brackets, on the other hand, are used to specify a character set, where any one character from the set may be matched. For example, the regular expression \"[aeiou]\" matches any vowel.\n",
    "\n"
   ]
  },
  {
   "cell_type": "code",
   "execution_count": 7,
   "id": "bc08908e-a048-4970-a8b7-ffdb042bd1e6",
   "metadata": {},
   "outputs": [
    {
     "name": "stdout",
     "output_type": "stream",
     "text": [
      "Matched\n",
      "Matched\n"
     ]
    }
   ],
   "source": [
    "import re\n",
    "\n",
    "# Using the vertical bar\n",
    "pattern = r'hello|world'\n",
    "text = 'hello'\n",
    "match = re.search(pattern, text)\n",
    "if match:\n",
    "    print(\"Matched\")\n",
    "\n",
    "# Using square brackets\n",
    "pattern = r'[abc]'\n",
    "text = 'a'\n",
    "match = re.search(pattern, text)\n",
    "if match:\n",
    "    print(\"Matched\")\n"
   ]
  },
  {
   "cell_type": "markdown",
   "id": "435ae00c-f009-4907-b912-4eeadf827e49",
   "metadata": {},
   "source": [
    "In the first example, the pattern hello|world matches either hello or world. In the second example, the pattern [abc] matches any of the characters a, b, or c."
   ]
  },
  {
   "cell_type": "markdown",
   "id": "ebd5ca29-fc83-442d-9bd2-c11534f04811",
   "metadata": {},
   "source": [
    "# Q8. In regular-expression search patterns, why is it necessary to use the raw-string indicator (r)? In replacement strings?\n",
    "\n",
    "A8. In regular-expression search patterns, it is necessary to use the raw-string indicator \"r\" to prevent special characters such as backslashes from being interpreted as escape sequences. In replacement strings, it is also recommended to use the raw-string indicator to prevent unintended escape sequences from being inserted into the replaced text.Q8. In regular-expression search patterns, why is it necessary to use the raw-string indicator (r)? In replacement strings?\n",
    "\n",
    "A8. In regular-expression search patterns, it is necessary to use the raw-string indicator \"r\" to prevent special characters such as backslashes from being interpreted as escape sequences. In replacement strings, it is also recommended to use the raw-string indicator to prevent unintended escape sequences from being inserted into the replaced text."
   ]
  },
  {
   "cell_type": "code",
   "execution_count": 8,
   "id": "a8a5ae2d-f497-492d-8797-ef4b99444ec5",
   "metadata": {},
   "outputs": [
    {
     "name": "stdout",
     "output_type": "stream",
     "text": [
      "Smith, John\n"
     ]
    }
   ],
   "source": [
    "import re\n",
    "\n",
    "pattern = r'(\\w+) (\\w+)'\n",
    "text = 'John Smith'\n",
    "replacement = r'\\2, \\1'\n",
    "new_text = re.sub(pattern, replacement, text)\n",
    "print(new_text)  # Output:\n"
   ]
  }
 ],
 "metadata": {
  "kernelspec": {
   "display_name": "Python 3 (ipykernel)",
   "language": "python",
   "name": "python3"
  },
  "language_info": {
   "codemirror_mode": {
    "name": "ipython",
    "version": 3
   },
   "file_extension": ".py",
   "mimetype": "text/x-python",
   "name": "python",
   "nbconvert_exporter": "python",
   "pygments_lexer": "ipython3",
   "version": "3.10.6"
  }
 },
 "nbformat": 4,
 "nbformat_minor": 5
}
