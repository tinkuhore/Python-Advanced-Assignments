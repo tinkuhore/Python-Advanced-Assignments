{
 "cells": [
  {
   "cell_type": "markdown",
   "id": "2e6578f7-bfaf-4759-9c19-7a6d90652fe9",
   "metadata": {},
   "source": [
    "# Q1. What is the concept of a metaclass?\n",
    "\n",
    "A metaclass is a class that defines the behavior of other classes. It is a concept in object-oriented programming that allows us to customize class creation. Every class in Python is an instance of a metaclass. Metaclasses are used to define new types, modify class attributes, and create classes dynamically at runtime."
   ]
  },
  {
   "cell_type": "markdown",
   "id": "89ecb673-d0c1-4b32-86a7-3ce2e0b08c80",
   "metadata": {},
   "source": [
    "# Q2. What is the best way to declare a class's metaclass?\n",
    "\n",
    "The best way to declare a class's metaclass is to use the metaclass argument in the class definition. Here is an example:"
   ]
  },
  {
   "cell_type": "code",
   "execution_count": 1,
   "id": "a454013a-5ff0-4ef4-907d-f4d55af0044f",
   "metadata": {},
   "outputs": [],
   "source": [
    "class MyMeta(type):\n",
    "    pass\n",
    "\n",
    "class MyClass(metaclass=MyMeta):\n",
    "    pass\n"
   ]
  },
  {
   "cell_type": "markdown",
   "id": "c5c7bb05-ce49-4986-a630-6dbb0ebabfab",
   "metadata": {},
   "source": [
    "# Q3. How do class decorators overlap with metaclasses for handling classes?\n",
    "\n",
    "Class decorators and metaclasses can be used to achieve similar goals, but they work in different ways. Class decorators are applied to the class after it has been created, while metaclasses are used to create the class.\n",
    "\n",
    "Here is an example of a class decorator that modifies a class:"
   ]
  },
  {
   "cell_type": "code",
   "execution_count": 2,
   "id": "836f8e54-edbb-43e6-86cd-44e93baecece",
   "metadata": {},
   "outputs": [],
   "source": [
    "def add_attr(cls):\n",
    "    cls.new_attr = 'new attribute'\n",
    "    return cls\n",
    "\n",
    "@add_attr\n",
    "class MyClass:\n",
    "    pass\n"
   ]
  },
  {
   "cell_type": "markdown",
   "id": "eefd0417-53a5-4989-890e-1506cd539cf7",
   "metadata": {},
   "source": [
    "This decorator adds a new attribute new_attr to the MyClass class. We can achieve the same result using a metaclass:"
   ]
  },
  {
   "cell_type": "code",
   "execution_count": 3,
   "id": "d25a897d-8463-45a7-a510-f0532e4d81a0",
   "metadata": {},
   "outputs": [],
   "source": [
    "class MyMeta(type):\n",
    "    def __init__(cls, name, bases, attrs):\n",
    "        super().__init__(name, bases, attrs)\n",
    "        cls.new_attr = 'new attribute'\n",
    "\n",
    "class MyClass(metaclass=MyMeta):\n",
    "    pass\n"
   ]
  },
  {
   "cell_type": "markdown",
   "id": "0bb978c2-3331-4b40-8a88-6014f45640fb",
   "metadata": {},
   "source": [
    "In this case, the MyMeta metaclass adds the new_attr attribute to the MyClass class."
   ]
  },
  {
   "cell_type": "markdown",
   "id": "92fa7d93-f4d0-49dc-8081-881cb1796a7b",
   "metadata": {},
   "source": [
    "# Q4. How do class decorators overlap with metaclasses for handling instances?\n",
    "\n",
    "Class decorators and metaclasses can also be used to modify instances of a class. Class decorators are applied to the class after it has been created, so they cannot modify the instances directly. Metaclasses, on the other hand, can modify the instances by defining the __call__ method.\n",
    "\n",
    "Here is an example of a metaclass that modifies instances:"
   ]
  },
  {
   "cell_type": "code",
   "execution_count": 4,
   "id": "2f450ca3-b8c6-4c2d-9238-288d6b18dc28",
   "metadata": {},
   "outputs": [
    {
     "name": "stdout",
     "output_type": "stream",
     "text": [
      "new attribute\n"
     ]
    }
   ],
   "source": [
    "class MyMeta(type):\n",
    "    def __call__(cls, *args, **kwargs):\n",
    "        instance = super().__call__(*args, **kwargs)\n",
    "        instance.new_attr = 'new attribute'\n",
    "        return instance\n",
    "\n",
    "class MyClass(metaclass=MyMeta):\n",
    "    pass\n",
    "\n",
    "my_instance = MyClass()\n",
    "print(my_instance.new_attr)  # prints 'new attribute'\n"
   ]
  },
  {
   "cell_type": "markdown",
   "id": "d53fdfaa-c225-42bd-b969-90d2d167c35b",
   "metadata": {},
   "source": [
    "In this example, the MyMeta metaclass defines the __call__ method to modify instances of MyClass. When an instance of MyClass is created, the __call__ method is called and adds the new_attr attribute to the instance."
   ]
  }
 ],
 "metadata": {
  "kernelspec": {
   "display_name": "Python 3 (ipykernel)",
   "language": "python",
   "name": "python3"
  },
  "language_info": {
   "codemirror_mode": {
    "name": "ipython",
    "version": 3
   },
   "file_extension": ".py",
   "mimetype": "text/x-python",
   "name": "python",
   "nbconvert_exporter": "python",
   "pygments_lexer": "ipython3",
   "version": "3.10.6"
  }
 },
 "nbformat": 4,
 "nbformat_minor": 5
}
