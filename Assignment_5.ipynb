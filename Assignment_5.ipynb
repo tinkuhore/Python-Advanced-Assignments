{
 "cells": [
  {
   "cell_type": "markdown",
   "id": "23d374eb-9bdf-4444-9348-d5b82b8856e9",
   "metadata": {},
   "source": [
    "# Q1. What is the meaning of multiple inheritance?Q1. What is the meaning of multiple inheritance?\n",
    "\n",
    "Multiple inheritance is a feature in object-oriented programming where a subclass can inherit from multiple parent classes. This allows the subclass to inherit attributes and behaviors from all of its parent classes.\n",
    "\n",
    "Here's an example of a class that uses multiple inheritance.\n",
    "In this example, C inherits from both A and B, which means that it can call methods defined in both classes.In this example, C inherits from both A and B, which means that it can call methods defined in both classes."
   ]
  },
  {
   "cell_type": "code",
   "execution_count": 7,
   "id": "50605569-0b30-4138-94db-33cbc6665274",
   "metadata": {},
   "outputs": [
    {
     "name": "stdout",
     "output_type": "stream",
     "text": [
      "Method A\n",
      "Method B\n",
      "Method C\n"
     ]
    }
   ],
   "source": [
    "class A:\n",
    "    def method_a(self):\n",
    "        print(\"Method A\")\n",
    "\n",
    "class B:\n",
    "    def method_b(self):\n",
    "        print(\"Method B\")\n",
    "\n",
    "class C(A, B):\n",
    "    def method_c(self):\n",
    "        print(\"Method C\")\n",
    "\n",
    "c = C()\n",
    "c.method_a()    # prints \"Method A\"\n",
    "c.method_b()    # prints \"Method B\"\n",
    "c.method_c()    # prints \"Method C\"\n"
   ]
  },
  {
   "cell_type": "markdown",
   "id": "523b549d-8861-425c-a979-0833d6c9a2b9",
   "metadata": {},
   "source": [
    "# Q2. What is the concept of delegation?\n",
    "\n",
    "Delegation is a programming technique where one object passes responsibility for a particular task to another object. In other words, instead of implementing the task itself, the object delegates the task to another object that is better suited to perform it.\n",
    "\n",
    "Here's an example of delegation in Python:"
   ]
  },
  {
   "cell_type": "code",
   "execution_count": 8,
   "id": "b754c1b6-9f08-474d-9be5-303a92df3c63",
   "metadata": {},
   "outputs": [
    {
     "name": "stdout",
     "output_type": "stream",
     "text": [
      "Bob is managing\n",
      "Alice is working\n"
     ]
    }
   ],
   "source": [
    "class Worker:\n",
    "    def __init__(self, name):\n",
    "        self.name = name\n",
    "\n",
    "    def work(self):\n",
    "        print(f\"{self.name} is working\")\n",
    "\n",
    "class Manager:\n",
    "    def __init__(self, name, worker):\n",
    "        self.name = name\n",
    "        self.worker = worker\n",
    "\n",
    "    def manage(self):\n",
    "        print(f\"{self.name} is managing\")\n",
    "        self.worker.work()\n",
    "\n",
    "worker = Worker(\"Alice\")\n",
    "manager = Manager(\"Bob\", worker)\n",
    "manager.manage()    # prints \"Bob is managing\" and \"Alice is working\"\n"
   ]
  },
  {
   "cell_type": "markdown",
   "id": "b5e83797-b86b-4434-a930-c4cd10ff3c0c",
   "metadata": {},
   "source": [
    "In this example, the Manager class delegates the work task to the Worker object. The Manager object doesn't know how to perform the work task itself, so it passes the responsibility to the Worker object.\n"
   ]
  },
  {
   "cell_type": "markdown",
   "id": "a2228303-ffc3-4067-abb8-dda6ee785f96",
   "metadata": {},
   "source": [
    "# Q3. What is the concept of composition?\n",
    "\n",
    "Composition is a programming technique where a class contains one or more objects of another class as member variables. This allows the class to use the behavior of the contained objects to implement its own behavior.\n",
    "\n",
    "Here's an example of composition in Python:"
   ]
  },
  {
   "cell_type": "code",
   "execution_count": 9,
   "id": "f720cacc-c17b-4903-a66b-a0e1b20ccc01",
   "metadata": {},
   "outputs": [
    {
     "name": "stdout",
     "output_type": "stream",
     "text": [
      "Starting car...\n",
      "Engine started\n",
      "Stopping car...\n",
      "Engine stopped\n"
     ]
    }
   ],
   "source": [
    "class Engine:\n",
    "    def start(self):\n",
    "        print(\"Engine started\")\n",
    "\n",
    "    def stop(self):\n",
    "        print(\"Engine stopped\")\n",
    "\n",
    "class Car:\n",
    "    def __init__(self):\n",
    "        self.engine = Engine()\n",
    "\n",
    "    def start(self):\n",
    "        print(\"Starting car...\")\n",
    "        self.engine.start()\n",
    "\n",
    "    def stop(self):\n",
    "        print(\"Stopping car...\")\n",
    "        self.engine.stop()\n",
    "\n",
    "car = Car()\n",
    "car.start()    \n",
    "car.stop()     \n"
   ]
  },
  {
   "cell_type": "markdown",
   "id": "0f6fefbb-b71f-4226-b9ab-6455abb171f3",
   "metadata": {},
   "source": [
    "In this example, the Car class contains an object of the Engine class as a member variable. The Car class delegates the start and stop tasks to the Engine object, which allows it to implement its own behavior.\n"
   ]
  },
  {
   "cell_type": "markdown",
   "id": "86bfe4cb-0baf-47f6-9987-cd8c9fd1d611",
   "metadata": {},
   "source": [
    "# Q4. What are bound methods and how do we use them?\n",
    "\n",
    "In Python, a method is a function that is defined inside a class, and is called on an instance of that class. When a method is called on an instance, the instance is automatically passed as the first argument to the method. This is called the \"self\" parameter, and it represents the instance that the method is called on.\n",
    "\n",
    "A bound method is a method that is bound to an instance of a class. This means that the method is associated with the instance, and when it is called, the instance is automatically passed as the first argument (i.e., the \"self\" parameter).\n",
    "\n",
    "Here's an example of using a bound method in Python:\n"
   ]
  },
  {
   "cell_type": "code",
   "execution_count": 10,
   "id": "3c9ad664-0471-4c30-9b1d-021202654429",
   "metadata": {},
   "outputs": [
    {
     "name": "stdout",
     "output_type": "stream",
     "text": [
      "My value is 42\n"
     ]
    }
   ],
   "source": [
    "class MyClass:\n",
    "    def __init__(self, value):\n",
    "        self.value = value\n",
    "\n",
    "    def my_method(self):\n",
    "        print(f\"My value is {self.value}\")\n",
    "\n",
    "obj = MyClass(42)\n",
    "bound_method = obj.my_method\n",
    "bound_method()   \n"
   ]
  },
  {
   "cell_type": "markdown",
   "id": "87676974-1f0a-4b05-9025-4ec7bc7c3fb0",
   "metadata": {},
   "source": [
    "In this example, obj is an instance of the MyClass class, and my_method is a method defined in that class. We create a bound method bound_method by assigning obj.my_method to it. When we call bound_method(), the instance obj is automatically passed as the first argument to my_method, and the method is able to access the value attribute of the instance."
   ]
  }
 ],
 "metadata": {
  "kernelspec": {
   "display_name": "Python 3 (ipykernel)",
   "language": "python",
   "name": "python3"
  },
  "language_info": {
   "codemirror_mode": {
    "name": "ipython",
    "version": 3
   },
   "file_extension": ".py",
   "mimetype": "text/x-python",
   "name": "python",
   "nbconvert_exporter": "python",
   "pygments_lexer": "ipython3",
   "version": "3.10.6"
  }
 },
 "nbformat": 4,
 "nbformat_minor": 5
}
