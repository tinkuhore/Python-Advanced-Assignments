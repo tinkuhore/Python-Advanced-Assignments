{
 "cells": [
  {
   "cell_type": "markdown",
   "id": "035f0e0e-744b-4958-89e7-76a6c06399e9",
   "metadata": {},
   "source": [
    "# Q1. Is an assignment operator like += only for show? Is it possible that it would lead to faster results at the runtime?\n",
    "\n",
    "Ans: An assignment operator like += is not just for show in Python, and it can lead to faster results at runtime in certain situations. This is because Python does not create a new object when += is used to modify a mutable object in place, such as a list or dictionary. Instead, it modifies the existing object, which can be more efficient than creating a new one.\n",
    "\n",
    "Example:"
   ]
  },
  {
   "cell_type": "code",
   "execution_count": 1,
   "id": "3c8a9a77-4bfe-42dd-9379-7ac10c72640c",
   "metadata": {},
   "outputs": [
    {
     "name": "stdout",
     "output_type": "stream",
     "text": [
      "[1, 2, 3, 4, 5, 6]\n"
     ]
    }
   ],
   "source": [
    "# Using += operator to append to a list\n",
    "my_list = [1, 2, 3]\n",
    "my_list += [4, 5, 6]\n",
    "print(my_list)  # Output: [1, 2, 3, 4, 5, 6]\n",
    "\n"
   ]
  },
  {
   "cell_type": "markdown",
   "id": "4a0373a2-970f-478d-a89f-3c93f6d48642",
   "metadata": {},
   "source": [
    "# Q2. What is the smallest number of statements you&#39;d have to write in most programming languages to replace the Python expression a, b = a + b, a?\n",
    "\n",
    "Ans: In most programming languages, you would need three statements to replace the Python expression a, b = a + b, a. The three statements would be:\n",
    "\n"
   ]
  },
  {
   "cell_type": "code",
   "execution_count": 3,
   "id": "3e2d8e99-46b5-4c90-9489-d411b30490c7",
   "metadata": {},
   "outputs": [
    {
     "name": "stdout",
     "output_type": "stream",
     "text": [
      "5 2\n"
     ]
    }
   ],
   "source": [
    "a , b = 2, 3\n",
    "temp=a\n",
    "a= a+ b\n",
    "b = temp\n",
    "print(a,b)\n",
    "\n"
   ]
  },
  {
   "cell_type": "markdown",
   "id": "d36ebfa7-d76b-442c-8277-7b7f2aee3d3c",
   "metadata": {},
   "source": [
    "# Q3. In Python, what is the most effective way to set a list of 100 integers to 0?\n",
    "\n",
    "Ans: In Python, the most effective way to set a list of 100 integers to 0 is to use a list comprehension:"
   ]
  },
  {
   "cell_type": "code",
   "execution_count": 4,
   "id": "9b1bd6c5-ba81-4b0d-9cbf-78e93403aba5",
   "metadata": {},
   "outputs": [
    {
     "data": {
      "text/plain": [
       "[0,\n",
       " 0,\n",
       " 0,\n",
       " 0,\n",
       " 0,\n",
       " 0,\n",
       " 0,\n",
       " 0,\n",
       " 0,\n",
       " 0,\n",
       " 0,\n",
       " 0,\n",
       " 0,\n",
       " 0,\n",
       " 0,\n",
       " 0,\n",
       " 0,\n",
       " 0,\n",
       " 0,\n",
       " 0,\n",
       " 0,\n",
       " 0,\n",
       " 0,\n",
       " 0,\n",
       " 0,\n",
       " 0,\n",
       " 0,\n",
       " 0,\n",
       " 0,\n",
       " 0,\n",
       " 0,\n",
       " 0,\n",
       " 0,\n",
       " 0,\n",
       " 0,\n",
       " 0,\n",
       " 0,\n",
       " 0,\n",
       " 0,\n",
       " 0,\n",
       " 0,\n",
       " 0,\n",
       " 0,\n",
       " 0,\n",
       " 0,\n",
       " 0,\n",
       " 0,\n",
       " 0,\n",
       " 0,\n",
       " 0,\n",
       " 0,\n",
       " 0,\n",
       " 0,\n",
       " 0,\n",
       " 0,\n",
       " 0,\n",
       " 0,\n",
       " 0,\n",
       " 0,\n",
       " 0,\n",
       " 0,\n",
       " 0,\n",
       " 0,\n",
       " 0,\n",
       " 0,\n",
       " 0,\n",
       " 0,\n",
       " 0,\n",
       " 0,\n",
       " 0,\n",
       " 0,\n",
       " 0,\n",
       " 0,\n",
       " 0,\n",
       " 0,\n",
       " 0,\n",
       " 0,\n",
       " 0,\n",
       " 0,\n",
       " 0,\n",
       " 0,\n",
       " 0,\n",
       " 0,\n",
       " 0,\n",
       " 0,\n",
       " 0,\n",
       " 0,\n",
       " 0,\n",
       " 0,\n",
       " 0,\n",
       " 0,\n",
       " 0,\n",
       " 0,\n",
       " 0,\n",
       " 0,\n",
       " 0,\n",
       " 0,\n",
       " 0,\n",
       " 0,\n",
       " 0]"
      ]
     },
     "execution_count": 4,
     "metadata": {},
     "output_type": "execute_result"
    }
   ],
   "source": [
    "my_list = [0 for _ in range(100)]\n",
    "\n",
    "my_list"
   ]
  },
  {
   "cell_type": "markdown",
   "id": "992a3a31-3575-4ecf-a6a8-85dea53e49e9",
   "metadata": {},
   "source": [
    "# Q4. What is the most effective way to initialise a list of 99 integers that repeats the sequence 1, 2, 3? S If necessary, show step-by-step instructions on how to accomplish this.\n",
    "\n",
    "Ans: The most effective way to initialize a list of 99 integers that repeats the sequence 1, 2, 3 is to use a list comprehension with the modulo operator:\n"
   ]
  },
  {
   "cell_type": "code",
   "execution_count": 5,
   "id": "a4977922-f75d-457a-8db7-8dc51d63dd11",
   "metadata": {},
   "outputs": [
    {
     "data": {
      "text/plain": [
       "[1,\n",
       " 2,\n",
       " 3,\n",
       " 1,\n",
       " 2,\n",
       " 3,\n",
       " 1,\n",
       " 2,\n",
       " 3,\n",
       " 1,\n",
       " 2,\n",
       " 3,\n",
       " 1,\n",
       " 2,\n",
       " 3,\n",
       " 1,\n",
       " 2,\n",
       " 3,\n",
       " 1,\n",
       " 2,\n",
       " 3,\n",
       " 1,\n",
       " 2,\n",
       " 3,\n",
       " 1,\n",
       " 2,\n",
       " 3,\n",
       " 1,\n",
       " 2,\n",
       " 3,\n",
       " 1,\n",
       " 2,\n",
       " 3,\n",
       " 1,\n",
       " 2,\n",
       " 3,\n",
       " 1,\n",
       " 2,\n",
       " 3,\n",
       " 1,\n",
       " 2,\n",
       " 3,\n",
       " 1,\n",
       " 2,\n",
       " 3,\n",
       " 1,\n",
       " 2,\n",
       " 3,\n",
       " 1,\n",
       " 2,\n",
       " 3,\n",
       " 1,\n",
       " 2,\n",
       " 3,\n",
       " 1,\n",
       " 2,\n",
       " 3,\n",
       " 1,\n",
       " 2,\n",
       " 3,\n",
       " 1,\n",
       " 2,\n",
       " 3,\n",
       " 1,\n",
       " 2,\n",
       " 3,\n",
       " 1,\n",
       " 2,\n",
       " 3,\n",
       " 1,\n",
       " 2,\n",
       " 3,\n",
       " 1,\n",
       " 2,\n",
       " 3,\n",
       " 1,\n",
       " 2,\n",
       " 3,\n",
       " 1,\n",
       " 2,\n",
       " 3,\n",
       " 1,\n",
       " 2,\n",
       " 3,\n",
       " 1,\n",
       " 2,\n",
       " 3,\n",
       " 1,\n",
       " 2,\n",
       " 3,\n",
       " 1,\n",
       " 2,\n",
       " 3,\n",
       " 1,\n",
       " 2,\n",
       " 3,\n",
       " 1,\n",
       " 2,\n",
       " 3]"
      ]
     },
     "execution_count": 5,
     "metadata": {},
     "output_type": "execute_result"
    }
   ],
   "source": [
    "my_list = [(i % 3) + 1 for i in range(99)]\n",
    "\n",
    "my_list"
   ]
  },
  {
   "cell_type": "markdown",
   "id": "b8d40caa-8e7e-46f0-80aa-b69d1bab336c",
   "metadata": {},
   "source": [
    "# Q5. If you&#39;re using IDLE to run a Python application, explain how to print a multidimensional list as efficiently?\n",
    "\n",
    "Ans:  To print a multidimensional list efficiently in IDLE, we can use the pprint module (pretty print):"
   ]
  },
  {
   "cell_type": "code",
   "execution_count": 9,
   "id": "579be79f-a6f6-491a-8851-b088d880edfb",
   "metadata": {},
   "outputs": [
    {
     "name": "stdout",
     "output_type": "stream",
     "text": [
      "[[1, 2, 3], [4, 5, 6], [7, 8, 9]]\n",
      "[[1, 2, 3], [4, 5, 6], [7, 8, 9]]\n"
     ]
    }
   ],
   "source": [
    "import pprint\n",
    "\n",
    "my_list = [[1, 2, 3], [4, 5, 6], [7, 8, 9]]\n",
    "pprint.pprint(my_list)\n",
    "print(my_list)"
   ]
  },
  {
   "cell_type": "markdown",
   "id": "561b87f2-07af-4ec2-9394-446b3b63b66d",
   "metadata": {},
   "source": [
    "# Q6. Is it possible to use list comprehension with a string? If so, how can you go about doing it?\n",
    "\n",
    "Ans: Yes, it is possible to use list comprehension with a string. We can treat the string as a sequence of characters and apply list comprehension to it:\n"
   ]
  },
  {
   "cell_type": "code",
   "execution_count": 10,
   "id": "93a7ea64-fee9-412c-9c45-c057e8625058",
   "metadata": {},
   "outputs": [
    {
     "name": "stdout",
     "output_type": "stream",
     "text": [
      "['h', 'e', 'l', 'l', 'o']\n"
     ]
    }
   ],
   "source": [
    "my_string = \"hello\"\n",
    "my_list = [char for char in my_string]\n",
    "print(my_list)  # Output: ['h', 'e', 'l', 'l', 'o']\n",
    "\n"
   ]
  },
  {
   "cell_type": "markdown",
   "id": "98085817-e282-40c4-89bb-77abb167edec",
   "metadata": {},
   "source": [
    "# Q7. From the command line, how do you get support with a user-written Python programme? Is this possible from inside IDLE?\n",
    "\n",
    "Ans: From the command line, we can get support with a user-written Python program by including help text in the program and using the built-in help() function to access it. We can also use the argparse module to create a command-line interface with options and arguments.\n",
    "\n",
    "In IDLE, we can access help by typing the name of the function or module followed by a question mark (?) in the console."
   ]
  },
  {
   "cell_type": "markdown",
   "id": "e7780573-f8a9-4bd8-b573-a10169fdb9ad",
   "metadata": {},
   "source": [
    "# Q8. Functions are said to be “first-class objects” in Python but not in most other languages, such as C++ or Java. What can you do in Python with a function (callable object) that you can&#39;t do in C or C++?\n",
    "\n",
    "Ans: In Python, functions are first-class objects, which means they can be treated like any other object, such as integers or strings. This allows us to pass functions as arguments to other functions, return functions from functions, and store functions in variables or data structures.\n",
    "\n",
    "This is not possible in C or C++ because functions are not treated as objects, but rather as separate units of code."
   ]
  },
  {
   "cell_type": "markdown",
   "id": "b5a7fd28-5602-4f9b-8acd-6bcd82f47ff9",
   "metadata": {},
   "source": [
    "# Q9. How do you distinguish between a wrapper, a wrapped feature, and a decorator?\n",
    "\n",
    "Ans: In Python, a wrapper is a function that wraps another function and adds some additional functionality to it, such as logging or error handling. The wrapped feature is the original function being wrapped, and the decorator is a special type of wrapper that uses the @ symbol to modify the behavior of the wrapped feature.\n",
    "\n"
   ]
  },
  {
   "cell_type": "markdown",
   "id": "db48f5cd-84c6-499b-9513-d0ccea5fb6af",
   "metadata": {},
   "source": [
    "# Q10. If a function is a generator function, what does it return?\n",
    "\n",
    "Ans: A generator function returns a generator object when called. The generator object can be iterated over to produce a sequence of values on the fly, without generating the entire sequence at once in memory.\n",
    "Example:"
   ]
  },
  {
   "cell_type": "code",
   "execution_count": 11,
   "id": "0ac29cd0-019a-443f-958b-c439c23a9a34",
   "metadata": {},
   "outputs": [
    {
     "name": "stdout",
     "output_type": "stream",
     "text": [
      "5\n",
      "4\n",
      "3\n"
     ]
    }
   ],
   "source": [
    "def countdown(n):\n",
    "    while n > 0:\n",
    "        yield n\n",
    "        n -= 1\n",
    "\n",
    "g = countdown(5)\n",
    "print(next(g))  # 5\n",
    "print(next(g))  # 4\n",
    "print(next(g))  # 3\n"
   ]
  },
  {
   "cell_type": "markdown",
   "id": "1019084e-373b-46e3-bb0e-0160db810876",
   "metadata": {},
   "source": [
    "# Q11. What is the one improvement that must be made to a function in order for it to become a generator function in the Python language?\n",
    "\n",
    "Ans: To turn a regular function into a generator function, the yield keyword must be used instead of return to produce a value on each iteration.\n",
    "Example:"
   ]
  },
  {
   "cell_type": "code",
   "execution_count": 12,
   "id": "67a366d1-cd43-4e62-8933-394797db3bfe",
   "metadata": {},
   "outputs": [],
   "source": [
    "def countdown(n):\n",
    "    while n > 0:\n",
    "        yield n\n",
    "        n -= 1\n"
   ]
  },
  {
   "cell_type": "markdown",
   "id": "57784b52-177e-4ec3-9396-4dab72cbb90f",
   "metadata": {},
   "source": [
    "# Q12. Identify at least one benefit of generators.\n",
    "\n",
    "Ans: One benefit of generators is that they allow for lazy evaluation, meaning that values are only generated as needed, rather than all at once. This can save memory and improve performance for large datasets. Additionally, generators can be used to generate infinite sequences, which is not possible with regular lists.\n",
    "Example:"
   ]
  },
  {
   "cell_type": "code",
   "execution_count": 13,
   "id": "1787006c-e44d-4f0e-bf8a-80b086bc13b5",
   "metadata": {},
   "outputs": [
    {
     "name": "stdout",
     "output_type": "stream",
     "text": [
      "0\n",
      "1\n",
      "1\n",
      "2\n",
      "3\n",
      "5\n",
      "8\n",
      "13\n",
      "21\n",
      "34\n"
     ]
    }
   ],
   "source": [
    "def fibonacci():\n",
    "    a, b = 0, 1\n",
    "    while True:\n",
    "        yield a\n",
    "        a, b = b, a + b\n",
    "\n",
    "# Generate the first 10 numbers in the Fibonacci sequence\n",
    "for i, num in enumerate(fibonacci()):\n",
    "    if i == 10:\n",
    "        break\n",
    "    print(num)\n"
   ]
  },
  {
   "cell_type": "code",
   "execution_count": null,
   "id": "f7f84acb-ed97-458a-9213-51ac6e0c07bd",
   "metadata": {},
   "outputs": [],
   "source": []
  }
 ],
 "metadata": {
  "kernelspec": {
   "display_name": "Python 3 (ipykernel)",
   "language": "python",
   "name": "python3"
  },
  "language_info": {
   "codemirror_mode": {
    "name": "ipython",
    "version": 3
   },
   "file_extension": ".py",
   "mimetype": "text/x-python",
   "name": "python",
   "nbconvert_exporter": "python",
   "pygments_lexer": "ipython3",
   "version": "3.10.6"
  }
 },
 "nbformat": 4,
 "nbformat_minor": 5
}
