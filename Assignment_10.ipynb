{
 "cells": [
  {
   "cell_type": "markdown",
   "id": "90d0a16c-116b-49c0-acc5-66679e2eda5f",
   "metadata": {
    "tags": []
   },
   "source": [
    "# Q1. What is the difference between getattr and getattribute?\n",
    "\n",
    "In Python, both __getattr__ and __getattribute__ are methods used to define attribute access in classes. The main difference between them is that __getattr__ is only called when an attribute is not found through the normal lookup mechanism, whereas __getattribute__ is called for every attribute access.\n",
    "\n",
    "Here is an example:"
   ]
  },
  {
   "cell_type": "markdown",
   "id": "098215cb-5aa4-4db0-bbd9-b6025f86f1eb",
   "metadata": {},
   "source": [
    "In the example above, __getattr__ will only be called when the attribute y is accessed, because x is found through the normal lookup mechanism. However, __getattribute__ is called for both x and y attribute access."
   ]
  },
  {
   "cell_type": "code",
   "execution_count": 1,
   "id": "ceb480cf-162b-4b55-8234-410a9cee8a31",
   "metadata": {},
   "outputs": [
    {
     "name": "stdout",
     "output_type": "stream",
     "text": [
      "accessing x\n",
      "accessing y\n",
      "y not found\n"
     ]
    }
   ],
   "source": [
    "class MyClass:\n",
    "    def __init__(self):\n",
    "        self.x = 10\n",
    "\n",
    "    def __getattr__(self, attr):\n",
    "        print(f\"{attr} not found\")\n",
    "        return None\n",
    "\n",
    "    def __getattribute__(self, attr):\n",
    "        print(f\"accessing {attr}\")\n",
    "        return super().__getattribute__(attr)\n",
    "\n",
    "obj = MyClass()\n",
    "obj.x\n",
    "obj.y\n"
   ]
  },
  {
   "cell_type": "markdown",
   "id": "9f82f57d-8722-40ed-aec7-26d0e204994f",
   "metadata": {},
   "source": [
    "# Q2. What is the difference between properties and descriptors?\n",
    "\n",
    "In Python, both properties and descriptors are used to manage attribute access in classes, but they have different levels of control over the attribute.\n",
    "\n",
    "A property is a simpler way to define a read-only attribute. It provides a getter method for retrieving the value of the attribute, and optionally a setter method for changing it. Properties can be defined using the @property decorator.\n",
    "\n",
    "A descriptor is a more general mechanism for controlling access to attributes. It defines a set of methods that can be used to access and modify the attribute, and can be customized to implement different levels of control over the attribute. Descriptors can be defined by creating a class that implements one or more of the descriptor methods, such as __get__, __set__, and __delete__.\n",
    "\n",
    "Here is an example:"
   ]
  },
  {
   "cell_type": "code",
   "execution_count": 2,
   "id": "628088d3-ce09-484b-947b-cb27d40b0dc6",
   "metadata": {},
   "outputs": [
    {
     "name": "stdout",
     "output_type": "stream",
     "text": [
      "20\n",
      "30\n"
     ]
    }
   ],
   "source": [
    "class MyProperty:\n",
    "    def __init__(self, value):\n",
    "        self._value = value\n",
    "\n",
    "    @property\n",
    "    def value(self):\n",
    "        print(\"getting value\")\n",
    "        return self._value\n",
    "\n",
    "class MyDescriptor:\n",
    "    def __get__(self, obj, objtype=None):\n",
    "        print(\"getting value\")\n",
    "        return obj._value\n",
    "\n",
    "    def __set__(self, obj, value):\n",
    "        print(\"setting value\")\n",
    "        obj._value = value\n",
    "\n",
    "class MyClass:\n",
    "    def __init__(self):\n",
    "        self.x = MyDescriptor()\n",
    "        self.y = MyProperty(10)\n",
    "\n",
    "obj = MyClass()\n",
    "obj.x = 20\n",
    "obj.y = 30\n",
    "print(obj.x)\n",
    "print(obj.y)\n"
   ]
  },
  {
   "cell_type": "markdown",
   "id": "89890361-c14c-4940-a36b-ae39fe607743",
   "metadata": {},
   "source": [
    "In the example above, MyProperty defines a read-only attribute using the @property decorator, while MyDescriptor defines an attribute with custom getter and setter methods. In MyClass, x is defined using MyDescriptor, while y is defined using MyProperty."
   ]
  },
  {
   "cell_type": "markdown",
   "id": "34435922-4a42-4a87-86d5-373b55f3aee8",
   "metadata": {},
   "source": [
    "# Q3. What are the key differences in functionality between getattr and getattribute, as well as properties and descriptors?\n",
    "\n",
    "The main differences in functionality between __getattr__ and __getattribute__ are that __getattr__ is only called when an attribute is not found through the normal lookup mechanism, while __getattribute__ is called for every attribute access. This means that __getattribute__ can be used to intercept and modify all attribute access, while __getattr__ can only be used to intercept attribute access for attributes that do not exist."
   ]
  }
 ],
 "metadata": {
  "kernelspec": {
   "display_name": "Python 3 (ipykernel)",
   "language": "python",
   "name": "python3"
  },
  "language_info": {
   "codemirror_mode": {
    "name": "ipython",
    "version": 3
   },
   "file_extension": ".py",
   "mimetype": "text/x-python",
   "name": "python",
   "nbconvert_exporter": "python",
   "pygments_lexer": "ipython3",
   "version": "3.10.6"
  }
 },
 "nbformat": 4,
 "nbformat_minor": 5
}
