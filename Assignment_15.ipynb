{
 "cells": [
  {
   "cell_type": "markdown",
   "id": "486a5942-1c2a-4569-b2ef-40d78ea73f44",
   "metadata": {},
   "source": [
    "# Q1. What are the new features added in Python 3.8 version?\n",
    "\n",
    "Python 3.8 introduced several new features, including:\n",
    "\n",
    "- The walrus operator (:=) for inline assignments in expressions\n",
    "- Positional-only parameters in functions\n",
    "- The ability to use the f-string syntax (f\"string\") as an expression inside f-strings\n",
    "- New syntax for specifying TypedDict types\n",
    "- Improved syntax for variable annotations\n",
    "- The ability to use the b'' syntax for bytes literals with ASCII characters\n",
    "- The new \"pickle\" protocol 5, which is faster and produces smaller pickled data\n",
    "- Improved performance in many areas, including the dictionary and list sorting algorithms"
   ]
  },
  {
   "cell_type": "markdown",
   "id": "7b8b8bdc-61cd-44e4-85ae-ab979c29c283",
   "metadata": {},
   "source": [
    "# Q2. What is monkey patching in Python?\n",
    "\n",
    "Monkey patching is a technique in Python where you modify the behavior of a module or object at runtime by dynamically changing its attributes or methods. This can be useful in situations where you need to extend or modify the functionality of an existing module, but you don't have access to the source code.\n",
    "\n",
    "Here's an example of monkey patching a method of an object:\n",
    "\n"
   ]
  },
  {
   "cell_type": "code",
   "execution_count": 9,
   "id": "0467bff8-fe7a-4f22-a527-bf1f2fff5d83",
   "metadata": {},
   "outputs": [
    {
     "name": "stdout",
     "output_type": "stream",
     "text": [
      "Hello, world!\n",
      "Goodbye, world!\n"
     ]
    }
   ],
   "source": [
    "class MyClass:\n",
    "    def my_method(self):\n",
    "        print(\"Hello, world!\")\n",
    "\n",
    "def new_method(self):\n",
    "    print(\"Goodbye, world!\")\n",
    "\n",
    "obj = MyClass()\n",
    "obj.my_method()  # prints \"Hello, world!\"\n",
    "\n",
    "MyClass.my_method = new_method  # monkey patching the class\n",
    "obj.my_method()  # prints \"Goodbye, world!\"\n"
   ]
  },
  {
   "cell_type": "markdown",
   "id": "c43a56da-2f86-4bff-872c-edfaac3c36f6",
   "metadata": {},
   "source": [
    "# Q3. What is the difference between a shallow copy and deep copy?\n",
    "\n",
    "In Python, a shallow copy creates a new object that is a copy of the original object, but the contents of the object are still references to the same objects in memory. In contrast, a deep copy creates a new object with its own copies of all the objects inside the original object, recursively.\n",
    "\n",
    "Here's an example:"
   ]
  },
  {
   "cell_type": "code",
   "execution_count": 14,
   "id": "ea3e1724-94b4-4f03-ba51-d1b1f638d435",
   "metadata": {},
   "outputs": [
    {
     "name": "stdout",
     "output_type": "stream",
     "text": [
      "True\n",
      "[[1, 2, 5], [3, 4]]\n",
      "[[1, 2, 5], [3, 4]]\n",
      "False\n",
      "[[1, 2], [3, 4]]\n",
      "[[1, 2, 5], [3, 4]]\n"
     ]
    }
   ],
   "source": [
    "import copy\n",
    "\n",
    "# shallow copy\n",
    "a = [[1, 2], [3, 4]]\n",
    "b = copy.copy(a)\n",
    "print(a[0] is b[0])  # True, same object\n",
    "b[0].append(5)\n",
    "# 5 will get appended in both a and b\n",
    "print(a)  \n",
    "print(b)\n",
    "\n",
    "# deep copy\n",
    "a = [[1, 2], [3, 4]]\n",
    "b = copy.deepcopy(a)\n",
    "print(a[0] is b[0])  # False, different objects\n",
    "b[0].append(5)\n",
    "# 5 will get appended only in b\n",
    "print(a)  \n",
    "print(b)"
   ]
  },
  {
   "cell_type": "markdown",
   "id": "fe620f3c-42af-4790-b4d5-d6299bea3423",
   "metadata": {},
   "source": [
    "# Q4. What is the maximum possible length of an identifier?\n",
    "\n",
    "In Python, the maximum possible length of an identifier is implementation-dependent. However, according to the Python documentation, identifiers can be any length and can consist of uppercase and lowercase letters, digits, and underscores (_), with the only restriction being that the first character cannot be a digit."
   ]
  },
  {
   "cell_type": "markdown",
   "id": "cdfdde5d-f018-4090-bdf6-a43dc88ea758",
   "metadata": {},
   "source": [
    "# Q5. What is generator comprehension?\n",
    "\n",
    "Generator comprehension is a concise way of creating a generator object in Python. It is similar to list comprehension, but instead of creating a list, it creates a generator object that yields values lazily, one at a time, instead of creating all the values at once in memory.\n",
    "\n",
    "Here's an example:"
   ]
  },
  {
   "cell_type": "code",
   "execution_count": 11,
   "id": "5e5ec8ee-4231-4c6e-bf87-28aae7eda5f1",
   "metadata": {},
   "outputs": [
    {
     "name": "stdout",
     "output_type": "stream",
     "text": [
      "[0, 1, 4, 9, 16, 25, 36, 49, 64, 81]\n",
      "<generator object <genexpr> at 0x7f248051f7d0>\n",
      "0\n",
      "1\n",
      "4\n",
      "9\n",
      "16\n",
      "25\n",
      "36\n",
      "49\n",
      "64\n",
      "81\n"
     ]
    }
   ],
   "source": [
    "# list comprehension\n",
    "squares = [x**2 for x in range(10)]\n",
    "print(squares)  # prints [0, 1, 4, 9, 16, 25, 36, 49, 64, 81]\n",
    "\n",
    "# generator comprehension\n",
    "squares_gen = (x**2 for x in range(10))\n",
    "print(squares_gen)  \n",
    "\n",
    "for val in squares_gen:\n",
    "    print(val)"
   ]
  },
  {
   "cell_type": "code",
   "execution_count": null,
   "id": "b5905eef-3c68-4ee8-8c33-e485347c4049",
   "metadata": {},
   "outputs": [],
   "source": []
  }
 ],
 "metadata": {
  "kernelspec": {
   "display_name": "Python 3 (ipykernel)",
   "language": "python",
   "name": "python3"
  },
  "language_info": {
   "codemirror_mode": {
    "name": "ipython",
    "version": 3
   },
   "file_extension": ".py",
   "mimetype": "text/x-python",
   "name": "python",
   "nbconvert_exporter": "python",
   "pygments_lexer": "ipython3",
   "version": "3.10.6"
  }
 },
 "nbformat": 4,
 "nbformat_minor": 5
}
